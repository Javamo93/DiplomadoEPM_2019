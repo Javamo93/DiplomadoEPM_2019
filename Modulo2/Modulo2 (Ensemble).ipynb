{
 "cells": [
  {
   "cell_type": "markdown",
   "metadata": {},
   "source": [
    "# Ensemble Methods\n",
    "\n",
    "* Also known as *Committee Machines*.\n",
    "* Improve the accuracy of a given statistical learning model by combining *weak* classifiers (it is one that is only slightly better than a random guessing) to form a *strong* classifier.\n",
    "* The ensemble estimate is given by\n",
    "\n",
    "$$\n",
    "\\hat{f}_{\\mathrm{ens}} (\\boldsymbol{x})= \\sum_{m=1}^{M} \\alpha_m\\hat{f}_m(\\boldsymbol{x}),\n",
    "$$\n",
    "\n",
    "where $\\hat{f}_m$ is built from a base procedure (usually decision trees) on the $m$th reweighted data.\n",
    "\n",
    "* It diminishes the generalization error by reducing the:\n",
    "    * Variance (*Bagging* and *Random Forests*)\n",
    "    * Bias (*Boosting*)"
   ]
  },
  {
   "cell_type": "markdown",
   "metadata": {},
   "source": [
    "# Bagging\n",
    "\n",
    "* Decision trees are known to be unstable due to small perturbations of $\\mathcal{D}$ may change radically the predictions.\n",
    "\n",
    "* Bagging (Boostrap aggregating, Breiman (1996)) was introduced to reduce the variance of a predictor.\n",
    "\n",
    "* It is an ensemble method where $\\alpha_m=1/M$, i.e.,\n",
    "\n",
    "$$\\hat{f}_{\\mathrm{bag}} (\\boldsymbol{x})= \\frac{1}{M}\\sum_{m=1}^{M} \\hat{f}_m(\\boldsymbol{x})$$\n",
    "\n",
    "* Decision trees $\\hat{f}_{\\mathcal{D},\\boldsymbol{\\theta}}(\\boldsymbol{x})$ is the most often used base procedure, where $\\boldsymbol{\\theta}$ governs the tree in terms of its split features and points at each node, and terminal-node values.\n",
    "\n",
    "* If $\\{\\hat{f}_m\\}_{m=1}^M$ are i.i.d, then\n",
    "\n",
    "$$\n",
    "\t\\begin{split}\n",
    "\t\\mathrm{Var}_{\\mathcal{D},\\boldsymbol{\\theta}_1,\\ldots,\\boldsymbol{\\theta}_M}\\left(\\hat{f}_{\\mathrm{bag}}(\\boldsymbol{x})\\right)\n",
    "\t&= \\mathrm{Var}_{\\mathcal{D},\\boldsymbol{\\theta}_1,\\ldots,\\boldsymbol{\\theta}_M}\\left(\\frac{1}{M}\\sum_{m=1}^{M} \\hat{f}_{\\mathcal{D},\\boldsymbol{\\theta}_m}(\\boldsymbol{x})\\right)\\\\\n",
    "\t&=\\frac{1}{M^2}\\sum_{m=1}^{M}\\mathrm{Var}_{\\mathcal{D},\\boldsymbol{\\theta}_m}\\left( \\hat{f}_{\\mathcal{D},\\boldsymbol{\\theta}_m}(\\boldsymbol{x})\\right)\\\\\n",
    "\t&= \\frac{\\sigma^2_{\\mathcal{D},\\boldsymbol{\\theta}}(\\boldsymbol{x})}{M} \\to 0,\\quad\\text{ as }M\\to\\infty.\n",
    "\t\\end{split}\n",
    "$$\n",
    "\n",
    "#### Bagging algorithm\n",
    "\n",
    "1. Obtain bootstrap samples $\\mathcal{D}^{*b}=\\left\\lbrace(\\boldsymbol{x}^{*b}_i,y^{*b}_i)_{i=1}^n\\right\\rbrace$, $b=1,\\ldots,B$ from $\\mathcal{D}$ by randomly drawing $n$ times with replacement.\n",
    "\n",
    "\n",
    "2. Compute bootstrapped estimators\n",
    "\n",
    "$$\\hat{f}^{*b}(\\cdot)=\\hat{f}^{*b}\\left((\\boldsymbol{x}^{*b}_1,y^{*b}_1),\\ldots,(\\boldsymbol{x}^{*b}_n,y^{*b}_n) \\right),\\quad b=1,\\ldots,B.$$\n",
    "\n",
    "3. Compute the bagged estimator\n",
    "\n",
    "$$\\hat{f}_{\\mathrm{bag}} (\\boldsymbol{x})= \\frac{1}{B}\\sum_{b=1}^{B}\\hat{f}^{*b}(\\boldsymbol{x}).$$\n",
    "\n",
    "\n",
    "### Out-of-bag (OOB) generalization error estimation\n",
    "* It is a way to get the test error of a bagged model without to perform Cross-Validation.\n",
    "* Approximately 37\\% of original instances are left out in $\\mathcal{D}^{*b}$, called the \"_out-of-bag_\" sample, $\\bar{\\mathcal{D}}^{b}=\\mathcal{D}\\setminus\\mathcal{D}^{*b}$.\n",
    "* The OOB sample can be used as an independent test set.\n",
    "* The OOB error estimate\n",
    "$$\n",
    "\\widehat{\\mathrm{Err}}_{\\mathrm{OOB}}\\left( \\hat{f}_\\mathrm{bag}\\right)  = \\frac{1}{n}\\sum_{i=1}^{n} \\frac{1}{n_B}\\sum_{b=1}^{B} I_{\\left[ (\\boldsymbol{x}_i,y_i)\\notin\\mathcal{D}^{*b}\\right] } L\\left( y_i,\\hat{f}^{*b}(\\boldsymbol{x}_i)\\right),\n",
    "$$\n",
    "where $n_B =\\sum_{b=1}^{B} I_{\\left[ (\\boldsymbol{x}_i,y_i)\\notin\\mathcal{D}^{*b}\\right]}$.\t"
   ]
  },
  {
   "cell_type": "markdown",
   "metadata": {},
   "source": [
    "# Load data"
   ]
  },
  {
   "cell_type": "code",
   "execution_count": 1,
   "metadata": {},
   "outputs": [
    {
     "name": "stdout",
     "output_type": "stream",
     "text": [
      "<class 'pandas.core.frame.DataFrame'>\n",
      "RangeIndex: 8124 entries, 0 to 8123\n",
      "Data columns (total 23 columns):\n",
      "classes                     8124 non-null object\n",
      "cap-shape                   8124 non-null object\n",
      "cap-surface                 8124 non-null object\n",
      "cap-color                   8124 non-null object\n",
      "bruises                     8124 non-null object\n",
      "odor                        8124 non-null object\n",
      "gill-attachment             8124 non-null object\n",
      "gill-spacing                8124 non-null object\n",
      "gill-size                   8124 non-null object\n",
      "gill-color                  8124 non-null object\n",
      "stalk-shape                 8124 non-null object\n",
      "stalk-root                  8124 non-null object\n",
      "stalk-surface-above-ring    8124 non-null object\n",
      "stalk-surface-below-ring    8124 non-null object\n",
      "stalk-color-above-ring      8124 non-null object\n",
      "stalk-color-below-ring      8124 non-null object\n",
      "veil-type                   8124 non-null object\n",
      "veil-color                  8124 non-null object\n",
      "ring-number                 8124 non-null object\n",
      "ring-type                   8124 non-null object\n",
      "spore-print-color           8124 non-null object\n",
      "population                  8124 non-null object\n",
      "habitat                     8124 non-null object\n",
      "dtypes: object(23)\n",
      "memory usage: 1.4+ MB\n"
     ]
    },
    {
     "data": {
      "text/html": [
       "<div>\n",
       "<style scoped>\n",
       "    .dataframe tbody tr th:only-of-type {\n",
       "        vertical-align: middle;\n",
       "    }\n",
       "\n",
       "    .dataframe tbody tr th {\n",
       "        vertical-align: top;\n",
       "    }\n",
       "\n",
       "    .dataframe thead th {\n",
       "        text-align: right;\n",
       "    }\n",
       "</style>\n",
       "<table border=\"1\" class=\"dataframe\">\n",
       "  <thead>\n",
       "    <tr style=\"text-align: right;\">\n",
       "      <th></th>\n",
       "      <th>classes</th>\n",
       "      <th>cap-shape</th>\n",
       "      <th>cap-surface</th>\n",
       "      <th>cap-color</th>\n",
       "      <th>bruises</th>\n",
       "      <th>odor</th>\n",
       "      <th>gill-attachment</th>\n",
       "      <th>gill-spacing</th>\n",
       "      <th>gill-size</th>\n",
       "      <th>gill-color</th>\n",
       "      <th>...</th>\n",
       "      <th>stalk-surface-below-ring</th>\n",
       "      <th>stalk-color-above-ring</th>\n",
       "      <th>stalk-color-below-ring</th>\n",
       "      <th>veil-type</th>\n",
       "      <th>veil-color</th>\n",
       "      <th>ring-number</th>\n",
       "      <th>ring-type</th>\n",
       "      <th>spore-print-color</th>\n",
       "      <th>population</th>\n",
       "      <th>habitat</th>\n",
       "    </tr>\n",
       "  </thead>\n",
       "  <tbody>\n",
       "    <tr>\n",
       "      <th>0</th>\n",
       "      <td>p</td>\n",
       "      <td>x</td>\n",
       "      <td>s</td>\n",
       "      <td>n</td>\n",
       "      <td>t</td>\n",
       "      <td>p</td>\n",
       "      <td>f</td>\n",
       "      <td>c</td>\n",
       "      <td>n</td>\n",
       "      <td>k</td>\n",
       "      <td>...</td>\n",
       "      <td>s</td>\n",
       "      <td>w</td>\n",
       "      <td>w</td>\n",
       "      <td>p</td>\n",
       "      <td>w</td>\n",
       "      <td>o</td>\n",
       "      <td>p</td>\n",
       "      <td>k</td>\n",
       "      <td>s</td>\n",
       "      <td>u</td>\n",
       "    </tr>\n",
       "    <tr>\n",
       "      <th>1</th>\n",
       "      <td>e</td>\n",
       "      <td>x</td>\n",
       "      <td>s</td>\n",
       "      <td>y</td>\n",
       "      <td>t</td>\n",
       "      <td>a</td>\n",
       "      <td>f</td>\n",
       "      <td>c</td>\n",
       "      <td>b</td>\n",
       "      <td>k</td>\n",
       "      <td>...</td>\n",
       "      <td>s</td>\n",
       "      <td>w</td>\n",
       "      <td>w</td>\n",
       "      <td>p</td>\n",
       "      <td>w</td>\n",
       "      <td>o</td>\n",
       "      <td>p</td>\n",
       "      <td>n</td>\n",
       "      <td>n</td>\n",
       "      <td>g</td>\n",
       "    </tr>\n",
       "    <tr>\n",
       "      <th>2</th>\n",
       "      <td>e</td>\n",
       "      <td>b</td>\n",
       "      <td>s</td>\n",
       "      <td>w</td>\n",
       "      <td>t</td>\n",
       "      <td>l</td>\n",
       "      <td>f</td>\n",
       "      <td>c</td>\n",
       "      <td>b</td>\n",
       "      <td>n</td>\n",
       "      <td>...</td>\n",
       "      <td>s</td>\n",
       "      <td>w</td>\n",
       "      <td>w</td>\n",
       "      <td>p</td>\n",
       "      <td>w</td>\n",
       "      <td>o</td>\n",
       "      <td>p</td>\n",
       "      <td>n</td>\n",
       "      <td>n</td>\n",
       "      <td>m</td>\n",
       "    </tr>\n",
       "    <tr>\n",
       "      <th>3</th>\n",
       "      <td>p</td>\n",
       "      <td>x</td>\n",
       "      <td>y</td>\n",
       "      <td>w</td>\n",
       "      <td>t</td>\n",
       "      <td>p</td>\n",
       "      <td>f</td>\n",
       "      <td>c</td>\n",
       "      <td>n</td>\n",
       "      <td>n</td>\n",
       "      <td>...</td>\n",
       "      <td>s</td>\n",
       "      <td>w</td>\n",
       "      <td>w</td>\n",
       "      <td>p</td>\n",
       "      <td>w</td>\n",
       "      <td>o</td>\n",
       "      <td>p</td>\n",
       "      <td>k</td>\n",
       "      <td>s</td>\n",
       "      <td>u</td>\n",
       "    </tr>\n",
       "    <tr>\n",
       "      <th>4</th>\n",
       "      <td>e</td>\n",
       "      <td>x</td>\n",
       "      <td>s</td>\n",
       "      <td>g</td>\n",
       "      <td>f</td>\n",
       "      <td>n</td>\n",
       "      <td>f</td>\n",
       "      <td>w</td>\n",
       "      <td>b</td>\n",
       "      <td>k</td>\n",
       "      <td>...</td>\n",
       "      <td>s</td>\n",
       "      <td>w</td>\n",
       "      <td>w</td>\n",
       "      <td>p</td>\n",
       "      <td>w</td>\n",
       "      <td>o</td>\n",
       "      <td>e</td>\n",
       "      <td>n</td>\n",
       "      <td>a</td>\n",
       "      <td>g</td>\n",
       "    </tr>\n",
       "  </tbody>\n",
       "</table>\n",
       "<p>5 rows × 23 columns</p>\n",
       "</div>"
      ],
      "text/plain": [
       "  classes cap-shape cap-surface cap-color bruises odor gill-attachment  \\\n",
       "0       p         x           s         n       t    p               f   \n",
       "1       e         x           s         y       t    a               f   \n",
       "2       e         b           s         w       t    l               f   \n",
       "3       p         x           y         w       t    p               f   \n",
       "4       e         x           s         g       f    n               f   \n",
       "\n",
       "  gill-spacing gill-size gill-color   ...   stalk-surface-below-ring  \\\n",
       "0            c         n          k   ...                          s   \n",
       "1            c         b          k   ...                          s   \n",
       "2            c         b          n   ...                          s   \n",
       "3            c         n          n   ...                          s   \n",
       "4            w         b          k   ...                          s   \n",
       "\n",
       "  stalk-color-above-ring stalk-color-below-ring veil-type veil-color  \\\n",
       "0                      w                      w         p          w   \n",
       "1                      w                      w         p          w   \n",
       "2                      w                      w         p          w   \n",
       "3                      w                      w         p          w   \n",
       "4                      w                      w         p          w   \n",
       "\n",
       "  ring-number ring-type spore-print-color population habitat  \n",
       "0           o         p                 k          s       u  \n",
       "1           o         p                 n          n       g  \n",
       "2           o         p                 n          n       m  \n",
       "3           o         p                 k          s       u  \n",
       "4           o         e                 n          a       g  \n",
       "\n",
       "[5 rows x 23 columns]"
      ]
     },
     "execution_count": 1,
     "metadata": {},
     "output_type": "execute_result"
    }
   ],
   "source": [
    "from pandas import read_csv\n",
    "\n",
    "names = [\"classes\",\"cap-shape\",\"cap-surface\",\"cap-color\",\"bruises\",\"odor\",\"gill-attachment\",\"gill-spacing\",\"gill-size\",\"gill-color\",\"stalk-shape\",\"stalk-root\",\"stalk-surface-above-ring\",\"stalk-surface-below-ring\",\"stalk-color-above-ring\",\"stalk-color-below-ring\",\"veil-type\",\"veil-color\",\"ring-number\",\"ring-type\",\"spore-print-color\",\"population\",\"habitat\"]\n",
    "data = read_csv('http://archive.ics.uci.edu/ml/machine-learning-databases/mushroom/agaricus-lepiota.data', names=names)\n",
    "data.info()\n",
    "data.head()"
   ]
  },
  {
   "cell_type": "code",
   "execution_count": 2,
   "metadata": {},
   "outputs": [
    {
     "data": {
      "text/html": [
       "<div>\n",
       "<style scoped>\n",
       "    .dataframe tbody tr th:only-of-type {\n",
       "        vertical-align: middle;\n",
       "    }\n",
       "\n",
       "    .dataframe tbody tr th {\n",
       "        vertical-align: top;\n",
       "    }\n",
       "\n",
       "    .dataframe thead th {\n",
       "        text-align: right;\n",
       "    }\n",
       "</style>\n",
       "<table border=\"1\" class=\"dataframe\">\n",
       "  <thead>\n",
       "    <tr style=\"text-align: right;\">\n",
       "      <th></th>\n",
       "      <th>classes</th>\n",
       "      <th>cap-shape</th>\n",
       "      <th>cap-surface</th>\n",
       "      <th>cap-color</th>\n",
       "      <th>bruises</th>\n",
       "      <th>odor</th>\n",
       "      <th>gill-attachment</th>\n",
       "      <th>gill-spacing</th>\n",
       "      <th>gill-size</th>\n",
       "      <th>gill-color</th>\n",
       "      <th>...</th>\n",
       "      <th>stalk-surface-below-ring</th>\n",
       "      <th>stalk-color-above-ring</th>\n",
       "      <th>stalk-color-below-ring</th>\n",
       "      <th>veil-type</th>\n",
       "      <th>veil-color</th>\n",
       "      <th>ring-number</th>\n",
       "      <th>ring-type</th>\n",
       "      <th>spore-print-color</th>\n",
       "      <th>population</th>\n",
       "      <th>habitat</th>\n",
       "    </tr>\n",
       "  </thead>\n",
       "  <tbody>\n",
       "    <tr>\n",
       "      <th>count</th>\n",
       "      <td>8124</td>\n",
       "      <td>8124</td>\n",
       "      <td>8124</td>\n",
       "      <td>8124</td>\n",
       "      <td>8124</td>\n",
       "      <td>8124</td>\n",
       "      <td>8124</td>\n",
       "      <td>8124</td>\n",
       "      <td>8124</td>\n",
       "      <td>8124</td>\n",
       "      <td>...</td>\n",
       "      <td>8124</td>\n",
       "      <td>8124</td>\n",
       "      <td>8124</td>\n",
       "      <td>8124</td>\n",
       "      <td>8124</td>\n",
       "      <td>8124</td>\n",
       "      <td>8124</td>\n",
       "      <td>8124</td>\n",
       "      <td>8124</td>\n",
       "      <td>8124</td>\n",
       "    </tr>\n",
       "    <tr>\n",
       "      <th>unique</th>\n",
       "      <td>2</td>\n",
       "      <td>6</td>\n",
       "      <td>4</td>\n",
       "      <td>10</td>\n",
       "      <td>2</td>\n",
       "      <td>9</td>\n",
       "      <td>2</td>\n",
       "      <td>2</td>\n",
       "      <td>2</td>\n",
       "      <td>12</td>\n",
       "      <td>...</td>\n",
       "      <td>4</td>\n",
       "      <td>9</td>\n",
       "      <td>9</td>\n",
       "      <td>1</td>\n",
       "      <td>4</td>\n",
       "      <td>3</td>\n",
       "      <td>5</td>\n",
       "      <td>9</td>\n",
       "      <td>6</td>\n",
       "      <td>7</td>\n",
       "    </tr>\n",
       "    <tr>\n",
       "      <th>top</th>\n",
       "      <td>e</td>\n",
       "      <td>x</td>\n",
       "      <td>y</td>\n",
       "      <td>n</td>\n",
       "      <td>f</td>\n",
       "      <td>n</td>\n",
       "      <td>f</td>\n",
       "      <td>c</td>\n",
       "      <td>b</td>\n",
       "      <td>b</td>\n",
       "      <td>...</td>\n",
       "      <td>s</td>\n",
       "      <td>w</td>\n",
       "      <td>w</td>\n",
       "      <td>p</td>\n",
       "      <td>w</td>\n",
       "      <td>o</td>\n",
       "      <td>p</td>\n",
       "      <td>w</td>\n",
       "      <td>v</td>\n",
       "      <td>d</td>\n",
       "    </tr>\n",
       "    <tr>\n",
       "      <th>freq</th>\n",
       "      <td>4208</td>\n",
       "      <td>3656</td>\n",
       "      <td>3244</td>\n",
       "      <td>2284</td>\n",
       "      <td>4748</td>\n",
       "      <td>3528</td>\n",
       "      <td>7914</td>\n",
       "      <td>6812</td>\n",
       "      <td>5612</td>\n",
       "      <td>1728</td>\n",
       "      <td>...</td>\n",
       "      <td>4936</td>\n",
       "      <td>4464</td>\n",
       "      <td>4384</td>\n",
       "      <td>8124</td>\n",
       "      <td>7924</td>\n",
       "      <td>7488</td>\n",
       "      <td>3968</td>\n",
       "      <td>2388</td>\n",
       "      <td>4040</td>\n",
       "      <td>3148</td>\n",
       "    </tr>\n",
       "  </tbody>\n",
       "</table>\n",
       "<p>4 rows × 23 columns</p>\n",
       "</div>"
      ],
      "text/plain": [
       "       classes cap-shape cap-surface cap-color bruises  odor gill-attachment  \\\n",
       "count     8124      8124        8124      8124    8124  8124            8124   \n",
       "unique       2         6           4        10       2     9               2   \n",
       "top          e         x           y         n       f     n               f   \n",
       "freq      4208      3656        3244      2284    4748  3528            7914   \n",
       "\n",
       "       gill-spacing gill-size gill-color   ...   stalk-surface-below-ring  \\\n",
       "count          8124      8124       8124   ...                       8124   \n",
       "unique            2         2         12   ...                          4   \n",
       "top               c         b          b   ...                          s   \n",
       "freq           6812      5612       1728   ...                       4936   \n",
       "\n",
       "       stalk-color-above-ring stalk-color-below-ring veil-type veil-color  \\\n",
       "count                    8124                   8124      8124       8124   \n",
       "unique                      9                      9         1          4   \n",
       "top                         w                      w         p          w   \n",
       "freq                     4464                   4384      8124       7924   \n",
       "\n",
       "       ring-number ring-type spore-print-color population habitat  \n",
       "count         8124      8124              8124       8124    8124  \n",
       "unique           3         5                 9          6       7  \n",
       "top              o         p                 w          v       d  \n",
       "freq          7488      3968              2388       4040    3148  \n",
       "\n",
       "[4 rows x 23 columns]"
      ]
     },
     "execution_count": 2,
     "metadata": {},
     "output_type": "execute_result"
    }
   ],
   "source": [
    "data.describe()"
   ]
  },
  {
   "cell_type": "code",
   "execution_count": 3,
   "metadata": {},
   "outputs": [
    {
     "data": {
      "text/html": [
       "<div>\n",
       "<style scoped>\n",
       "    .dataframe tbody tr th:only-of-type {\n",
       "        vertical-align: middle;\n",
       "    }\n",
       "\n",
       "    .dataframe tbody tr th {\n",
       "        vertical-align: top;\n",
       "    }\n",
       "\n",
       "    .dataframe thead th {\n",
       "        text-align: right;\n",
       "    }\n",
       "</style>\n",
       "<table border=\"1\" class=\"dataframe\">\n",
       "  <thead>\n",
       "    <tr style=\"text-align: right;\">\n",
       "      <th></th>\n",
       "      <th>classes</th>\n",
       "      <th>cap-shape</th>\n",
       "      <th>cap-surface</th>\n",
       "      <th>cap-color</th>\n",
       "      <th>bruises</th>\n",
       "      <th>odor</th>\n",
       "      <th>gill-attachment</th>\n",
       "      <th>gill-spacing</th>\n",
       "      <th>gill-size</th>\n",
       "      <th>gill-color</th>\n",
       "      <th>...</th>\n",
       "      <th>stalk-surface-above-ring</th>\n",
       "      <th>stalk-surface-below-ring</th>\n",
       "      <th>stalk-color-above-ring</th>\n",
       "      <th>stalk-color-below-ring</th>\n",
       "      <th>veil-color</th>\n",
       "      <th>ring-number</th>\n",
       "      <th>ring-type</th>\n",
       "      <th>spore-print-color</th>\n",
       "      <th>population</th>\n",
       "      <th>habitat</th>\n",
       "    </tr>\n",
       "  </thead>\n",
       "  <tbody>\n",
       "    <tr>\n",
       "      <th>0</th>\n",
       "      <td>p</td>\n",
       "      <td>x</td>\n",
       "      <td>s</td>\n",
       "      <td>n</td>\n",
       "      <td>t</td>\n",
       "      <td>p</td>\n",
       "      <td>f</td>\n",
       "      <td>c</td>\n",
       "      <td>n</td>\n",
       "      <td>k</td>\n",
       "      <td>...</td>\n",
       "      <td>s</td>\n",
       "      <td>s</td>\n",
       "      <td>w</td>\n",
       "      <td>w</td>\n",
       "      <td>w</td>\n",
       "      <td>o</td>\n",
       "      <td>p</td>\n",
       "      <td>k</td>\n",
       "      <td>s</td>\n",
       "      <td>u</td>\n",
       "    </tr>\n",
       "    <tr>\n",
       "      <th>1</th>\n",
       "      <td>e</td>\n",
       "      <td>x</td>\n",
       "      <td>s</td>\n",
       "      <td>y</td>\n",
       "      <td>t</td>\n",
       "      <td>a</td>\n",
       "      <td>f</td>\n",
       "      <td>c</td>\n",
       "      <td>b</td>\n",
       "      <td>k</td>\n",
       "      <td>...</td>\n",
       "      <td>s</td>\n",
       "      <td>s</td>\n",
       "      <td>w</td>\n",
       "      <td>w</td>\n",
       "      <td>w</td>\n",
       "      <td>o</td>\n",
       "      <td>p</td>\n",
       "      <td>n</td>\n",
       "      <td>n</td>\n",
       "      <td>g</td>\n",
       "    </tr>\n",
       "    <tr>\n",
       "      <th>2</th>\n",
       "      <td>e</td>\n",
       "      <td>b</td>\n",
       "      <td>s</td>\n",
       "      <td>w</td>\n",
       "      <td>t</td>\n",
       "      <td>l</td>\n",
       "      <td>f</td>\n",
       "      <td>c</td>\n",
       "      <td>b</td>\n",
       "      <td>n</td>\n",
       "      <td>...</td>\n",
       "      <td>s</td>\n",
       "      <td>s</td>\n",
       "      <td>w</td>\n",
       "      <td>w</td>\n",
       "      <td>w</td>\n",
       "      <td>o</td>\n",
       "      <td>p</td>\n",
       "      <td>n</td>\n",
       "      <td>n</td>\n",
       "      <td>m</td>\n",
       "    </tr>\n",
       "    <tr>\n",
       "      <th>3</th>\n",
       "      <td>p</td>\n",
       "      <td>x</td>\n",
       "      <td>y</td>\n",
       "      <td>w</td>\n",
       "      <td>t</td>\n",
       "      <td>p</td>\n",
       "      <td>f</td>\n",
       "      <td>c</td>\n",
       "      <td>n</td>\n",
       "      <td>n</td>\n",
       "      <td>...</td>\n",
       "      <td>s</td>\n",
       "      <td>s</td>\n",
       "      <td>w</td>\n",
       "      <td>w</td>\n",
       "      <td>w</td>\n",
       "      <td>o</td>\n",
       "      <td>p</td>\n",
       "      <td>k</td>\n",
       "      <td>s</td>\n",
       "      <td>u</td>\n",
       "    </tr>\n",
       "    <tr>\n",
       "      <th>4</th>\n",
       "      <td>e</td>\n",
       "      <td>x</td>\n",
       "      <td>s</td>\n",
       "      <td>g</td>\n",
       "      <td>f</td>\n",
       "      <td>n</td>\n",
       "      <td>f</td>\n",
       "      <td>w</td>\n",
       "      <td>b</td>\n",
       "      <td>k</td>\n",
       "      <td>...</td>\n",
       "      <td>s</td>\n",
       "      <td>s</td>\n",
       "      <td>w</td>\n",
       "      <td>w</td>\n",
       "      <td>w</td>\n",
       "      <td>o</td>\n",
       "      <td>e</td>\n",
       "      <td>n</td>\n",
       "      <td>a</td>\n",
       "      <td>g</td>\n",
       "    </tr>\n",
       "  </tbody>\n",
       "</table>\n",
       "<p>5 rows × 22 columns</p>\n",
       "</div>"
      ],
      "text/plain": [
       "  classes cap-shape cap-surface cap-color bruises odor gill-attachment  \\\n",
       "0       p         x           s         n       t    p               f   \n",
       "1       e         x           s         y       t    a               f   \n",
       "2       e         b           s         w       t    l               f   \n",
       "3       p         x           y         w       t    p               f   \n",
       "4       e         x           s         g       f    n               f   \n",
       "\n",
       "  gill-spacing gill-size gill-color   ...   stalk-surface-above-ring  \\\n",
       "0            c         n          k   ...                          s   \n",
       "1            c         b          k   ...                          s   \n",
       "2            c         b          n   ...                          s   \n",
       "3            c         n          n   ...                          s   \n",
       "4            w         b          k   ...                          s   \n",
       "\n",
       "  stalk-surface-below-ring stalk-color-above-ring stalk-color-below-ring  \\\n",
       "0                        s                      w                      w   \n",
       "1                        s                      w                      w   \n",
       "2                        s                      w                      w   \n",
       "3                        s                      w                      w   \n",
       "4                        s                      w                      w   \n",
       "\n",
       "  veil-color ring-number ring-type spore-print-color population habitat  \n",
       "0          w           o         p                 k          s       u  \n",
       "1          w           o         p                 n          n       g  \n",
       "2          w           o         p                 n          n       m  \n",
       "3          w           o         p                 k          s       u  \n",
       "4          w           o         e                 n          a       g  \n",
       "\n",
       "[5 rows x 22 columns]"
      ]
     },
     "execution_count": 3,
     "metadata": {},
     "output_type": "execute_result"
    }
   ],
   "source": [
    "data = data.drop(columns=['veil-type']) # remove \"veil-type\" due to it is constant\n",
    "data.head()\n",
    "#data = data.astype('str')"
   ]
  },
  {
   "cell_type": "markdown",
   "metadata": {},
   "source": [
    "# Split into train and test datasets"
   ]
  },
  {
   "cell_type": "code",
   "execution_count": 4,
   "metadata": {},
   "outputs": [
    {
     "name": "stdout",
     "output_type": "stream",
     "text": [
      "Train: (5686, 21) (5686,)\n",
      "Test: (2438, 21) (2438,)\n"
     ]
    }
   ],
   "source": [
    "from sklearn.model_selection import train_test_split\n",
    "\n",
    "X = data.drop(columns=['classes'])\n",
    "y = data['classes']\n",
    "#y = y.values.reshape((len(y), 1))\n",
    "\n",
    "X_train, X_test, y_train, y_test = train_test_split(X, y, test_size=0.3, random_state=77)\n",
    "\n",
    "print('Train:', X_train.shape, y_train.shape)\n",
    "print('Test:',  X_test.shape, y_test.shape)"
   ]
  },
  {
   "cell_type": "markdown",
   "metadata": {},
   "source": [
    "# Encode categorical variables"
   ]
  },
  {
   "cell_type": "code",
   "execution_count": 5,
   "metadata": {},
   "outputs": [
    {
     "name": "stdout",
     "output_type": "stream",
     "text": [
      "X train: (5686, 116)\n",
      "X test: (2438, 116)\n"
     ]
    }
   ],
   "source": [
    "import pandas as pd\n",
    "from sklearn.preprocessing import OneHotEncoder, LabelEncoder, OrdinalEncoder\n",
    "\n",
    "# encode categorical features as an integer array\n",
    "#def prepare_inputs(X_train, X_test):\n",
    "#    oe = OrdinalEncoder()\n",
    "#    oe.fit(X_train)\n",
    "#    X_train_enc = oe.transform(X_train)\n",
    "#    X_test_enc = oe.transform(X_test)\n",
    "#    return X_train_enc, X_test_enc\n",
    "\n",
    "# one-hot encoding of categorical features\n",
    "#def prepare_inputs(X_train, X_test):\n",
    "#    ohe = OneHotEncoder()\n",
    "#    ohe.fit(X_train)\n",
    "#    X_train_enc = ohe.transform(X_train)\n",
    "#    X_test_enc = ohe.transform(X_test)\n",
    "#    return X_train_enc, X_test_enc\n",
    "\n",
    "# Also\n",
    "#import pandas as pd\n",
    "def prepare_inputs(X_train, X_test):\n",
    "    X_train_enc = pd.get_dummies(X_train, columns=X_train.columns, drop_first=False)\n",
    "    X_test_enc  = pd.get_dummies(X_test, columns=X_test.columns, drop_first=False)\n",
    "    return X_train_enc, X_test_enc\n",
    "\n",
    "# encode target labels with values between 0 and n_classes-1\n",
    "def prepare_targets(y_train, y_test):\n",
    "    le = LabelEncoder()\n",
    "    le.fit(y_train)\n",
    "    y_train_enc = le.transform(y_train)\n",
    "    y_test_enc = le.transform(y_test)\n",
    "    return y_train_enc, y_test_enc\n",
    "\n",
    "X_train, X_test = prepare_inputs(X_train, X_test)\n",
    "y_train, y_test = prepare_targets(y_train, y_test)\n",
    "\n",
    "print('X train:', X_train.shape)\n",
    "print('X test:', X_test.shape)"
   ]
  },
  {
   "cell_type": "markdown",
   "metadata": {},
   "source": [
    "# Training"
   ]
  },
  {
   "cell_type": "code",
   "execution_count": 6,
   "metadata": {},
   "outputs": [
    {
     "data": {
      "text/plain": [
       "BaggingClassifier(base_estimator=DecisionTreeClassifier(ccp_alpha=0.0,\n",
       "                                                        class_weight=None,\n",
       "                                                        criterion='gini',\n",
       "                                                        max_depth=None,\n",
       "                                                        max_features=None,\n",
       "                                                        max_leaf_nodes=None,\n",
       "                                                        min_impurity_decrease=0.0,\n",
       "                                                        min_impurity_split=None,\n",
       "                                                        min_samples_leaf=1,\n",
       "                                                        min_samples_split=2,\n",
       "                                                        min_weight_fraction_leaf=0.0,\n",
       "                                                        presort='deprecated',\n",
       "                                                        random_state=77,\n",
       "                                                        splitter='best'),\n",
       "                  bootstrap=True, bootstrap_features=False, max_features=1.0,\n",
       "                  max_samples=1.0, n_estimators=100, n_jobs=None,\n",
       "                  oob_score=False, random_state=77, verbose=0,\n",
       "                  warm_start=False)"
      ]
     },
     "execution_count": 6,
     "metadata": {},
     "output_type": "execute_result"
    }
   ],
   "source": [
    "from sklearn.tree import DecisionTreeClassifier\n",
    "from sklearn.ensemble import BaggingClassifier\n",
    "\n",
    "b = DecisionTreeClassifier(\n",
    "                           criterion='gini',    # 'gini' or 'entropy' impurity functions\n",
    "                           max_depth=None,      # maximum depth of the tree\n",
    "#                          min_samples_split=2, # minimum number of samples required to split an internal node\n",
    "                           min_samples_leaf=1,  # minimum number of samples required to be at a leaf node\n",
    "#                          ccp_alpha=0.075,\n",
    "                           random_state=77\n",
    "                          )\n",
    "\n",
    "f = BaggingClassifier(\n",
    "                      base_estimator=b,\n",
    "                      n_estimators=100,\n",
    "                      oob_score=False,\n",
    "                      random_state=77\n",
    "                      )\n",
    "\n",
    "f = f.fit(X_train, y_train)\n",
    "f\n",
    "# also f.set_params()"
   ]
  },
  {
   "cell_type": "markdown",
   "metadata": {},
   "source": [
    "# Tuning hyperparameter"
   ]
  },
  {
   "cell_type": "code",
   "execution_count": 7,
   "metadata": {},
   "outputs": [
    {
     "name": "stdout",
     "output_type": "stream",
     "text": [
      "Best: 1.000000 using {'n_estimators': 3}\n",
      "0.999648 with: {'n_estimators': 1}\n",
      "0.999648 with: {'n_estimators': 2}\n",
      "1.000000 with: {'n_estimators': 3}\n",
      "1.000000 with: {'n_estimators': 4}\n",
      "1.000000 with: {'n_estimators': 5}\n",
      "0.999824 with: {'n_estimators': 6}\n",
      "1.000000 with: {'n_estimators': 7}\n",
      "0.999824 with: {'n_estimators': 8}\n",
      "0.999824 with: {'n_estimators': 9}\n",
      "0.999824 with: {'n_estimators': 10}\n",
      "0.999824 with: {'n_estimators': 11}\n",
      "0.999824 with: {'n_estimators': 12}\n",
      "0.999824 with: {'n_estimators': 13}\n",
      "0.999824 with: {'n_estimators': 14}\n",
      "0.999824 with: {'n_estimators': 15}\n",
      "0.999824 with: {'n_estimators': 16}\n",
      "0.999824 with: {'n_estimators': 17}\n",
      "0.999824 with: {'n_estimators': 18}\n",
      "0.999824 with: {'n_estimators': 19}\n",
      "0.999824 with: {'n_estimators': 20}\n",
      "0.999824 with: {'n_estimators': 21}\n",
      "0.999824 with: {'n_estimators': 22}\n",
      "0.999824 with: {'n_estimators': 23}\n",
      "0.999824 with: {'n_estimators': 24}\n",
      "0.999824 with: {'n_estimators': 25}\n",
      "0.999824 with: {'n_estimators': 26}\n",
      "0.999824 with: {'n_estimators': 27}\n",
      "0.999824 with: {'n_estimators': 28}\n",
      "0.999824 with: {'n_estimators': 29}\n",
      "0.999824 with: {'n_estimators': 30}\n",
      "1.000000 with: {'n_estimators': 31}\n",
      "1.000000 with: {'n_estimators': 32}\n",
      "1.000000 with: {'n_estimators': 33}\n",
      "1.000000 with: {'n_estimators': 34}\n",
      "1.000000 with: {'n_estimators': 35}\n",
      "0.999824 with: {'n_estimators': 36}\n",
      "1.000000 with: {'n_estimators': 37}\n",
      "1.000000 with: {'n_estimators': 38}\n",
      "1.000000 with: {'n_estimators': 39}\n",
      "1.000000 with: {'n_estimators': 40}\n",
      "1.000000 with: {'n_estimators': 41}\n",
      "1.000000 with: {'n_estimators': 42}\n",
      "1.000000 with: {'n_estimators': 43}\n",
      "1.000000 with: {'n_estimators': 44}\n",
      "1.000000 with: {'n_estimators': 45}\n",
      "1.000000 with: {'n_estimators': 46}\n",
      "1.000000 with: {'n_estimators': 47}\n",
      "0.999824 with: {'n_estimators': 48}\n",
      "1.000000 with: {'n_estimators': 49}\n",
      "1.000000 with: {'n_estimators': 50}\n"
     ]
    }
   ],
   "source": [
    "from sklearn.model_selection import GridSearchCV\n",
    "from sklearn.model_selection import KFold\n",
    "\n",
    "f = BaggingClassifier(base_estimator=b, random_state=77)\n",
    "# define grid search\n",
    "#n_estimators = range(0, 210, 10)\n",
    "n_estimators = range(1, 51)\n",
    "grid = dict(n_estimators=n_estimators)\n",
    "kfold = KFold(n_splits=10, shuffle=False, random_state=None)\n",
    "grid_search = GridSearchCV(estimator=f, param_grid=grid, n_jobs=-1, cv=kfold, scoring='accuracy')\n",
    "grid_result = grid_search.fit(X_train, y_train)\n",
    "# summarize results\n",
    "print('Best: %f using %s' % (grid_result.best_score_, grid_result.best_params_))\n",
    "means = grid_result.cv_results_['mean_test_score']\n",
    "params = grid_result.cv_results_['params']\n",
    "for mean, param in zip(means, params):\n",
    "    print('%f with: %r' % (mean, param))"
   ]
  },
  {
   "cell_type": "code",
   "execution_count": 8,
   "metadata": {},
   "outputs": [
    {
     "name": "stderr",
     "output_type": "stream",
     "text": [
      "/anaconda3/lib/python3.7/site-packages/sklearn/ensemble/_bagging.py:633: UserWarning: Some inputs do not have OOB scores. This probably means too few estimators were used to compute any reliable oob estimates.\n",
      "  warn(\"Some inputs do not have OOB scores. \"\n",
      "/anaconda3/lib/python3.7/site-packages/sklearn/ensemble/_bagging.py:638: RuntimeWarning: divide by zero encountered in true_divide\n",
      "  predictions.sum(axis=1)[:, np.newaxis])\n",
      "/anaconda3/lib/python3.7/site-packages/sklearn/ensemble/_bagging.py:638: RuntimeWarning: invalid value encountered in true_divide\n",
      "  predictions.sum(axis=1)[:, np.newaxis])\n",
      "/anaconda3/lib/python3.7/site-packages/sklearn/ensemble/_bagging.py:633: UserWarning: Some inputs do not have OOB scores. This probably means too few estimators were used to compute any reliable oob estimates.\n",
      "  warn(\"Some inputs do not have OOB scores. \"\n",
      "/anaconda3/lib/python3.7/site-packages/sklearn/ensemble/_bagging.py:638: RuntimeWarning: divide by zero encountered in true_divide\n",
      "  predictions.sum(axis=1)[:, np.newaxis])\n",
      "/anaconda3/lib/python3.7/site-packages/sklearn/ensemble/_bagging.py:638: RuntimeWarning: invalid value encountered in true_divide\n",
      "  predictions.sum(axis=1)[:, np.newaxis])\n",
      "/anaconda3/lib/python3.7/site-packages/sklearn/ensemble/_bagging.py:633: UserWarning: Some inputs do not have OOB scores. This probably means too few estimators were used to compute any reliable oob estimates.\n",
      "  warn(\"Some inputs do not have OOB scores. \"\n",
      "/anaconda3/lib/python3.7/site-packages/sklearn/ensemble/_bagging.py:638: RuntimeWarning: divide by zero encountered in true_divide\n",
      "  predictions.sum(axis=1)[:, np.newaxis])\n",
      "/anaconda3/lib/python3.7/site-packages/sklearn/ensemble/_bagging.py:638: RuntimeWarning: invalid value encountered in true_divide\n",
      "  predictions.sum(axis=1)[:, np.newaxis])\n",
      "/anaconda3/lib/python3.7/site-packages/sklearn/ensemble/_bagging.py:633: UserWarning: Some inputs do not have OOB scores. This probably means too few estimators were used to compute any reliable oob estimates.\n",
      "  warn(\"Some inputs do not have OOB scores. \"\n",
      "/anaconda3/lib/python3.7/site-packages/sklearn/ensemble/_bagging.py:638: RuntimeWarning: divide by zero encountered in true_divide\n",
      "  predictions.sum(axis=1)[:, np.newaxis])\n",
      "/anaconda3/lib/python3.7/site-packages/sklearn/ensemble/_bagging.py:638: RuntimeWarning: invalid value encountered in true_divide\n",
      "  predictions.sum(axis=1)[:, np.newaxis])\n",
      "/anaconda3/lib/python3.7/site-packages/sklearn/ensemble/_bagging.py:633: UserWarning: Some inputs do not have OOB scores. This probably means too few estimators were used to compute any reliable oob estimates.\n",
      "  warn(\"Some inputs do not have OOB scores. \"\n",
      "/anaconda3/lib/python3.7/site-packages/sklearn/ensemble/_bagging.py:638: RuntimeWarning: divide by zero encountered in true_divide\n",
      "  predictions.sum(axis=1)[:, np.newaxis])\n",
      "/anaconda3/lib/python3.7/site-packages/sklearn/ensemble/_bagging.py:638: RuntimeWarning: invalid value encountered in true_divide\n",
      "  predictions.sum(axis=1)[:, np.newaxis])\n",
      "/anaconda3/lib/python3.7/site-packages/sklearn/ensemble/_bagging.py:633: UserWarning: Some inputs do not have OOB scores. This probably means too few estimators were used to compute any reliable oob estimates.\n",
      "  warn(\"Some inputs do not have OOB scores. \"\n",
      "/anaconda3/lib/python3.7/site-packages/sklearn/ensemble/_bagging.py:638: RuntimeWarning: invalid value encountered in true_divide\n",
      "  predictions.sum(axis=1)[:, np.newaxis])\n",
      "/anaconda3/lib/python3.7/site-packages/sklearn/ensemble/_bagging.py:633: UserWarning: Some inputs do not have OOB scores. This probably means too few estimators were used to compute any reliable oob estimates.\n",
      "  warn(\"Some inputs do not have OOB scores. \"\n",
      "/anaconda3/lib/python3.7/site-packages/sklearn/ensemble/_bagging.py:638: RuntimeWarning: divide by zero encountered in true_divide\n",
      "  predictions.sum(axis=1)[:, np.newaxis])\n",
      "/anaconda3/lib/python3.7/site-packages/sklearn/ensemble/_bagging.py:638: RuntimeWarning: invalid value encountered in true_divide\n",
      "  predictions.sum(axis=1)[:, np.newaxis])\n",
      "/anaconda3/lib/python3.7/site-packages/sklearn/ensemble/_bagging.py:633: UserWarning: Some inputs do not have OOB scores. This probably means too few estimators were used to compute any reliable oob estimates.\n",
      "  warn(\"Some inputs do not have OOB scores. \"\n",
      "/anaconda3/lib/python3.7/site-packages/sklearn/ensemble/_bagging.py:638: RuntimeWarning: divide by zero encountered in true_divide\n",
      "  predictions.sum(axis=1)[:, np.newaxis])\n",
      "/anaconda3/lib/python3.7/site-packages/sklearn/ensemble/_bagging.py:638: RuntimeWarning: invalid value encountered in true_divide\n",
      "  predictions.sum(axis=1)[:, np.newaxis])\n",
      "/anaconda3/lib/python3.7/site-packages/sklearn/ensemble/_bagging.py:633: UserWarning: Some inputs do not have OOB scores. This probably means too few estimators were used to compute any reliable oob estimates.\n",
      "  warn(\"Some inputs do not have OOB scores. \"\n",
      "/anaconda3/lib/python3.7/site-packages/sklearn/ensemble/_bagging.py:638: RuntimeWarning: divide by zero encountered in true_divide\n",
      "  predictions.sum(axis=1)[:, np.newaxis])\n",
      "/anaconda3/lib/python3.7/site-packages/sklearn/ensemble/_bagging.py:638: RuntimeWarning: invalid value encountered in true_divide\n",
      "  predictions.sum(axis=1)[:, np.newaxis])\n",
      "/anaconda3/lib/python3.7/site-packages/sklearn/ensemble/_bagging.py:633: UserWarning: Some inputs do not have OOB scores. This probably means too few estimators were used to compute any reliable oob estimates.\n",
      "  warn(\"Some inputs do not have OOB scores. \"\n",
      "/anaconda3/lib/python3.7/site-packages/sklearn/ensemble/_bagging.py:638: RuntimeWarning: divide by zero encountered in true_divide\n",
      "  predictions.sum(axis=1)[:, np.newaxis])\n",
      "/anaconda3/lib/python3.7/site-packages/sklearn/ensemble/_bagging.py:638: RuntimeWarning: invalid value encountered in true_divide\n",
      "  predictions.sum(axis=1)[:, np.newaxis])\n",
      "/anaconda3/lib/python3.7/site-packages/sklearn/ensemble/_bagging.py:633: UserWarning: Some inputs do not have OOB scores. This probably means too few estimators were used to compute any reliable oob estimates.\n",
      "  warn(\"Some inputs do not have OOB scores. \"\n",
      "/anaconda3/lib/python3.7/site-packages/sklearn/ensemble/_bagging.py:638: RuntimeWarning: divide by zero encountered in true_divide\n",
      "  predictions.sum(axis=1)[:, np.newaxis])\n",
      "/anaconda3/lib/python3.7/site-packages/sklearn/ensemble/_bagging.py:638: RuntimeWarning: invalid value encountered in true_divide\n",
      "  predictions.sum(axis=1)[:, np.newaxis])\n",
      "/anaconda3/lib/python3.7/site-packages/sklearn/ensemble/_bagging.py:633: UserWarning: Some inputs do not have OOB scores. This probably means too few estimators were used to compute any reliable oob estimates.\n",
      "  warn(\"Some inputs do not have OOB scores. \"\n",
      "/anaconda3/lib/python3.7/site-packages/sklearn/ensemble/_bagging.py:638: RuntimeWarning: divide by zero encountered in true_divide\n",
      "  predictions.sum(axis=1)[:, np.newaxis])\n",
      "/anaconda3/lib/python3.7/site-packages/sklearn/ensemble/_bagging.py:638: RuntimeWarning: invalid value encountered in true_divide\n",
      "  predictions.sum(axis=1)[:, np.newaxis])\n",
      "/anaconda3/lib/python3.7/site-packages/sklearn/ensemble/_bagging.py:633: UserWarning: Some inputs do not have OOB scores. This probably means too few estimators were used to compute any reliable oob estimates.\n",
      "  warn(\"Some inputs do not have OOB scores. \"\n",
      "/anaconda3/lib/python3.7/site-packages/sklearn/ensemble/_bagging.py:638: RuntimeWarning: divide by zero encountered in true_divide\n",
      "  predictions.sum(axis=1)[:, np.newaxis])\n",
      "/anaconda3/lib/python3.7/site-packages/sklearn/ensemble/_bagging.py:638: RuntimeWarning: invalid value encountered in true_divide\n",
      "  predictions.sum(axis=1)[:, np.newaxis])\n",
      "/anaconda3/lib/python3.7/site-packages/sklearn/ensemble/_bagging.py:633: UserWarning: Some inputs do not have OOB scores. This probably means too few estimators were used to compute any reliable oob estimates.\n",
      "  warn(\"Some inputs do not have OOB scores. \"\n",
      "/anaconda3/lib/python3.7/site-packages/sklearn/ensemble/_bagging.py:638: RuntimeWarning: invalid value encountered in true_divide\n",
      "  predictions.sum(axis=1)[:, np.newaxis])\n",
      "/anaconda3/lib/python3.7/site-packages/sklearn/ensemble/_bagging.py:633: UserWarning: Some inputs do not have OOB scores. This probably means too few estimators were used to compute any reliable oob estimates.\n",
      "  warn(\"Some inputs do not have OOB scores. \"\n",
      "/anaconda3/lib/python3.7/site-packages/sklearn/ensemble/_bagging.py:638: RuntimeWarning: divide by zero encountered in true_divide\n",
      "  predictions.sum(axis=1)[:, np.newaxis])\n",
      "/anaconda3/lib/python3.7/site-packages/sklearn/ensemble/_bagging.py:638: RuntimeWarning: invalid value encountered in true_divide\n",
      "  predictions.sum(axis=1)[:, np.newaxis])\n"
     ]
    },
    {
     "name": "stderr",
     "output_type": "stream",
     "text": [
      "/anaconda3/lib/python3.7/site-packages/sklearn/ensemble/_bagging.py:633: UserWarning: Some inputs do not have OOB scores. This probably means too few estimators were used to compute any reliable oob estimates.\n",
      "  warn(\"Some inputs do not have OOB scores. \"\n",
      "/anaconda3/lib/python3.7/site-packages/sklearn/ensemble/_bagging.py:638: RuntimeWarning: invalid value encountered in true_divide\n",
      "  predictions.sum(axis=1)[:, np.newaxis])\n",
      "/anaconda3/lib/python3.7/site-packages/sklearn/ensemble/_bagging.py:633: UserWarning: Some inputs do not have OOB scores. This probably means too few estimators were used to compute any reliable oob estimates.\n",
      "  warn(\"Some inputs do not have OOB scores. \"\n",
      "/anaconda3/lib/python3.7/site-packages/sklearn/ensemble/_bagging.py:638: RuntimeWarning: invalid value encountered in true_divide\n",
      "  predictions.sum(axis=1)[:, np.newaxis])\n",
      "/anaconda3/lib/python3.7/site-packages/sklearn/ensemble/_bagging.py:633: UserWarning: Some inputs do not have OOB scores. This probably means too few estimators were used to compute any reliable oob estimates.\n",
      "  warn(\"Some inputs do not have OOB scores. \"\n",
      "/anaconda3/lib/python3.7/site-packages/sklearn/ensemble/_bagging.py:638: RuntimeWarning: invalid value encountered in true_divide\n",
      "  predictions.sum(axis=1)[:, np.newaxis])\n",
      "/anaconda3/lib/python3.7/site-packages/sklearn/ensemble/_bagging.py:633: UserWarning: Some inputs do not have OOB scores. This probably means too few estimators were used to compute any reliable oob estimates.\n",
      "  warn(\"Some inputs do not have OOB scores. \"\n",
      "/anaconda3/lib/python3.7/site-packages/sklearn/ensemble/_bagging.py:638: RuntimeWarning: invalid value encountered in true_divide\n",
      "  predictions.sum(axis=1)[:, np.newaxis])\n"
     ]
    }
   ],
   "source": [
    "f = BaggingClassifier(base_estimator=b, oob_score=True, random_state=77)\n",
    "\n",
    "min_estimators = 1\n",
    "max_estimators = 20\n",
    "\n",
    "oob_error   = []\n",
    "train_error = []\n",
    "test_error  = []\n",
    "for m in range(min_estimators, max_estimators + 1):\n",
    "    f.set_params(n_estimators = m)\n",
    "    f.fit(X_train, y_train)\n",
    "    # errors\n",
    "    oob_error.append(1 - f.oob_score_)\n",
    "    train_error.append(1 - f.score(X_train, y_train))\n",
    "    test_error.append(1 - f.score(X_test, y_test))"
   ]
  },
  {
   "cell_type": "code",
   "execution_count": 10,
   "metadata": {},
   "outputs": [
    {
     "data": {
      "image/png": "[encoded data removed]",
      "text/plain": [
       "<Figure size 432x288 with 1 Axes>"
      ]
     },
     "metadata": {
      "needs_background": "light"
     },
     "output_type": "display_data"
    }
   ],
   "source": [
    "import matplotlib.pyplot as plt\n",
    "\n",
    "fig, ax = plt.subplots()\n",
    "ax.set_xlabel('m')\n",
    "ax.set_ylabel('Error')\n",
    "ax.plot(oob_error, marker='.', label='OOB error')\n",
    "#ax.plot(train_error, marker='o', label='Train error')\n",
    "#ax.plot(test_error, marker='o', label='Test error')\n",
    "ax.legend()\n",
    "plt.show()"
   ]
  },
  {
   "cell_type": "markdown",
   "metadata": {},
   "source": [
    "# Prediction"
   ]
  },
  {
   "cell_type": "code",
   "execution_count": 11,
   "metadata": {},
   "outputs": [],
   "source": [
    "import numpy as np\n",
    "\n",
    "f = BaggingClassifier(base_estimator=b, n_estimators = 7, random_state=77)\n",
    "f = f.fit(X_train, y_train)\n",
    "\n",
    "y_pred = f.predict(X_test)\n",
    "#p_pred = f.predict_proba(X_test)\n",
    "#y_pred\n",
    "\n",
    "#y_pred = np.reshape(y_pred, (y_pred.shape[0],1))\n",
    "#y_pred.shape\n",
    "#np.concatenate((y_pred, p_pred), axis=1)"
   ]
  },
  {
   "cell_type": "markdown",
   "metadata": {},
   "source": [
    "# Prediction accuracy"
   ]
  },
  {
   "cell_type": "code",
   "execution_count": 12,
   "metadata": {},
   "outputs": [
    {
     "name": "stdout",
     "output_type": "stream",
     "text": [
      "Accuracy: 1.0\n",
      "Confusion Matrix: [[1300    0]\n",
      " [   0 1138]]\n"
     ]
    },
    {
     "data": {
      "image/png": "[encoded data removed]",
      "text/plain": [
       "<Figure size 432x288 with 2 Axes>"
      ]
     },
     "metadata": {
      "needs_background": "light"
     },
     "output_type": "display_data"
    },
    {
     "name": "stdout",
     "output_type": "stream",
     "text": [
      "              precision    recall  f1-score   support\n",
      "\n",
      "           0       1.00      1.00      1.00      1300\n",
      "           1       1.00      1.00      1.00      1138\n",
      "\n",
      "    accuracy                           1.00      2438\n",
      "   macro avg       1.00      1.00      1.00      2438\n",
      "weighted avg       1.00      1.00      1.00      2438\n",
      "\n"
     ]
    },
    {
     "data": {
      "image/png": "[encoded data removed]",
      "text/plain": [
       "<Figure size 432x288 with 1 Axes>"
      ]
     },
     "metadata": {
      "needs_background": "light"
     },
     "output_type": "display_data"
    },
    {
     "data": {
      "text/plain": [
       "1.0"
      ]
     },
     "execution_count": 12,
     "metadata": {},
     "output_type": "execute_result"
    }
   ],
   "source": [
    "from sklearn import metrics\n",
    "import matplotlib.pyplot as plt\n",
    "\n",
    "print(\"Accuracy:\", metrics.accuracy_score(y_test, y_pred))\n",
    "print(\"Confusion Matrix:\", metrics.confusion_matrix(y_test, y_pred))\n",
    "metrics.plot_confusion_matrix(f, X_test, y_test)\n",
    "plt.show()\n",
    "print(metrics.classification_report(y_test, y_pred))\n",
    "#print(metrics.roc_curve(y_test, y_pred))\n",
    "metrics.plot_roc_curve(f, X_test, y_test)\n",
    "plt.plot([0, 1], [0, 1], linestyle='--', lw=2, color='r', label='Chance', alpha=.8)\n",
    "plt.show()\n",
    "metrics.roc_auc_score(y_test, y_pred)"
   ]
  },
  {
   "cell_type": "markdown",
   "metadata": {},
   "source": [
    "# Random Forests\n",
    "\n",
    "* A random forest is an ensemble of multiple *randomized* decision trees\n",
    "\n",
    "$$\\hat{f}(\\boldsymbol{x})= \\frac{1}{B}\\sum_{b=1}^{B}\\hat{f}\\left(\\boldsymbol{x};\\hat{\\boldsymbol{\\theta}}_b\\right)$$\n",
    "\n",
    "* Trees in the ensemble are built from bootstrap samples of $\\mathcal{D}$ (i.e. bagging) but also, injecting randomness in order to get decorrelated trees.\n",
    "\n",
    "* The idea is to improve the variance of bagging by reducing the correlation $\\rho$ between trees, without increasing the variance $\\sigma^2$ too much,\n",
    " \n",
    " $$\\mathrm{Var}_{\\mathcal{D},\\boldsymbol{\\theta}_1,\\ldots,\\boldsymbol{\\theta}_M}\\left(\\hat{f}_{\\mathrm{bag}}(\\boldsymbol{x})\\right)=\\rho_{\\mathcal{D},\\boldsymbol{\\theta}_l,\\boldsymbol{\\theta}_m}(\\boldsymbol{x})\\sigma^2_{\\mathcal{D},\\boldsymbol{\\theta}}(\\boldsymbol{x}) + \\frac{1-\\rho_{\\mathcal{D},\\boldsymbol{\\theta}_l,\\boldsymbol{\\theta}_m}(\\boldsymbol{x})}{M}\\sigma^2_{\\mathcal{D},\\boldsymbol{\\theta}}(\\boldsymbol{x})$$\n",
    "\n",
    "    * If $\\rho(\\boldsymbol{x})<1$, $\\mathrm{Var}_{\\mathcal{D},\\boldsymbol{\\theta}_1,\\ldots,\\boldsymbol{\\theta}_M}\\left(\\hat{f}_{\\mathrm{bag}}(\\boldsymbol{x})\\right)<\\sigma^2_{\\mathcal{D},\\boldsymbol{\\theta}}(\\boldsymbol{x})$\n",
    "    * If $\\rho(\\boldsymbol{x})\\to0$, $\\mathrm{Var}_{\\mathcal{D},\\boldsymbol{\\theta}_1,\\ldots,\\boldsymbol{\\theta}_M}\\left(\\hat{f}_{\\mathrm{bag}}(\\boldsymbol{x})\\right)\\to\\sigma^2_{\\mathcal{D},\\boldsymbol{\\theta}}(\\boldsymbol{x})/M\\to0$, as $M\\to\\infty$.\n",
    "    * If $\\rho(\\boldsymbol{x})\\to1$, $\\mathrm{Var}_{\\mathcal{D},\\boldsymbol{\\theta}_1,\\ldots,\\boldsymbol{\\theta}_M}\\left(\\hat{f}_{\\mathrm{bag}}(\\boldsymbol{x})\\right)\\to\\sigma^2_{\\mathcal{D},\\boldsymbol{\\theta}}(\\boldsymbol{x})$.\n",
    "\n",
    "### Random Forest algorithm\n",
    "\n",
    "1. For $b= 1,\\ldots,B$:\n",
    "\n",
    "    * Draw a bootstrap sample $\\mathcal{D}^{\\ast b}$ of size $n$ from $\\mathcal{D}$.\n",
    "    * Grow a tree $f^{\\ast b}$ from $\\mathcal{D}^{\\ast b}$ by recursively repeating the next steps:\n",
    "    \n",
    "        * At each node randomly select a subset $m<p$ from the $p$ features.\n",
    "        * Find the best variable/split $\\hat{s}_j$, $j=1,\\ldots,m$, among the $m$ features.\n",
    "        * Grow $f^{\\ast b}$ to a maximum depth with no pruning (until a $n_{\\min}$ node is got).\n",
    "\n",
    "2. Prediction at a new point $\\boldsymbol{x}$:\n",
    "    \n",
    "    * Regression: $\\hat{f}_{\\mathrm{rf}}(\\boldsymbol{x})= \\frac{1}{B}\\sum_{b=1}^{B}\\hat{f}^{\\ast b} \\left(\\boldsymbol{x};\\hat{\\boldsymbol{\\theta}}_b\\right)$\n",
    "    * Classification: $\\hat{f}_{\\mathrm{rf}}(\\boldsymbol{x})=\\arg\\max_{k\\in\\mathcal{Y}}\\sum_{b=1}^{B} I\\left( \\hat{f}^{\\ast b}(\\boldsymbol{x};\\hat{\\boldsymbol{\\theta}}_b)=k\\right)$\n",
    "    \n",
    "Typically values for $m$ and $n_{\\min}$ are:\n",
    "\n",
    "   * Classification: $m=\\lfloor\\sqrt{p}\\rfloor$ and $n_{\\min}=1$\n",
    "   * Regression: $m =\\lfloor p/3\\rfloor$ and $n_{\\min}=5$"
   ]
  },
  {
   "cell_type": "markdown",
   "metadata": {},
   "source": [
    "# Training"
   ]
  },
  {
   "cell_type": "code",
   "execution_count": 13,
   "metadata": {},
   "outputs": [
    {
     "data": {
      "text/plain": [
       "RandomForestClassifier(bootstrap=True, ccp_alpha=0.0, class_weight=None,\n",
       "                       criterion='gini', max_depth=None, max_features='auto',\n",
       "                       max_leaf_nodes=None, max_samples=None,\n",
       "                       min_impurity_decrease=0.0, min_impurity_split=None,\n",
       "                       min_samples_leaf=1, min_samples_split=2,\n",
       "                       min_weight_fraction_leaf=0.0, n_estimators=11,\n",
       "                       n_jobs=None, oob_score=False, random_state=77, verbose=0,\n",
       "                       warm_start=False)"
      ]
     },
     "execution_count": 13,
     "metadata": {},
     "output_type": "execute_result"
    }
   ],
   "source": [
    "from sklearn.ensemble import RandomForestClassifier\n",
    "\n",
    "f = RandomForestClassifier(\n",
    "                           n_estimators=11,\n",
    "                           criterion='gini',    # “entropy”\n",
    "                           max_depth=None,      # maximum depth of the tree\n",
    "                           min_samples_split=2, # minimum number of samples required to split an internal node\n",
    "                           min_samples_leaf=1,  # minimum number of samples required to be at a leaf node\n",
    "                           max_leaf_nodes=None,\n",
    "                           max_features='auto', # “auto”, then max_features=sqrt(n_features)\n",
    "                           bootstrap=True,\n",
    "                           oob_score=False,\n",
    "                           random_state=77\n",
    "                           )\n",
    "\n",
    "f = f.fit(X_train, y_train)\n",
    "f"
   ]
  },
  {
   "cell_type": "markdown",
   "metadata": {},
   "source": [
    "# Tuning Hyperparameter"
   ]
  },
  {
   "cell_type": "code",
   "execution_count": 14,
   "metadata": {},
   "outputs": [
    {
     "name": "stdout",
     "output_type": "stream",
     "text": [
      "Best: 1.000000 using {'n_estimators': 2}\n",
      "0.999648 with: {'n_estimators': 1}\n",
      "1.000000 with: {'n_estimators': 2}\n",
      "1.000000 with: {'n_estimators': 3}\n",
      "1.000000 with: {'n_estimators': 4}\n",
      "1.000000 with: {'n_estimators': 5}\n",
      "1.000000 with: {'n_estimators': 6}\n",
      "1.000000 with: {'n_estimators': 7}\n",
      "1.000000 with: {'n_estimators': 8}\n",
      "1.000000 with: {'n_estimators': 9}\n",
      "1.000000 with: {'n_estimators': 10}\n",
      "1.000000 with: {'n_estimators': 11}\n",
      "1.000000 with: {'n_estimators': 12}\n",
      "1.000000 with: {'n_estimators': 13}\n",
      "1.000000 with: {'n_estimators': 14}\n",
      "1.000000 with: {'n_estimators': 15}\n",
      "1.000000 with: {'n_estimators': 16}\n",
      "1.000000 with: {'n_estimators': 17}\n",
      "1.000000 with: {'n_estimators': 18}\n",
      "1.000000 with: {'n_estimators': 19}\n",
      "1.000000 with: {'n_estimators': 20}\n",
      "1.000000 with: {'n_estimators': 21}\n",
      "1.000000 with: {'n_estimators': 22}\n",
      "1.000000 with: {'n_estimators': 23}\n",
      "1.000000 with: {'n_estimators': 24}\n",
      "1.000000 with: {'n_estimators': 25}\n",
      "1.000000 with: {'n_estimators': 26}\n",
      "1.000000 with: {'n_estimators': 27}\n",
      "1.000000 with: {'n_estimators': 28}\n",
      "1.000000 with: {'n_estimators': 29}\n",
      "1.000000 with: {'n_estimators': 30}\n",
      "1.000000 with: {'n_estimators': 31}\n",
      "1.000000 with: {'n_estimators': 32}\n",
      "1.000000 with: {'n_estimators': 33}\n",
      "1.000000 with: {'n_estimators': 34}\n",
      "1.000000 with: {'n_estimators': 35}\n",
      "1.000000 with: {'n_estimators': 36}\n",
      "1.000000 with: {'n_estimators': 37}\n",
      "1.000000 with: {'n_estimators': 38}\n",
      "1.000000 with: {'n_estimators': 39}\n",
      "1.000000 with: {'n_estimators': 40}\n",
      "1.000000 with: {'n_estimators': 41}\n",
      "1.000000 with: {'n_estimators': 42}\n",
      "1.000000 with: {'n_estimators': 43}\n",
      "1.000000 with: {'n_estimators': 44}\n",
      "1.000000 with: {'n_estimators': 45}\n",
      "1.000000 with: {'n_estimators': 46}\n",
      "1.000000 with: {'n_estimators': 47}\n",
      "1.000000 with: {'n_estimators': 48}\n",
      "1.000000 with: {'n_estimators': 49}\n",
      "1.000000 with: {'n_estimators': 50}\n",
      "1.000000 with: {'n_estimators': 51}\n",
      "1.000000 with: {'n_estimators': 52}\n",
      "1.000000 with: {'n_estimators': 53}\n",
      "1.000000 with: {'n_estimators': 54}\n",
      "1.000000 with: {'n_estimators': 55}\n",
      "1.000000 with: {'n_estimators': 56}\n",
      "1.000000 with: {'n_estimators': 57}\n",
      "1.000000 with: {'n_estimators': 58}\n",
      "1.000000 with: {'n_estimators': 59}\n",
      "1.000000 with: {'n_estimators': 60}\n",
      "1.000000 with: {'n_estimators': 61}\n",
      "1.000000 with: {'n_estimators': 62}\n",
      "1.000000 with: {'n_estimators': 63}\n",
      "1.000000 with: {'n_estimators': 64}\n",
      "1.000000 with: {'n_estimators': 65}\n",
      "1.000000 with: {'n_estimators': 66}\n",
      "1.000000 with: {'n_estimators': 67}\n",
      "1.000000 with: {'n_estimators': 68}\n",
      "1.000000 with: {'n_estimators': 69}\n",
      "1.000000 with: {'n_estimators': 70}\n",
      "1.000000 with: {'n_estimators': 71}\n",
      "1.000000 with: {'n_estimators': 72}\n",
      "1.000000 with: {'n_estimators': 73}\n",
      "1.000000 with: {'n_estimators': 74}\n",
      "1.000000 with: {'n_estimators': 75}\n",
      "1.000000 with: {'n_estimators': 76}\n",
      "1.000000 with: {'n_estimators': 77}\n",
      "1.000000 with: {'n_estimators': 78}\n",
      "1.000000 with: {'n_estimators': 79}\n",
      "1.000000 with: {'n_estimators': 80}\n",
      "1.000000 with: {'n_estimators': 81}\n",
      "1.000000 with: {'n_estimators': 82}\n",
      "1.000000 with: {'n_estimators': 83}\n",
      "1.000000 with: {'n_estimators': 84}\n",
      "1.000000 with: {'n_estimators': 85}\n",
      "1.000000 with: {'n_estimators': 86}\n",
      "1.000000 with: {'n_estimators': 87}\n",
      "1.000000 with: {'n_estimators': 88}\n",
      "1.000000 with: {'n_estimators': 89}\n",
      "1.000000 with: {'n_estimators': 90}\n",
      "1.000000 with: {'n_estimators': 91}\n",
      "1.000000 with: {'n_estimators': 92}\n",
      "1.000000 with: {'n_estimators': 93}\n",
      "1.000000 with: {'n_estimators': 94}\n",
      "1.000000 with: {'n_estimators': 95}\n",
      "1.000000 with: {'n_estimators': 96}\n",
      "1.000000 with: {'n_estimators': 97}\n",
      "1.000000 with: {'n_estimators': 98}\n",
      "1.000000 with: {'n_estimators': 99}\n",
      "1.000000 with: {'n_estimators': 100}\n"
     ]
    }
   ],
   "source": [
    "from sklearn.ensemble import RandomForestClassifier\n",
    "from sklearn.model_selection import GridSearchCV\n",
    "from sklearn.model_selection import KFold\n",
    "\n",
    "f = RandomForestClassifier(\n",
    "                           n_estimators=100,\n",
    "                           criterion='gini',    # “entropy”\n",
    "                           max_depth=None,      # maximum depth of the tree\n",
    "                           min_samples_split=2, # minimum number of samples required to split an internal node\n",
    "                           min_samples_leaf=1,  # minimum number of samples required to be at a leaf node\n",
    "                           max_leaf_nodes=None,\n",
    "                           max_features='auto', # “auto”, then max_features=sqrt(n_features)\n",
    "                           bootstrap=True,\n",
    "                           oob_score=False,\n",
    "                           random_state=77\n",
    "                          )\n",
    "\n",
    "# define grid search\n",
    "n_estimators = range(1, 101)\n",
    "grid = dict(n_estimators=n_estimators)\n",
    "kfold = KFold(n_splits=10, shuffle=False, random_state=None)\n",
    "grid_search = GridSearchCV(estimator=f, param_grid=grid, n_jobs=-1, cv=kfold, scoring='accuracy')\n",
    "grid_result = grid_search.fit(X_train, y_train)\n",
    "# summarize results\n",
    "print('Best: %f using %s' % (grid_result.best_score_, grid_result.best_params_))\n",
    "means = grid_result.cv_results_['mean_test_score']\n",
    "params = grid_result.cv_results_['params']\n",
    "for mean, param in zip(means, params):\n",
    "    print('%f with: %r' % (mean, param))"
   ]
  },
  {
   "cell_type": "code",
   "execution_count": 15,
   "metadata": {},
   "outputs": [
    {
     "name": "stderr",
     "output_type": "stream",
     "text": [
      "/anaconda3/lib/python3.7/site-packages/sklearn/ensemble/_forest.py:523: UserWarning: Some inputs do not have OOB scores. This probably means too few trees were used to compute any reliable oob estimates.\n",
      "  warn(\"Some inputs do not have OOB scores. \"\n",
      "/anaconda3/lib/python3.7/site-packages/sklearn/ensemble/_forest.py:528: RuntimeWarning: divide by zero encountered in true_divide\n",
      "  predictions[k].sum(axis=1)[:, np.newaxis])\n",
      "/anaconda3/lib/python3.7/site-packages/sklearn/ensemble/_forest.py:528: RuntimeWarning: invalid value encountered in true_divide\n",
      "  predictions[k].sum(axis=1)[:, np.newaxis])\n",
      "/anaconda3/lib/python3.7/site-packages/sklearn/ensemble/_forest.py:523: UserWarning: Some inputs do not have OOB scores. This probably means too few trees were used to compute any reliable oob estimates.\n",
      "  warn(\"Some inputs do not have OOB scores. \"\n",
      "/anaconda3/lib/python3.7/site-packages/sklearn/ensemble/_forest.py:528: RuntimeWarning: invalid value encountered in true_divide\n",
      "  predictions[k].sum(axis=1)[:, np.newaxis])\n",
      "/anaconda3/lib/python3.7/site-packages/sklearn/ensemble/_forest.py:523: UserWarning: Some inputs do not have OOB scores. This probably means too few trees were used to compute any reliable oob estimates.\n",
      "  warn(\"Some inputs do not have OOB scores. \"\n",
      "/anaconda3/lib/python3.7/site-packages/sklearn/ensemble/_forest.py:528: RuntimeWarning: divide by zero encountered in true_divide\n",
      "  predictions[k].sum(axis=1)[:, np.newaxis])\n",
      "/anaconda3/lib/python3.7/site-packages/sklearn/ensemble/_forest.py:528: RuntimeWarning: invalid value encountered in true_divide\n",
      "  predictions[k].sum(axis=1)[:, np.newaxis])\n",
      "/anaconda3/lib/python3.7/site-packages/sklearn/ensemble/_forest.py:523: UserWarning: Some inputs do not have OOB scores. This probably means too few trees were used to compute any reliable oob estimates.\n",
      "  warn(\"Some inputs do not have OOB scores. \"\n",
      "/anaconda3/lib/python3.7/site-packages/sklearn/ensemble/_forest.py:528: RuntimeWarning: divide by zero encountered in true_divide\n",
      "  predictions[k].sum(axis=1)[:, np.newaxis])\n",
      "/anaconda3/lib/python3.7/site-packages/sklearn/ensemble/_forest.py:528: RuntimeWarning: invalid value encountered in true_divide\n",
      "  predictions[k].sum(axis=1)[:, np.newaxis])\n",
      "/anaconda3/lib/python3.7/site-packages/sklearn/ensemble/_forest.py:523: UserWarning: Some inputs do not have OOB scores. This probably means too few trees were used to compute any reliable oob estimates.\n",
      "  warn(\"Some inputs do not have OOB scores. \"\n",
      "/anaconda3/lib/python3.7/site-packages/sklearn/ensemble/_forest.py:528: RuntimeWarning: divide by zero encountered in true_divide\n",
      "  predictions[k].sum(axis=1)[:, np.newaxis])\n",
      "/anaconda3/lib/python3.7/site-packages/sklearn/ensemble/_forest.py:528: RuntimeWarning: invalid value encountered in true_divide\n",
      "  predictions[k].sum(axis=1)[:, np.newaxis])\n",
      "/anaconda3/lib/python3.7/site-packages/sklearn/ensemble/_forest.py:523: UserWarning: Some inputs do not have OOB scores. This probably means too few trees were used to compute any reliable oob estimates.\n",
      "  warn(\"Some inputs do not have OOB scores. \"\n",
      "/anaconda3/lib/python3.7/site-packages/sklearn/ensemble/_forest.py:528: RuntimeWarning: invalid value encountered in true_divide\n",
      "  predictions[k].sum(axis=1)[:, np.newaxis])\n",
      "/anaconda3/lib/python3.7/site-packages/sklearn/ensemble/_forest.py:523: UserWarning: Some inputs do not have OOB scores. This probably means too few trees were used to compute any reliable oob estimates.\n",
      "  warn(\"Some inputs do not have OOB scores. \"\n",
      "/anaconda3/lib/python3.7/site-packages/sklearn/ensemble/_forest.py:528: RuntimeWarning: divide by zero encountered in true_divide\n",
      "  predictions[k].sum(axis=1)[:, np.newaxis])\n",
      "/anaconda3/lib/python3.7/site-packages/sklearn/ensemble/_forest.py:528: RuntimeWarning: invalid value encountered in true_divide\n",
      "  predictions[k].sum(axis=1)[:, np.newaxis])\n",
      "/anaconda3/lib/python3.7/site-packages/sklearn/ensemble/_forest.py:523: UserWarning: Some inputs do not have OOB scores. This probably means too few trees were used to compute any reliable oob estimates.\n",
      "  warn(\"Some inputs do not have OOB scores. \"\n",
      "/anaconda3/lib/python3.7/site-packages/sklearn/ensemble/_forest.py:528: RuntimeWarning: divide by zero encountered in true_divide\n",
      "  predictions[k].sum(axis=1)[:, np.newaxis])\n",
      "/anaconda3/lib/python3.7/site-packages/sklearn/ensemble/_forest.py:528: RuntimeWarning: invalid value encountered in true_divide\n",
      "  predictions[k].sum(axis=1)[:, np.newaxis])\n",
      "/anaconda3/lib/python3.7/site-packages/sklearn/ensemble/_forest.py:523: UserWarning: Some inputs do not have OOB scores. This probably means too few trees were used to compute any reliable oob estimates.\n",
      "  warn(\"Some inputs do not have OOB scores. \"\n",
      "/anaconda3/lib/python3.7/site-packages/sklearn/ensemble/_forest.py:528: RuntimeWarning: divide by zero encountered in true_divide\n",
      "  predictions[k].sum(axis=1)[:, np.newaxis])\n",
      "/anaconda3/lib/python3.7/site-packages/sklearn/ensemble/_forest.py:528: RuntimeWarning: invalid value encountered in true_divide\n",
      "  predictions[k].sum(axis=1)[:, np.newaxis])\n",
      "/anaconda3/lib/python3.7/site-packages/sklearn/ensemble/_forest.py:523: UserWarning: Some inputs do not have OOB scores. This probably means too few trees were used to compute any reliable oob estimates.\n",
      "  warn(\"Some inputs do not have OOB scores. \"\n",
      "/anaconda3/lib/python3.7/site-packages/sklearn/ensemble/_forest.py:528: RuntimeWarning: divide by zero encountered in true_divide\n",
      "  predictions[k].sum(axis=1)[:, np.newaxis])\n",
      "/anaconda3/lib/python3.7/site-packages/sklearn/ensemble/_forest.py:528: RuntimeWarning: invalid value encountered in true_divide\n",
      "  predictions[k].sum(axis=1)[:, np.newaxis])\n",
      "/anaconda3/lib/python3.7/site-packages/sklearn/ensemble/_forest.py:523: UserWarning: Some inputs do not have OOB scores. This probably means too few trees were used to compute any reliable oob estimates.\n",
      "  warn(\"Some inputs do not have OOB scores. \"\n",
      "/anaconda3/lib/python3.7/site-packages/sklearn/ensemble/_forest.py:528: RuntimeWarning: divide by zero encountered in true_divide\n",
      "  predictions[k].sum(axis=1)[:, np.newaxis])\n",
      "/anaconda3/lib/python3.7/site-packages/sklearn/ensemble/_forest.py:528: RuntimeWarning: invalid value encountered in true_divide\n",
      "  predictions[k].sum(axis=1)[:, np.newaxis])\n",
      "/anaconda3/lib/python3.7/site-packages/sklearn/ensemble/_forest.py:523: UserWarning: Some inputs do not have OOB scores. This probably means too few trees were used to compute any reliable oob estimates.\n",
      "  warn(\"Some inputs do not have OOB scores. \"\n",
      "/anaconda3/lib/python3.7/site-packages/sklearn/ensemble/_forest.py:528: RuntimeWarning: divide by zero encountered in true_divide\n",
      "  predictions[k].sum(axis=1)[:, np.newaxis])\n",
      "/anaconda3/lib/python3.7/site-packages/sklearn/ensemble/_forest.py:528: RuntimeWarning: invalid value encountered in true_divide\n",
      "  predictions[k].sum(axis=1)[:, np.newaxis])\n",
      "/anaconda3/lib/python3.7/site-packages/sklearn/ensemble/_forest.py:523: UserWarning: Some inputs do not have OOB scores. This probably means too few trees were used to compute any reliable oob estimates.\n",
      "  warn(\"Some inputs do not have OOB scores. \"\n",
      "/anaconda3/lib/python3.7/site-packages/sklearn/ensemble/_forest.py:528: RuntimeWarning: divide by zero encountered in true_divide\n",
      "  predictions[k].sum(axis=1)[:, np.newaxis])\n",
      "/anaconda3/lib/python3.7/site-packages/sklearn/ensemble/_forest.py:528: RuntimeWarning: invalid value encountered in true_divide\n",
      "  predictions[k].sum(axis=1)[:, np.newaxis])\n",
      "/anaconda3/lib/python3.7/site-packages/sklearn/ensemble/_forest.py:523: UserWarning: Some inputs do not have OOB scores. This probably means too few trees were used to compute any reliable oob estimates.\n",
      "  warn(\"Some inputs do not have OOB scores. \"\n",
      "/anaconda3/lib/python3.7/site-packages/sklearn/ensemble/_forest.py:528: RuntimeWarning: divide by zero encountered in true_divide\n",
      "  predictions[k].sum(axis=1)[:, np.newaxis])\n",
      "/anaconda3/lib/python3.7/site-packages/sklearn/ensemble/_forest.py:528: RuntimeWarning: invalid value encountered in true_divide\n",
      "  predictions[k].sum(axis=1)[:, np.newaxis])\n",
      "/anaconda3/lib/python3.7/site-packages/sklearn/ensemble/_forest.py:523: UserWarning: Some inputs do not have OOB scores. This probably means too few trees were used to compute any reliable oob estimates.\n",
      "  warn(\"Some inputs do not have OOB scores. \"\n",
      "/anaconda3/lib/python3.7/site-packages/sklearn/ensemble/_forest.py:528: RuntimeWarning: divide by zero encountered in true_divide\n",
      "  predictions[k].sum(axis=1)[:, np.newaxis])\n",
      "/anaconda3/lib/python3.7/site-packages/sklearn/ensemble/_forest.py:528: RuntimeWarning: invalid value encountered in true_divide\n",
      "  predictions[k].sum(axis=1)[:, np.newaxis])\n",
      "/anaconda3/lib/python3.7/site-packages/sklearn/ensemble/_forest.py:523: UserWarning: Some inputs do not have OOB scores. This probably means too few trees were used to compute any reliable oob estimates.\n",
      "  warn(\"Some inputs do not have OOB scores. \"\n",
      "/anaconda3/lib/python3.7/site-packages/sklearn/ensemble/_forest.py:528: RuntimeWarning: invalid value encountered in true_divide\n",
      "  predictions[k].sum(axis=1)[:, np.newaxis])\n",
      "/anaconda3/lib/python3.7/site-packages/sklearn/ensemble/_forest.py:523: UserWarning: Some inputs do not have OOB scores. This probably means too few trees were used to compute any reliable oob estimates.\n",
      "  warn(\"Some inputs do not have OOB scores. \"\n",
      "/anaconda3/lib/python3.7/site-packages/sklearn/ensemble/_forest.py:528: RuntimeWarning: invalid value encountered in true_divide\n",
      "  predictions[k].sum(axis=1)[:, np.newaxis])\n"
     ]
    },
    {
     "name": "stderr",
     "output_type": "stream",
     "text": [
      "/anaconda3/lib/python3.7/site-packages/sklearn/ensemble/_forest.py:523: UserWarning: Some inputs do not have OOB scores. This probably means too few trees were used to compute any reliable oob estimates.\n",
      "  warn(\"Some inputs do not have OOB scores. \"\n",
      "/anaconda3/lib/python3.7/site-packages/sklearn/ensemble/_forest.py:528: RuntimeWarning: invalid value encountered in true_divide\n",
      "  predictions[k].sum(axis=1)[:, np.newaxis])\n",
      "/anaconda3/lib/python3.7/site-packages/sklearn/ensemble/_forest.py:523: UserWarning: Some inputs do not have OOB scores. This probably means too few trees were used to compute any reliable oob estimates.\n",
      "  warn(\"Some inputs do not have OOB scores. \"\n",
      "/anaconda3/lib/python3.7/site-packages/sklearn/ensemble/_forest.py:528: RuntimeWarning: invalid value encountered in true_divide\n",
      "  predictions[k].sum(axis=1)[:, np.newaxis])\n"
     ]
    }
   ],
   "source": [
    "from sklearn.ensemble import RandomForestClassifier\n",
    "\n",
    "f = RandomForestClassifier(\n",
    "                           n_estimators=100,\n",
    "                           criterion='gini',    # 'entropy'\n",
    "                           max_depth=None,      # maximum depth of the tree\n",
    "                           min_samples_split=2, # minimum number of samples required to split an internal node\n",
    "                           min_samples_leaf=1,  # minimum number of samples required to be at a leaf node\n",
    "                           max_features='auto', # 'auto', then max_features=sqrt(n_features)\n",
    "                           bootstrap=True,\n",
    "                           oob_score=True,\n",
    "                           random_state=77\n",
    "                          )\n",
    "\n",
    "min_estimators = 1\n",
    "max_estimators = 20\n",
    "\n",
    "oob_error   = []\n",
    "train_error = []\n",
    "test_error  = []\n",
    "for m in range(min_estimators, max_estimators + 1):\n",
    "    f.set_params(n_estimators = m)\n",
    "    f.fit(X_train, y_train)\n",
    "    # errors\n",
    "    oob_error.append(1 - f.oob_score_)\n",
    "    train_error.append(1 - f.score(X_train, y_train))\n",
    "    test_error.append(1 - f.score(X_test, y_test))"
   ]
  },
  {
   "cell_type": "code",
   "execution_count": 16,
   "metadata": {},
   "outputs": [
    {
     "data": {
      "image/png": "[encoded data removed]",
      "text/plain": [
       "<Figure size 432x288 with 1 Axes>"
      ]
     },
     "metadata": {
      "needs_background": "light"
     },
     "output_type": "display_data"
    }
   ],
   "source": [
    "import matplotlib.pyplot as plt\n",
    "\n",
    "fig, ax = plt.subplots()\n",
    "ax.set_xlabel(r'$m$')\n",
    "ax.set_ylabel('Error')\n",
    "ax.plot(oob_error, marker='.', label='OOB error')\n",
    "#ax.plot(train_error, marker='o', label='Train error')\n",
    "#ax.plot(test_error, marker='o', label='Test error')\n",
    "ax.legend()\n",
    "plt.show()"
   ]
  },
  {
   "cell_type": "markdown",
   "metadata": {},
   "source": [
    "# Prediction"
   ]
  },
  {
   "cell_type": "code",
   "execution_count": 17,
   "metadata": {},
   "outputs": [],
   "source": [
    "import numpy as np\n",
    "\n",
    "f = RandomForestClassifier(\n",
    "                           n_estimators=7,\n",
    "                           criterion='gini',    # “entropy”\n",
    "                           max_depth=None,      # maximum depth of the tree\n",
    "                           min_samples_split=2, # minimum number of samples required to split an internal node\n",
    "                           min_samples_leaf=1,  # minimum number of samples required to be at a leaf node\n",
    "                           max_leaf_nodes=None,\n",
    "                           max_features='auto', # “auto”, then max_features=sqrt(n_features)\n",
    "                           bootstrap=True,\n",
    "                           oob_score=False,\n",
    "                           random_state=77\n",
    "                          )\n",
    "\n",
    "f = f.fit(X_train, y_train)\n",
    "y_pred = f.predict(X_test)\n",
    "#p_pred = f.predict_proba(X_test)\n",
    "\n",
    "#y_pred = np.reshape(y_pred, (y_pred.shape[0],1))\n",
    "#y_pred.shape\n",
    "#np.concatenate((y_pred, p_pred), axis=1)"
   ]
  },
  {
   "cell_type": "markdown",
   "metadata": {},
   "source": [
    "# Prediction accuracy"
   ]
  },
  {
   "cell_type": "code",
   "execution_count": 18,
   "metadata": {},
   "outputs": [
    {
     "name": "stdout",
     "output_type": "stream",
     "text": [
      "Accuracy: 1.0\n",
      "Confusion Matrix: [[1300    0]\n",
      " [   0 1138]]\n"
     ]
    },
    {
     "data": {
      "image/png": "[encoded data removed]",
      "text/plain": [
       "<Figure size 432x288 with 2 Axes>"
      ]
     },
     "metadata": {
      "needs_background": "light"
     },
     "output_type": "display_data"
    },
    {
     "name": "stdout",
     "output_type": "stream",
     "text": [
      "              precision    recall  f1-score   support\n",
      "\n",
      "           0       1.00      1.00      1.00      1300\n",
      "           1       1.00      1.00      1.00      1138\n",
      "\n",
      "    accuracy                           1.00      2438\n",
      "   macro avg       1.00      1.00      1.00      2438\n",
      "weighted avg       1.00      1.00      1.00      2438\n",
      "\n"
     ]
    },
    {
     "data": {
      "image/png": "[encoded data removed]",
      "text/plain": [
       "<Figure size 432x288 with 1 Axes>"
      ]
     },
     "metadata": {
      "needs_background": "light"
     },
     "output_type": "display_data"
    },
    {
     "data": {
      "text/plain": [
       "1.0"
      ]
     },
     "execution_count": 18,
     "metadata": {},
     "output_type": "execute_result"
    }
   ],
   "source": [
    "from sklearn import metrics\n",
    "import matplotlib.pyplot as plt\n",
    "\n",
    "print(\"Accuracy:\", metrics.accuracy_score(y_test, y_pred))\n",
    "print(\"Confusion Matrix:\", metrics.confusion_matrix(y_test, y_pred))\n",
    "metrics.plot_confusion_matrix(f,X_test,y_test)\n",
    "plt.show()\n",
    "print(metrics.classification_report(y_test, y_pred))\n",
    "#print(metrics.roc_curve(y_test, y_pred))\n",
    "metrics.plot_roc_curve(f,X_test,y_test)\n",
    "plt.plot([0, 1], [0, 1], linestyle='--', lw=2, color='r', label='Chance', alpha=.8)\n",
    "plt.show()\n",
    "metrics.roc_auc_score(y_test, y_pred)"
   ]
  },
  {
   "cell_type": "markdown",
   "metadata": {},
   "source": [
    "# Feature importance\n",
    "\n",
    "In some situations, the aim is not only to make accurate predictions of $Y$ but also to identify most relevant features.\n",
    "\n",
    "## Variable importance measures:\n",
    "\n",
    "\n",
    "### Mean Decrease Impurity (MDI)\n",
    "\n",
    "* Measure of relative importance of an input variable $X_j$ for predicting $Y$\n",
    "\n",
    "$$\n",
    "\\mathrm{Imp}(X_j) = \\frac{1}{B}\\sum_{b=1}^{B}\\sum_{t=1}^{T_m}I(v_t=j) \\left[p(t)\\Delta i(s_{t}, t)\\right],\n",
    "$$\n",
    "\n",
    "where $v_t$ is the splitting variable at node $t$, $p(t)=n_t/n$, and $\\Delta i(s_{t},t)$ the impurity decrease.\n",
    "\n",
    "* Using the Gini index $i_\\mathrm{G}(t)$, $\\mathrm{Imp}(\\cdot)$ is called the *Gini importance* or *Mean Decrease Gini*.\n",
    "\n",
    "\n",
    "### Mean Decrease Accuracy (MDA)\n",
    "\n",
    "* Randomly permutes the values of $X_j$ in the out-of-bag (OOB) samples.\n",
    "* It is also known as the *permutation importance*.\n",
    "* $X_j$ is important for $Y$ if breaking their link  increases the prediction error\n",
    "* The breaking is given by randomly permute the values of $X_j$.\n",
    "* Difference of averages of $\\tiny{\\mathrm{OOB}}$ prediction errors before and after permutation %$\\small{X_j}$\n",
    "\n",
    "$$\n",
    "\\mathrm{Imp}_\\pi(X_j)\n",
    "\t= \\frac{1}{B}\\sum_{b=1}^{B}\\left[ \\frac{1}{|\\bar{\\mathcal{D}}_{\\pi(j)}^{b}|}\\sum_{(\\boldsymbol{x}_{i,\\pi(j)},y_i)\\in\\bar{\\mathcal{D}}_{\\pi(j)}^{b}} L\\left( y_i,\\hat{f}_{\\mathcal{D}^{*b}}(\\boldsymbol{x}_{i,\\pi(j)})\\right) - \\frac{1}{|\\bar{\\mathcal{D}}^{b}|}\\sum_{(\\boldsymbol{x}_i,y_i)\\in\\bar{\\mathcal{D}}^{b}} L\\left( y_i,\\hat{f}_{\\mathcal{D}^{*b}}(\\boldsymbol{x}_i)\\right)\\right],\n",
    "$$\n",
    "\n",
    "where $\\bar{\\mathcal{D}}^{b}$ is the $b$th $\\mathrm{OOB}$ sample, and $\\small{\\bar{\\mathcal{D}}_{\\pi(j)}^{b}}$ the corresponding $b$th permuted $\\mathrm{OOB}$ sample by random permutations of the values of $X_j$."
   ]
  },
  {
   "cell_type": "code",
   "execution_count": 19,
   "metadata": {},
   "outputs": [
    {
     "name": "stdout",
     "output_type": "stream",
     "text": [
      "odor_n                        0.092213\n",
      "gill-size_n                   0.075929\n",
      "bruises_f                     0.073744\n",
      "gill-size_b                   0.069079\n",
      "stalk-surface-below-ring_s    0.063381\n",
      "odor_f                        0.055425\n",
      "population_v                  0.053151\n",
      "habitat_g                     0.036195\n",
      "spore-print-color_h           0.034351\n",
      "stalk-color-above-ring_w      0.029871\n",
      "stalk-surface-below-ring_k    0.028031\n",
      "stalk-root_b                  0.026520\n",
      "gill-spacing_c                0.026202\n",
      "habitat_u                     0.022737\n",
      "stalk-root_c                  0.021950\n",
      "dtype: float64\n"
     ]
    },
    {
     "data": {
      "image/png": "[encoded data removed]",
      "text/plain": [
       "<Figure size 432x288 with 1 Axes>"
      ]
     },
     "metadata": {
      "needs_background": "light"
     },
     "output_type": "display_data"
    }
   ],
   "source": [
    "import pandas as pd\n",
    "import matplotlib.pyplot as plt\n",
    "\n",
    "feat_importances = pd.Series(f.feature_importances_, index=X_train.columns)\n",
    "\n",
    "feat_importances = feat_importances.sort_values(ascending=False)\n",
    "print(feat_importances.head(15))\n",
    "\n",
    "feat_importances.nlargest(15).plot(kind='barh', color='#1f77b4')\n",
    "plt.xlabel('Gini importance')\n",
    "#plt.ylabel('Feature')\n",
    "plt.show()"
   ]
  },
  {
   "cell_type": "code",
   "execution_count": 20,
   "metadata": {},
   "outputs": [
    {
     "name": "stdout",
     "output_type": "stream",
     "text": [
      "spore-print-color_h    0.009680\n",
      "spore-print-color_r    0.002789\n",
      "population_v           0.001641\n",
      "habitat_g              0.000082\n",
      "dtype: float64\n"
     ]
    },
    {
     "data": {
      "image/png": "[encoded data removed]",
      "text/plain": [
       "<Figure size 432x288 with 1 Axes>"
      ]
     },
     "metadata": {
      "needs_background": "light"
     },
     "output_type": "display_data"
    }
   ],
   "source": [
    "import pandas as pd\n",
    "import matplotlib.pyplot as plt\n",
    "from sklearn.inspection import permutation_importance\n",
    "\n",
    "feat_import = permutation_importance(f, X_test, y_test, n_jobs=2, random_state=77)\n",
    "\n",
    "feat_importances = pd.Series(feat_import.importances_mean, index=X_train.columns)\n",
    "feat_importances = feat_importances.sort_values(ascending=False)\n",
    "print(feat_importances.head(4))\n",
    "\n",
    "feat_importances.nlargest(4).plot(kind='barh', color='#1f77b4')\n",
    "plt.xlabel('Permutation Relative importance')\n",
    "plt.show()"
   ]
  },
  {
   "cell_type": "markdown",
   "metadata": {},
   "source": [
    "# Boosting\n",
    "\n",
    "* It sequentially trains the classifiers $\\{f_m\\}_{m=1}^M$ on *weighted* versions of data, giving higher weights to misclassified cases.\n",
    "\n",
    "* Predictions are combined through a weighted majority vote to produce the final prediction:\n",
    "\n",
    "$$\n",
    "f(\\boldsymbol{x}) = \\mathrm{sign}\\left[\\sum_{m=1}^{M} \\alpha_m f_m(\\boldsymbol{x})\\right]\n",
    "$$\n",
    "\n",
    "where $\\alpha_m$ weights $f_m$ by giving higher influence to more accurate classifiers.\n",
    "\n",
    "$$\n",
    "\t\\begin{split}\n",
    "\t&\\text{Weighted data 1}\\quad\\ \\ \\xrightarrow{\\text{base learner}}\\quad f_1(\\boldsymbol{x})\\\\\n",
    "\t&\\text{Weighted data 2}\\quad\\ \\ \\xrightarrow{\\text{base learner}}\\quad f_2(\\boldsymbol{x})\\\\\n",
    "\t&\\qquad\\quad\\ \\vdots\\qquad\\qquad\\quad\\ \\vdots\\quad\\qquad\\ \\vdots\\\\\n",
    "\t&\\text{Weighted data }M\\quad \\xrightarrow{\\text{base learner}}\\quad f_M(\\boldsymbol{x})\\\\\n",
    "\t&\\text{Ensembling:}\\qquad\\quad\\ \\ f(\\boldsymbol{x}) = \\mathrm{sign}\\left[\\sum_{m=1}^{M} \\alpha_m f_m(\\boldsymbol{x})\\right]\\\\\n",
    "\t\\end{split}\n",
    "$$\n",
    "\n",
    "* Tree-based methods are the most popular base learner.\n",
    "\n",
    "* The ensemble in $f(\\boldsymbol{x})$ follows the form of a *basis expansion*,\n",
    "$$\n",
    "f(\\boldsymbol{x})=\\sum_{m=1}^{M}\\beta_mh(\\boldsymbol{x};\\boldsymbol{\\gamma}_m).\n",
    "$$\n",
    "\n",
    "where $\\{h(\\boldsymbol{x};\\boldsymbol{\\gamma}_m)\\}$ are *base learners* with parameter vectors $\\{\\boldsymbol{\\gamma}_m\\}$, and $\\{\\beta_m\\}$ are expansion coefficients.\n",
    "\n",
    "#### Forward stagewise algorithm:\n",
    "\n",
    "$\\{\\beta_m,\\boldsymbol{\\gamma}_m\\}$ can be obtained by:\n",
    "\t\n",
    "1. Start with a initial guess $f^{(0)}(\\boldsymbol{x})$ (known as the *offset* value).\n",
    "2. For $m=1,\\ldots,M$:\n",
    "\n",
    "    * Compute\n",
    "    \n",
    "    $$(\\beta_m,\\boldsymbol{\\gamma}_m)=\\arg\\min_{\\beta,\\boldsymbol{\\gamma}}\\sum_{i=1}^{n}L\\left(y_i,f^{(m-1)}(\\boldsymbol{x}_i) + \\beta h(\\boldsymbol{x}_i;\\boldsymbol{\\gamma})\\right).\n",
    "$$\n",
    "\n",
    "    * Set $f^{(m)}(\\boldsymbol{x}) = f^{(m-1)}(\\boldsymbol{x}) + \\beta_mh(\\boldsymbol{x};\\boldsymbol{\\gamma}_m)$.\n",
    "\n",
    "\n",
    "## Gradient Boosting\n",
    "\n",
    "* Boosting can be attained by *numerical optimization* (Friedman, 2001), by using the **_gradient steepest-descent_** algorithm to obtain\n",
    "\n",
    "$$\t\\hat{f}(\\boldsymbol{x})=\\arg\\min_{f\\in\\mathcal{F}}\\mathbb{E}_{Y|\\boldsymbol{x}}\\left(L(Y,f(\\boldsymbol{x}))\\right),\\quad \\mathcal{F}\\ \\text{ Space of functions}.\n",
    "$$\n",
    "\n",
    "where the update is given by a step-size $\\rho_m$ in the direction of the negative gradient $g_m$ at $f^{(m-1)}$,\n",
    "\n",
    "$$\n",
    "\\begin{split}\n",
    "f^{(m)}(\\boldsymbol{x}) \n",
    "&= f^{(m-1)}(\\boldsymbol{x}) +f_m(\\boldsymbol{x})\\\\\n",
    "&= f^{(m-1)}(\\boldsymbol{x}) -\\rho_mg_m(\\boldsymbol{x}),\\quad\\rho_m>0,\n",
    "\\end{split}\n",
    "$$\n",
    "\n",
    "with\n",
    "\n",
    "$$g_m(\\boldsymbol{x})=\\left[\\frac{\\partial L(y_i,f(\\boldsymbol{x}_i))}{\\partial f(\\boldsymbol{x}_i)}\\right]_{f(\\boldsymbol{x}_i)=f^{(m-1)}(\\boldsymbol{x}_i)} ,\\quad i=1,\\ldots,n.\n",
    "$$\n",
    "\n",
    "## Regularization\n",
    "\n",
    "* The main hyperparameter of boosting is the number of iterations $M$.\n",
    "* At each iteration the training risk is usually reduced, thus for $M$ large enough it can be made arbitrarily small leading to overfitting.\n",
    "* Regularization can be achieved through early stopping.\n",
    "* Unlike bagging and random forests, boosting can overfit if $M$ is too large.\n",
    "* An optimal number of $M$ can be obtained by Cross-Validation.\n",
    "* Regularization through shrinkage methods is also other possible strategy\n",
    "* Usually a shrinkage (also learning rate) parameter $0<\\nu\\leq1$ is included,\n",
    "\n",
    "$$\n",
    "\\begin{split}\n",
    "f^{(m)}(\\boldsymbol{x})&= f^{(m-1)}(\\boldsymbol{x}) + \\nu f_m(\\boldsymbol{x})\\\\\n",
    "f(\\boldsymbol{x})&= \\sum_{m=0}^{M}\\nu f_m(\\boldsymbol{x})\n",
    "\\end{split}\n",
    "$$\n",
    "\n",
    "* There is a trade-off between $\\nu$ and $M$.\n",
    "* Smaller values of $\\nu$ (more shrinkage) increase $M$ (more computing time), while the predictive accuracy is potentially better.\n",
    "* The choice of $\\nu$ is not crucial. The best way is set $\\nu\\leq 0.1$, and determine $M$ by early stopping."
   ]
  },
  {
   "cell_type": "markdown",
   "metadata": {},
   "source": [
    "# Training"
   ]
  },
  {
   "cell_type": "code",
   "execution_count": 21,
   "metadata": {},
   "outputs": [
    {
     "data": {
      "text/plain": [
       "GradientBoostingClassifier(ccp_alpha=0.0, criterion='friedman_mse', init=None,\n",
       "                           learning_rate=1.0, loss='deviance', max_depth=3,\n",
       "                           max_features=None, max_leaf_nodes=None,\n",
       "                           min_impurity_decrease=0.0, min_impurity_split=None,\n",
       "                           min_samples_leaf=1, min_samples_split=2,\n",
       "                           min_weight_fraction_leaf=0.0, n_estimators=100,\n",
       "                           n_iter_no_change=None, presort='deprecated',\n",
       "                           random_state=77, subsample=1.0, tol=0.0001,\n",
       "                           validation_fraction=0.1, verbose=0,\n",
       "                           warm_start=False)"
      ]
     },
     "execution_count": 21,
     "metadata": {},
     "output_type": "execute_result"
    }
   ],
   "source": [
    "from sklearn.ensemble import GradientBoostingClassifier\n",
    "\n",
    "f = GradientBoostingClassifier(\n",
    "                               loss='deviance',     # using loss='exponential' yields the AdaBoost algorithm\n",
    "                               n_estimators=100,    # number of boosting stages\n",
    "                               learning_rate=1.0,   # shrinkage (or learning rate) parameter\n",
    "                               subsample=1.0,       # if subsample < 1.0 yields the Stochastic Gradient Boosting\n",
    "                               max_depth=3,         # maximum depth of the tree\n",
    "                               min_samples_split=2, # minimum number of samples required to split an internal node\n",
    "                               min_samples_leaf=1,  # minimum number of samples required to be at a leaf node\n",
    "                               max_features=None,   # number of features to consider\n",
    "                               random_state=77\n",
    "                              )\n",
    "\n",
    "f.fit(X_train, y_train)\n",
    "f"
   ]
  },
  {
   "cell_type": "markdown",
   "metadata": {},
   "source": [
    "# Tuning Hyperparameters "
   ]
  },
  {
   "cell_type": "code",
   "execution_count": 22,
   "metadata": {},
   "outputs": [
    {
     "name": "stdout",
     "output_type": "stream",
     "text": [
      "Best: 1.000000 using {'n_estimators': 11}\n",
      "0.985930 with: {'n_estimators': 1}\n",
      "0.993845 with: {'n_estimators': 2}\n",
      "0.996482 with: {'n_estimators': 3}\n",
      "0.997713 with: {'n_estimators': 4}\n",
      "0.998768 with: {'n_estimators': 5}\n",
      "0.999472 with: {'n_estimators': 6}\n",
      "0.999648 with: {'n_estimators': 7}\n",
      "0.999648 with: {'n_estimators': 8}\n",
      "0.999648 with: {'n_estimators': 9}\n",
      "0.999824 with: {'n_estimators': 10}\n",
      "1.000000 with: {'n_estimators': 11}\n",
      "1.000000 with: {'n_estimators': 12}\n",
      "1.000000 with: {'n_estimators': 13}\n",
      "1.000000 with: {'n_estimators': 14}\n",
      "1.000000 with: {'n_estimators': 15}\n",
      "1.000000 with: {'n_estimators': 16}\n",
      "1.000000 with: {'n_estimators': 17}\n",
      "1.000000 with: {'n_estimators': 18}\n",
      "1.000000 with: {'n_estimators': 19}\n",
      "1.000000 with: {'n_estimators': 20}\n"
     ]
    }
   ],
   "source": [
    "from sklearn.ensemble import GradientBoostingClassifier\n",
    "from sklearn.model_selection import GridSearchCV\n",
    "from sklearn.model_selection import KFold\n",
    "\n",
    "# grid search\n",
    "n_estimators = range(1, 21)\n",
    "grid = dict(n_estimators=n_estimators)\n",
    "kfold = KFold(n_splits=10, shuffle=False, random_state=None)\n",
    "grid_search = GridSearchCV(estimator=f, param_grid=grid, n_jobs=-1, cv=kfold, scoring='accuracy')\n",
    "grid_result = grid_search.fit(X_train, y_train)\n",
    "# results\n",
    "print('Best: %f using %s' % (grid_result.best_score_, grid_result.best_params_))\n",
    "means = grid_result.cv_results_['mean_test_score']\n",
    "params = grid_result.cv_results_['params']\n",
    "for mean, param in zip(means, params):\n",
    "    print('%f with: %r' % (mean, param))"
   ]
  },
  {
   "cell_type": "code",
   "execution_count": 23,
   "metadata": {},
   "outputs": [
    {
     "data": {
      "image/png": "[encoded data removed]",
      "text/plain": [
       "<Figure size 432x288 with 1 Axes>"
      ]
     },
     "metadata": {
      "needs_background": "light"
     },
     "output_type": "display_data"
    }
   ],
   "source": [
    "import matplotlib.pyplot as plt\n",
    "\n",
    "fig, ax = plt.subplots()\n",
    "ax.set_xlabel(r'$m$')\n",
    "ax.set_ylabel('CV Error')\n",
    "ax.plot(1-means, marker='.', label='CV Error')\n",
    "#ax.plot(train_error, marker='o', label='Train error')\n",
    "#ax.plot(test_error, marker='o', label='Test error')\n",
    "#ax.legend()\n",
    "plt.show()"
   ]
  },
  {
   "cell_type": "markdown",
   "metadata": {},
   "source": [
    "#  Optimal $M$ by early stopping"
   ]
  },
  {
   "cell_type": "code",
   "execution_count": 24,
   "metadata": {},
   "outputs": [
    {
     "name": "stdout",
     "output_type": "stream",
     "text": [
      "Mean accuracy without early stopping: 1.0\n",
      "Mean accuracy with early stopping: 1.0\n",
      "No. of selected estimators by early stopping: 16\n"
     ]
    }
   ],
   "source": [
    "import matplotlib.pyplot as plt\n",
    "from sklearn.ensemble import GradientBoostingClassifier\n",
    "\n",
    "n_estimators = 500\n",
    "\n",
    "f_es = GradientBoostingClassifier(\n",
    "                                  loss='deviance',         # using loss='exponential' yields the AdaBoost algorithm\n",
    "                                  learning_rate=1.0,       # shrinkage (or learning rate) parameter\n",
    "                                  subsample=1.0,           # if subsample < 1.0 yields the Stochastic Gradient Boosting\n",
    "                                  max_depth=3,             # maximum depth of the tree\n",
    "                                  min_samples_split=2,     # minimum number of samples required to split an internal node\n",
    "                                  min_samples_leaf=1,      # minimum number of samples required to be at a leaf node\n",
    "                                  max_features=None,       # number of features to consider\n",
    "                                  #                              \n",
    "                                  n_estimators=n_estimators,\n",
    "                                  validation_fraction=0.2, # proportion of training data to set as validation set for early stopping\n",
    "                                  n_iter_no_change=10,     # No. of iterations to early stopping will be used to finish training when validation score is not improving\n",
    "                                  tol=0.01,                # tolerance for the early stopping\n",
    "                                  random_state=77\n",
    "                                 )\n",
    "\n",
    "f = GradientBoostingClassifier(\n",
    "                               loss='deviance',     # using loss='exponential' yields the AdaBoost algorithm\n",
    "                               learning_rate=1.0,   # shrinkage (or learning rate) parameter\n",
    "                               subsample=1.0,       # if subsample < 1.0 yields the Stochastic Gradient Boosting\n",
    "                               max_depth=3,         # maximum depth of the tree\n",
    "                               min_samples_split=2, # minimum number of samples required to split an internal node\n",
    "                               min_samples_leaf=1,  # minimum number of samples required to be at a leaf node\n",
    "                               max_features=None,   # number of features to consider\n",
    "                               #\n",
    "                               n_estimators=n_estimators,\n",
    "                               random_state=77\n",
    "                              )\n",
    "\n",
    "f.fit(X_train, y_train)\n",
    "f_es.fit(X_train, y_train)\n",
    "\n",
    "print('Mean accuracy without early stopping:', f.score(X_test, y_test))\n",
    "print('Mean accuracy with early stopping:', f_es.score(X_test, y_test))\n",
    "print('No. of selected estimators by early stopping:', f_es.n_estimators_)"
   ]
  },
  {
   "cell_type": "markdown",
   "metadata": {},
   "source": [
    "# Prediction"
   ]
  },
  {
   "cell_type": "code",
   "execution_count": 25,
   "metadata": {},
   "outputs": [],
   "source": [
    "import numpy as np\n",
    "\n",
    "M = f_es.n_estimators_\n",
    "f = GradientBoostingClassifier(\n",
    "                               loss='deviance',     # using loss='exponential' yields the AdaBoost algorithm\n",
    "                               n_estimators=M,     # number of boosting stages\n",
    "                               learning_rate=1.0,\n",
    "                               subsample=1.0,       # if subsample < 1.0 yields the Stochastic Gradient Boosting\n",
    "                               max_depth=3,         # maximum depth of the tree\n",
    "                               min_samples_split=2, # minimum number of samples required to split an internal node\n",
    "                               min_samples_leaf=1,  # minimum number of samples required to be at a leaf node\n",
    "                               max_features=None,   # number of features to consider\n",
    "                               random_state=77\n",
    "                              )\n",
    "f = f.fit(X_train, y_train)\n",
    "y_pred = f.predict(X_test)\n",
    "#p_pred = f.predict_proba(X_test)\n",
    "\n",
    "#y_pred = np.reshape(y_pred, (y_pred.shape[0],1))\n",
    "#y_pred.shape\n",
    "#np.concatenate((y_pred, p_pred), axis=1)"
   ]
  },
  {
   "cell_type": "markdown",
   "metadata": {},
   "source": [
    "# Accuracy"
   ]
  },
  {
   "cell_type": "code",
   "execution_count": 26,
   "metadata": {},
   "outputs": [
    {
     "name": "stdout",
     "output_type": "stream",
     "text": [
      "Accuracy: 1.0\n",
      "Confusion Matrix: [[1300    0]\n",
      " [   0 1138]]\n"
     ]
    },
    {
     "data": {
      "image/png": "[encoded data removed]",
      "text/plain": [
       "<Figure size 432x288 with 2 Axes>"
      ]
     },
     "metadata": {
      "needs_background": "light"
     },
     "output_type": "display_data"
    },
    {
     "name": "stdout",
     "output_type": "stream",
     "text": [
      "              precision    recall  f1-score   support\n",
      "\n",
      "           0       1.00      1.00      1.00      1300\n",
      "           1       1.00      1.00      1.00      1138\n",
      "\n",
      "    accuracy                           1.00      2438\n",
      "   macro avg       1.00      1.00      1.00      2438\n",
      "weighted avg       1.00      1.00      1.00      2438\n",
      "\n"
     ]
    },
    {
     "data": {
      "image/png": "[encoded data removed]",
      "text/plain": [
       "<Figure size 432x288 with 1 Axes>"
      ]
     },
     "metadata": {
      "needs_background": "light"
     },
     "output_type": "display_data"
    },
    {
     "data": {
      "text/plain": [
       "1.0"
      ]
     },
     "execution_count": 26,
     "metadata": {},
     "output_type": "execute_result"
    }
   ],
   "source": [
    "from sklearn import metrics\n",
    "import matplotlib.pyplot as plt\n",
    "\n",
    "print(\"Accuracy:\", metrics.accuracy_score(y_test, y_pred))\n",
    "print(\"Confusion Matrix:\", metrics.confusion_matrix(y_test, y_pred))\n",
    "metrics.plot_confusion_matrix(f,X_test,y_test)\n",
    "plt.show()\n",
    "print(metrics.classification_report(y_test, y_pred))\n",
    "#print(metrics.roc_curve(y_test, y_pred))\n",
    "metrics.plot_roc_curve(f,X_test,y_test)\n",
    "plt.plot([0, 1], [0, 1], linestyle='--', lw=2, color='r', label='Chance', alpha=.8)\n",
    "plt.show()\n",
    "metrics.roc_auc_score(y_test, y_pred)"
   ]
  },
  {
   "cell_type": "markdown",
   "metadata": {},
   "source": [
    "# Feature importance"
   ]
  },
  {
   "cell_type": "code",
   "execution_count": 27,
   "metadata": {},
   "outputs": [
    {
     "name": "stdout",
     "output_type": "stream",
     "text": [
      "odor_n                        0.615832\n",
      "stalk-root_c                  0.169413\n",
      "stalk-surface-below-ring_y    0.098262\n",
      "spore-print-color_r           0.038639\n",
      "spore-print-color_u           0.024866\n",
      "odor_a                        0.014419\n",
      "stalk-color-below-ring_w      0.014353\n",
      "odor_l                        0.013917\n",
      "stalk-shape_e                 0.003421\n",
      "dtype: float64\n"
     ]
    },
    {
     "data": {
      "image/png": "[encoded data removed]",
      "text/plain": [
       "<Figure size 432x288 with 1 Axes>"
      ]
     },
     "metadata": {
      "needs_background": "light"
     },
     "output_type": "display_data"
    }
   ],
   "source": [
    "import pandas as pd\n",
    "import matplotlib.pyplot as plt\n",
    "\n",
    "feat_importances = pd.Series(f.feature_importances_, index=X_train.columns)\n",
    "\n",
    "feat_importances = feat_importances.sort_values(ascending=False)\n",
    "print(feat_importances.head(9))\n",
    "\n",
    "feat_importances.nlargest(9).plot(kind='barh', color='#1f77b4')\n",
    "plt.xlabel('Gini Importance')\n",
    "plt.show()"
   ]
  },
  {
   "cell_type": "code",
   "execution_count": 28,
   "metadata": {},
   "outputs": [
    {
     "name": "stdout",
     "output_type": "stream",
     "text": [
      "odor_n                        0.443642\n",
      "odor_l                        0.075554\n",
      "odor_a                        0.062920\n",
      "spore-print-color_r           0.009844\n",
      "stalk-surface-below-ring_y    0.005496\n",
      "dtype: float64\n"
     ]
    },
    {
     "data": {
      "image/png": "[encoded data removed]",
      "text/plain": [
       "<Figure size 432x288 with 1 Axes>"
      ]
     },
     "metadata": {
      "needs_background": "light"
     },
     "output_type": "display_data"
    }
   ],
   "source": [
    "import pandas as pd\n",
    "import matplotlib.pyplot as plt\n",
    "from sklearn.inspection import permutation_importance\n",
    "\n",
    "feat_import = permutation_importance(f, X_test, y_test, n_jobs=2)\n",
    "\n",
    "feat_importances = pd.Series(feat_import.importances_mean, index=X_train.columns)\n",
    "feat_importances = feat_importances.sort_values(ascending=False)\n",
    "print(feat_importances.head(5))\n",
    "\n",
    "feat_importances.nlargest(5).plot(kind='barh', color='#1f77b4')\n",
    "plt.xlabel('Permutation Relative Importance')\n",
    "plt.show()"
   ]
  },
  {
   "cell_type": "code",
   "execution_count": null,
   "metadata": {},
   "outputs": [],
   "source": []
  }
 ],
 "metadata": {
  "kernelspec": {
   "display_name": "Python 3",
   "language": "python",
   "name": "python3"
  },
  "language_info": {
   "codemirror_mode": {
    "name": "ipython",
    "version": 3
   },
   "file_extension": ".py",
   "mimetype": "text/x-python",
   "name": "python",
   "nbconvert_exporter": "python",
   "pygments_lexer": "ipython3",
   "version": "3.7.0"
  }
 },
 "nbformat": 4,
 "nbformat_minor": 2
}
