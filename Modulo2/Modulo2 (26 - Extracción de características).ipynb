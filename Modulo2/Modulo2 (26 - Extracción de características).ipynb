{
 "cells": [
  {
   "cell_type": "code",
   "execution_count": 1,
   "metadata": {},
   "outputs": [],
   "source": [
    "%matplotlib inline"
   ]
  },
  {
   "cell_type": "markdown",
   "metadata": {},
   "source": [
    "En muchos problemas de analítica de datos puede ser necesario reducir el número de variables:\n",
    "\n",
    "* Porque el espacio de características es muy elevado en relación con el número de muestras disponibles\n",
    "* Porque se quiere encontrar un espacio de representación con mejor capacidad de separación (problemas de clasificación)\n",
    "* Porque se desea visualizar la distribución de las muestras aunque éstas estén en una dimensión mayor a 3."
   ]
  },
  {
   "cell_type": "code",
   "execution_count": null,
   "metadata": {},
   "outputs": [],
   "source": []
  }
 ],
 "metadata": {
  "kernelspec": {
   "display_name": "Python 3",
   "language": "python",
   "name": "python3"
  },
  "language_info": {
   "codemirror_mode": {
    "name": "ipython",
    "version": 3
   },
   "file_extension": ".py",
   "mimetype": "text/x-python",
   "name": "python",
   "nbconvert_exporter": "python",
   "pygments_lexer": "ipython3",
   "version": "3.7.5"
  }
 },
 "nbformat": 4,
 "nbformat_minor": 4
}
