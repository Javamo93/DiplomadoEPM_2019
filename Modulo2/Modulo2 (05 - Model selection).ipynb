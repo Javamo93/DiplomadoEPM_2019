{
 "cells": [
  {
   "cell_type": "markdown",
   "metadata": {
    "slideshow": {
     "slide_type": "slide"
    }
   },
   "source": [
    "# Model selection\n",
    "\n",
    "## Predicting house prices with California data"
   ]
  },
  {
   "cell_type": "markdown",
   "metadata": {
    "slideshow": {
     "slide_type": "slide"
    }
   },
   "source": [
    "## Load libs"
   ]
  },
  {
   "cell_type": "code",
   "execution_count": 12,
   "metadata": {
    "slideshow": {
     "slide_type": "fragment"
    }
   },
   "outputs": [],
   "source": [
    "import warnings\n",
    "warnings.simplefilter(\"ignore\")\n",
    "from local.lib import calhousing as ch\n",
    "import pandas as pd\n",
    "import numpy as np\n",
    "from sklearn.model_selection import train_test_split\n",
    "from sklearn.svm import SVC\n",
    "from sklearn.tree import DecisionTreeRegressor\n",
    "import matplotlib.pyplot as plt\n",
    "from sklearn.preprocessing import MinMaxScaler\n",
    "%matplotlib inline"
   ]
  },
  {
   "cell_type": "markdown",
   "metadata": {
    "slideshow": {
     "slide_type": "slide"
    }
   },
   "source": [
    "## Load data in Python's memory"
   ]
  },
  {
   "cell_type": "code",
   "execution_count": 13,
   "metadata": {
    "slideshow": {
     "slide_type": "fragment"
    }
   },
   "outputs": [
    {
     "name": "stdout",
     "output_type": "stream",
     "text": [
      "(500, 6)\n"
     ]
    },
    {
     "data": {
      "text/html": [
       "<div>\n",
       "<style scoped>\n",
       "    .dataframe tbody tr th:only-of-type {\n",
       "        vertical-align: middle;\n",
       "    }\n",
       "\n",
       "    .dataframe tbody tr th {\n",
       "        vertical-align: top;\n",
       "    }\n",
       "\n",
       "    .dataframe thead th {\n",
       "        text-align: right;\n",
       "    }\n",
       "</style>\n",
       "<table border=\"1\" class=\"dataframe\">\n",
       "  <thead>\n",
       "    <tr style=\"text-align: right;\">\n",
       "      <th></th>\n",
       "      <th>longitude</th>\n",
       "      <th>latitude</th>\n",
       "      <th>housingMedianAge</th>\n",
       "      <th>totalRooms</th>\n",
       "      <th>totalBedrooms</th>\n",
       "      <th>medianHouseValue</th>\n",
       "    </tr>\n",
       "  </thead>\n",
       "  <tbody>\n",
       "    <tr>\n",
       "      <th>0</th>\n",
       "      <td>-120.58</td>\n",
       "      <td>35.00</td>\n",
       "      <td>37.0</td>\n",
       "      <td>523.0</td>\n",
       "      <td>119.0</td>\n",
       "      <td>106300.0</td>\n",
       "    </tr>\n",
       "    <tr>\n",
       "      <th>1</th>\n",
       "      <td>-118.17</td>\n",
       "      <td>33.98</td>\n",
       "      <td>31.0</td>\n",
       "      <td>1236.0</td>\n",
       "      <td>329.0</td>\n",
       "      <td>155400.0</td>\n",
       "    </tr>\n",
       "    <tr>\n",
       "      <th>2</th>\n",
       "      <td>-122.22</td>\n",
       "      <td>37.81</td>\n",
       "      <td>52.0</td>\n",
       "      <td>1971.0</td>\n",
       "      <td>335.0</td>\n",
       "      <td>273700.0</td>\n",
       "    </tr>\n",
       "    <tr>\n",
       "      <th>3</th>\n",
       "      <td>-117.91</td>\n",
       "      <td>33.66</td>\n",
       "      <td>21.0</td>\n",
       "      <td>1708.0</td>\n",
       "      <td>505.0</td>\n",
       "      <td>193800.0</td>\n",
       "    </tr>\n",
       "    <tr>\n",
       "      <th>4</th>\n",
       "      <td>-121.92</td>\n",
       "      <td>37.24</td>\n",
       "      <td>27.0</td>\n",
       "      <td>1265.0</td>\n",
       "      <td>216.0</td>\n",
       "      <td>281200.0</td>\n",
       "    </tr>\n",
       "  </tbody>\n",
       "</table>\n",
       "</div>"
      ],
      "text/plain": [
       "   longitude  latitude  housingMedianAge  totalRooms  totalBedrooms  \\\n",
       "0    -120.58     35.00              37.0       523.0          119.0   \n",
       "1    -118.17     33.98              31.0      1236.0          329.0   \n",
       "2    -122.22     37.81              52.0      1971.0          335.0   \n",
       "3    -117.91     33.66              21.0      1708.0          505.0   \n",
       "4    -121.92     37.24              27.0      1265.0          216.0   \n",
       "\n",
       "   medianHouseValue  \n",
       "0          106300.0  \n",
       "1          155400.0  \n",
       "2          273700.0  \n",
       "3          193800.0  \n",
       "4          281200.0  "
      ]
     },
     "execution_count": 13,
     "metadata": {},
     "output_type": "execute_result"
    }
   ],
   "source": [
    "d = pd.read_csv(\"local/data/cal_housing_small.data\")\n",
    "print (d.shape)\n",
    "d.head()"
   ]
  },
  {
   "cell_type": "code",
   "execution_count": null,
   "metadata": {},
   "outputs": [],
   "source": []
  },
  {
   "cell_type": "code",
   "execution_count": 14,
   "metadata": {},
   "outputs": [
    {
     "name": "stdout",
     "output_type": "stream",
     "text": [
      "(500, 5) (500,)\n"
     ]
    }
   ],
   "source": [
    "X = d.as_matrix()[:,:-1]\n",
    "y = d[\"medianHouseValue\"].as_matrix()\n",
    "print (X.shape, y.shape)"
   ]
  },
  {
   "cell_type": "markdown",
   "metadata": {},
   "source": [
    "# train/test"
   ]
  },
  {
   "cell_type": "code",
   "execution_count": 15,
   "metadata": {},
   "outputs": [],
   "source": [
    "testsize = 0.3"
   ]
  },
  {
   "cell_type": "code",
   "execution_count": 16,
   "metadata": {},
   "outputs": [],
   "source": [
    "parameters = { 'max_depth': list(range(1,20))}\n",
    "estimator = DecisionTreeRegressor()\n",
    "best, r = ch.gridsearch_best(X,y, estimator, parameters, n_iter=10, test_size=testsize)"
   ]
  },
  {
   "cell_type": "code",
   "execution_count": 17,
   "metadata": {},
   "outputs": [
    {
     "data": {
      "text/plain": [
       "mean_fit_time               0.00141549\n",
       "std_fit_time               0.000236293\n",
       "mean_score_time            0.000138998\n",
       "std_score_time             2.55942e-05\n",
       "param_max_depth                      9\n",
       "params                {'max_depth': 9}\n",
       "split0_test_score             0.440598\n",
       "split1_test_score              0.46156\n",
       "split2_test_score             0.412266\n",
       "split3_test_score             0.432222\n",
       "split4_test_score              0.49257\n",
       "split5_test_score             0.487204\n",
       "split6_test_score             0.369789\n",
       "split7_test_score             0.403604\n",
       "split8_test_score             0.368248\n",
       "split9_test_score             0.400892\n",
       "mean_test_score               0.426895\n",
       "std_test_score               0.0418346\n",
       "rank_test_score                     19\n",
       "split0_train_score           0.0847402\n",
       "split1_train_score            0.166943\n",
       "split2_train_score            0.105417\n",
       "split3_train_score             0.12864\n",
       "split4_train_score            0.191847\n",
       "split5_train_score            0.114409\n",
       "split6_train_score            0.111692\n",
       "split7_train_score            0.130683\n",
       "split8_train_score            0.101731\n",
       "split9_train_score            0.127283\n",
       "mean_train_score              0.126339\n",
       "std_train_score               0.030159\n",
       "Name: 8, dtype: object"
      ]
     },
     "execution_count": 17,
     "metadata": {},
     "output_type": "execute_result"
    }
   ],
   "source": [
    "best"
   ]
  },
  {
   "cell_type": "markdown",
   "metadata": {},
   "source": [
    "## trainval/test\n",
    "\n",
    "### 1. select model with `trainval`"
   ]
  },
  {
   "cell_type": "code",
   "execution_count": 7,
   "metadata": {},
   "outputs": [],
   "source": [
    "valpct = 0.2"
   ]
  },
  {
   "cell_type": "code",
   "execution_count": 18,
   "metadata": {},
   "outputs": [
    {
     "name": "stdout",
     "output_type": "stream",
     "text": [
      "(350, 5) (150, 5)\n",
      "(350,) (150,)\n"
     ]
    }
   ],
   "source": [
    "Xtrainval, Xtest, ytrainval, ytest = train_test_split(X,y, test_size=testsize)\n",
    "print (Xtrainval.shape, Xtest.shape)\n",
    "print (ytrainval.shape, ytest.shape)"
   ]
  },
  {
   "cell_type": "code",
   "execution_count": 20,
   "metadata": {},
   "outputs": [
    {
     "data": {
      "text/plain": [
       "mean_fit_time              0.000856853\n",
       "std_fit_time               7.15291e-06\n",
       "mean_score_time            9.31025e-05\n",
       "std_score_time             1.86287e-06\n",
       "param_max_depth                      9\n",
       "params                {'max_depth': 9}\n",
       "split0_test_score             0.384802\n",
       "split1_test_score             0.410857\n",
       "split2_test_score             0.348173\n",
       "split3_test_score              0.45885\n",
       "split4_test_score             0.416217\n",
       "split5_test_score             0.412626\n",
       "split6_test_score             0.573379\n",
       "split7_test_score             0.588875\n",
       "split8_test_score             0.294029\n",
       "split9_test_score              0.41583\n",
       "mean_test_score               0.430364\n",
       "std_test_score               0.0865538\n",
       "rank_test_score                     19\n",
       "split0_train_score            0.117731\n",
       "split1_train_score            0.112995\n",
       "split2_train_score           0.0854319\n",
       "split3_train_score           0.0903051\n",
       "split4_train_score            0.089344\n",
       "split5_train_score            0.113482\n",
       "split6_train_score           0.0921526\n",
       "split7_train_score           0.0909066\n",
       "split8_train_score           0.0804392\n",
       "split9_train_score           0.0993923\n",
       "mean_train_score              0.097218\n",
       "std_train_score              0.0123881\n",
       "Name: 8, dtype: object"
      ]
     },
     "execution_count": 20,
     "metadata": {},
     "output_type": "execute_result"
    }
   ],
   "source": [
    "parameters = { 'max_depth': list(range(1,20))}\n",
    "estimator = DecisionTreeRegressor()\n",
    "best, r = ch.gridsearch_best(Xtrainval,ytrainval, estimator, parameters, n_iter=10, test_size=valpct)\n",
    "best"
   ]
  },
  {
   "cell_type": "markdown",
   "metadata": {},
   "source": [
    "### 2. use selected model on `test`"
   ]
  },
  {
   "cell_type": "code",
   "execution_count": 21,
   "metadata": {},
   "outputs": [
    {
     "data": {
      "text/plain": [
       "DecisionTreeRegressor(criterion='mse', max_depth=9, max_features=None,\n",
       "           max_leaf_nodes=None, min_impurity_decrease=0.0,\n",
       "           min_impurity_split=None, min_samples_leaf=1,\n",
       "           min_samples_split=2, min_weight_fraction_leaf=0.0,\n",
       "           presort=False, random_state=None, splitter='best')"
      ]
     },
     "execution_count": 21,
     "metadata": {},
     "output_type": "execute_result"
    }
   ],
   "source": [
    "dt = DecisionTreeRegressor(**best.params)\n",
    "dt"
   ]
  },
  {
   "cell_type": "code",
   "execution_count": null,
   "metadata": {},
   "outputs": [],
   "source": []
  },
  {
   "cell_type": "code",
   "execution_count": null,
   "metadata": {},
   "outputs": [],
   "source": []
  },
  {
   "cell_type": "code",
   "execution_count": 22,
   "metadata": {},
   "outputs": [
    {
     "data": {
      "text/plain": [
       "0.48313553199098974"
      ]
     },
     "execution_count": 22,
     "metadata": {},
     "output_type": "execute_result"
    }
   ],
   "source": [
    "dt.fit(Xtrainval, ytrainval)\n",
    "ch.rel_rmse(dt, Xtest, ytest)"
   ]
  },
  {
   "cell_type": "code",
   "execution_count": null,
   "metadata": {},
   "outputs": [],
   "source": []
  },
  {
   "cell_type": "code",
   "execution_count": 28,
   "metadata": {},
   "outputs": [
    {
     "name": "stdout",
     "output_type": "stream",
     "text": [
      "{'max_depth': 8} 0.429 0.403\n",
      "{'max_depth': 9} 0.456 0.409\n",
      "{'max_depth': 11} 0.447 0.383\n",
      "{'max_depth': 8} 0.419 0.450\n",
      "{'max_depth': 14} 0.445 0.432\n",
      "{'max_depth': 11} 0.397 0.436\n",
      "{'max_depth': 8} 0.412 0.547\n",
      "{'max_depth': 7} 0.438 0.419\n",
      "{'max_depth': 7} 0.467 0.477\n",
      "{'max_depth': 8} 0.430 0.480\n"
     ]
    }
   ],
   "source": [
    "for _ in range(10):\n",
    "    Xtrainval, Xtest, ytrainval, ytest = train_test_split(X,y, test_size=testsize)\n",
    "    parameters = { 'max_depth': list(range(1,20))}\n",
    "    estimator = DecisionTreeRegressor()\n",
    "    best, r = ch.gridsearch_best(Xtrainval,ytrainval, estimator, parameters, n_iter=10, test_size=valpct)\n",
    "    \n",
    "    dt = DecisionTreeRegressor(**best.params)\n",
    "    dt.fit(Xtrainval, ytrainval)\n",
    "    score = ch.rel_rmse(dt, Xtest, ytest)    \n",
    "    print (best.params, \"%.3f\"%best.mean_test_score, \"%.3f\"%score)\n"
   ]
  },
  {
   "cell_type": "code",
   "execution_count": null,
   "metadata": {},
   "outputs": [],
   "source": []
  },
  {
   "cell_type": "code",
   "execution_count": null,
   "metadata": {},
   "outputs": [],
   "source": []
  },
  {
   "cell_type": "code",
   "execution_count": null,
   "metadata": {},
   "outputs": [],
   "source": []
  },
  {
   "cell_type": "markdown",
   "metadata": {},
   "source": [
    "## Suggested experiments:\n",
    "\n",
    "- play with different `testpct` and `valpct`\n",
    "- use `cal_housing.data`\n",
    "- use `cal_housing_full.data`\n",
    "- measure stability of selected model"
   ]
  },
  {
   "cell_type": "code",
   "execution_count": null,
   "metadata": {},
   "outputs": [],
   "source": []
  },
  {
   "cell_type": "code",
   "execution_count": null,
   "metadata": {},
   "outputs": [],
   "source": []
  }
 ],
 "metadata": {
  "kernelspec": {
   "display_name": "Python 3",
   "language": "python",
   "name": "python3"
  },
  "language_info": {
   "codemirror_mode": {
    "name": "ipython",
    "version": 3
   },
   "file_extension": ".py",
   "mimetype": "text/x-python",
   "name": "python",
   "nbconvert_exporter": "python",
   "pygments_lexer": "ipython3",
   "version": "3.6.8"
  },
  "toc": {
   "toc_cell": false,
   "toc_number_sections": true,
   "toc_threshold": 6,
   "toc_window_display": false
  },
  "widgets": {
   "state": {},
   "version": "1.1.2"
  }
 },
 "nbformat": 4,
 "nbformat_minor": 1
}
