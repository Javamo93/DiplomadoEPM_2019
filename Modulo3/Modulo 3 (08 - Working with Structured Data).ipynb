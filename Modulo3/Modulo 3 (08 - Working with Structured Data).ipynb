{
 "cells": [
  {
   "cell_type": "code",
   "execution_count": null,
   "metadata": {},
   "outputs": [],
   "source": [
    "!wget --no-cache -O init.py -q https://raw.githubusercontent.com/jdariasl/DiplomadoEPM_2019/master/Modulo3/init.py\n",
    "from init import init; init(force_download=False)"
   ]
  },
  {
   "cell_type": "code",
   "execution_count": 19,
   "metadata": {},
   "outputs": [
    {
     "data": {
      "text/plain": [
       "'2.1.0'"
      ]
     },
     "execution_count": 19,
     "metadata": {},
     "output_type": "execute_result"
    }
   ],
   "source": [
    "try:\n",
    "    %tensorflow_version 2.x\n",
    "    print (\"Using TF2 in Google Colab\")\n",
    "except:\n",
    "    pass\n",
    "import numpy as np\n",
    "import tensorflow as tf\n",
    "import matplotlib.pyplot as plt\n",
    "from local.lib import mlutils\n",
    "%matplotlib inline\n",
    "from sklearn.datasets import *\n",
    "tf.__version__"
   ]
  },
  {
   "cell_type": "markdown",
   "metadata": {},
   "source": [
    "# `tf.data.Dataset` is TF general facility to deal with any kind of data\n",
    "\n",
    "- a `tf.data.Dataset` can be fed from many things (imgs, time series, etc.)\n",
    "\n",
    "- a `tf.data.Dataset` can be fed with structured data using `feature_column`s\n",
    "\n",
    "- a `feature_column` is a DEFINITION for a column type\n"
   ]
  },
  {
   "cell_type": "code",
   "execution_count": 53,
   "metadata": {},
   "outputs": [
    {
     "data": {
      "image/png": "[encoded data removed]",
      "text/plain": [
       "<Figure size 432x288 with 1 Axes>"
      ]
     },
     "metadata": {
      "needs_background": "light"
     },
     "output_type": "display_data"
    }
   ],
   "source": [
    "X, y = make_moons(200, noise=.3)\n",
    "\n",
    "plt.scatter(X[:,0][y==0], X[:,1][y==0], color=\"red\", label=\"class 0\")\n",
    "plt.scatter(X[:,0][y==1], X[:,1][y==1], color=\"blue\", label=\"class 1\")\n",
    "plt.xlabel(\"width\"); plt.ylabel(\"height\"); plt.grid();"
   ]
  },
  {
   "cell_type": "code",
   "execution_count": 55,
   "metadata": {},
   "outputs": [
    {
     "data": {
      "text/plain": [
       "array([[ 1.81750241,  0.27423903],\n",
       "       [ 1.85022407,  0.26520457],\n",
       "       [-0.12396999,  0.67649031],\n",
       "       [ 1.98325376,  0.05371865],\n",
       "       [ 2.35652184,  0.01734189]])"
      ]
     },
     "execution_count": 55,
     "metadata": {},
     "output_type": "execute_result"
    }
   ],
   "source": [
    "X[:5]"
   ]
  },
  {
   "cell_type": "markdown",
   "metadata": {},
   "source": [
    "### for structured data we build a `tf.data.Dataset` a dictionary spec and labels"
   ]
  },
  {
   "cell_type": "code",
   "execution_count": 56,
   "metadata": {},
   "outputs": [],
   "source": [
    "train_ds = tf.data.Dataset.from_tensor_slices( ({\"width\":X[:,0], \"height\": X[:,1]}, y))"
   ]
  },
  {
   "cell_type": "markdown",
   "metadata": {},
   "source": [
    "at each call the dataset produces an item"
   ]
  },
  {
   "cell_type": "code",
   "execution_count": 76,
   "metadata": {},
   "outputs": [],
   "source": [
    "get_first = lambda ds: next(iter(ds))\n"
   ]
  },
  {
   "cell_type": "code",
   "execution_count": 67,
   "metadata": {},
   "outputs": [
    {
     "name": "stdout",
     "output_type": "stream",
     "text": [
      "data {'width': <tf.Tensor: shape=(), dtype=float64, numpy=1.8175024110356466>, 'height': <tf.Tensor: shape=(), dtype=float64, numpy=0.27423902609716033>}\n",
      "label tf.Tensor(1, shape=(), dtype=int64)\n",
      "--\n",
      "data {'width': <tf.Tensor: shape=(), dtype=float64, numpy=1.8502240677537525>, 'height': <tf.Tensor: shape=(), dtype=float64, numpy=0.2652045712397648>}\n",
      "label tf.Tensor(1, shape=(), dtype=int64)\n",
      "--\n",
      "data {'width': <tf.Tensor: shape=(), dtype=float64, numpy=-0.12396998791629904>, 'height': <tf.Tensor: shape=(), dtype=float64, numpy=0.6764903076563374>}\n",
      "label tf.Tensor(0, shape=(), dtype=int64)\n",
      "--\n"
     ]
    }
   ],
   "source": [
    "for i,_ in zip(train_ds, range(3)):\n",
    "    print (\"data\", i[0])\n",
    "    print (\"label\", i[1])\n",
    "    print (\"--\")"
   ]
  },
  {
   "cell_type": "markdown",
   "metadata": {},
   "source": [
    "### we can do many things with datasets:\n",
    "    \n",
    "- batching\n",
    "- shuffling\n",
    "- see https://www.tensorflow.org/api_docs/python/tf/data/Dataset"
   ]
  },
  {
   "cell_type": "code",
   "execution_count": 77,
   "metadata": {},
   "outputs": [
    {
     "data": {
      "text/plain": [
       "({'width': <tf.Tensor: shape=(4,), dtype=float64, numpy=array([ 1.81750241,  1.85022407, -0.12396999,  1.98325376])>,\n",
       "  'height': <tf.Tensor: shape=(4,), dtype=float64, numpy=array([0.27423903, 0.26520457, 0.67649031, 0.05371865])>},\n",
       " <tf.Tensor: shape=(4,), dtype=int64, numpy=array([1, 1, 0, 1])>)"
      ]
     },
     "execution_count": 77,
     "metadata": {},
     "output_type": "execute_result"
    }
   ],
   "source": [
    "get_first(train_ds.batch(4))\n"
   ]
  },
  {
   "cell_type": "code",
   "execution_count": 79,
   "metadata": {
    "scrolled": true
   },
   "outputs": [
    {
     "data": {
      "text/plain": [
       "({'width': <tf.Tensor: shape=(4,), dtype=float64, numpy=array([ 0.74581902, -0.61135576,  0.34151491,  1.02937987])>,\n",
       "  'height': <tf.Tensor: shape=(4,), dtype=float64, numpy=array([-0.58892489,  0.69373679,  0.93895971, -0.9519615 ])>},\n",
       " <tf.Tensor: shape=(4,), dtype=int64, numpy=array([1, 0, 0, 1])>)"
      ]
     },
     "execution_count": 79,
     "metadata": {},
     "output_type": "execute_result"
    }
   ],
   "source": [
    "get_first(train_ds.batch(4).shuffle(buffer_size=20))\n"
   ]
  },
  {
   "cell_type": "code",
   "execution_count": null,
   "metadata": {},
   "outputs": [],
   "source": []
  },
  {
   "cell_type": "code",
   "execution_count": null,
   "metadata": {},
   "outputs": [],
   "source": []
  },
  {
   "cell_type": "markdown",
   "metadata": {},
   "source": [
    "## Structured datasets can be used in a model by:\n",
    "\n",
    "- specifying column types with `tf.feature_column`\n",
    "- using `DenseFeatures` layer"
   ]
  },
  {
   "cell_type": "code",
   "execution_count": 151,
   "metadata": {},
   "outputs": [],
   "source": [
    "fwidth  = tf.feature_column.numeric_column('width')\n",
    "fheight = tf.feature_column.numeric_column('height')\n",
    "feature_columns = [fwidth, fheight]"
   ]
  },
  {
   "cell_type": "code",
   "execution_count": 181,
   "metadata": {},
   "outputs": [],
   "source": [
    "model = tf.keras.Sequential()\n",
    "model.add(tf.keras.layers.DenseFeatures(feature_columns, dtype=tf.float64))\n",
    "model.add(tf.keras.layers.Dense(10, activation=\"tanh\"))\n",
    "model.add(tf.keras.layers.Dense(1, activation=\"sigmoid\"))\n",
    "model.compile(optimizer=tf.keras.optimizers.SGD(learning_rate=1),\n",
    "              loss=tf.keras.losses.MeanSquaredError(),\n",
    "              metrics=['accuracy'])"
   ]
  },
  {
   "cell_type": "markdown",
   "metadata": {},
   "source": [
    "### `.fit` now only needs the batched dataset\n",
    "\n",
    "- there is no `X` and `y`, since labels are integrated in the dataset"
   ]
  },
  {
   "cell_type": "code",
   "execution_count": 182,
   "metadata": {},
   "outputs": [],
   "source": [
    "k = model.fit(train_ds.batch(len(X)), epochs=1000, verbose=0)"
   ]
  },
  {
   "cell_type": "code",
   "execution_count": 183,
   "metadata": {},
   "outputs": [
    {
     "name": "stdout",
     "output_type": "stream",
     "text": [
      "\r",
      "1/1 [==============================] - 0s 67ms/step - loss: 0.0666 - accuracy: 0.9250\n"
     ]
    },
    {
     "data": {
      "text/plain": [
       "[0.06664033979177475, 0.925]"
      ]
     },
     "execution_count": 183,
     "metadata": {},
     "output_type": "execute_result"
    }
   ],
   "source": [
    "model.evaluate(train_ds.batch(len(X)))"
   ]
  },
  {
   "cell_type": "markdown",
   "metadata": {},
   "source": [
    "### all methods now need a batched dataset\n",
    "\n",
    "- we cannot use `numpy` arrays in memory anymore\n",
    "- but `tf.data.Datasets` are **very general** (for streaming, etc.)"
   ]
  },
  {
   "cell_type": "code",
   "execution_count": 179,
   "metadata": {},
   "outputs": [
    {
     "data": {
      "text/plain": [
       "array([1, 1, 0, 1, 1, 0, 1, 0, 0, 1, 0, 1, 1, 1, 1, 1, 0, 0, 1, 0, 0, 0,\n",
       "       1, 1, 0, 1, 0, 0, 0, 1, 0, 0, 1, 0, 0, 1, 0, 1, 0, 1, 1, 0, 0, 0,\n",
       "       0, 1, 1, 0, 0, 0, 0, 1, 0, 1, 1, 0, 1, 0, 1, 0, 1, 0, 1, 1, 0, 1,\n",
       "       0, 0, 1, 1, 0, 1, 1, 1, 0, 1, 1, 0, 0, 0, 0, 1, 0, 1, 1, 0, 0, 1,\n",
       "       1, 1, 0, 1, 1, 0, 0, 0, 1, 0, 0, 1, 0, 1, 1, 1, 1, 1, 0, 1, 0, 0,\n",
       "       1, 1, 1, 1, 1, 1, 1, 0, 0, 0, 1, 1, 1, 1, 1, 1, 0, 0, 0, 0, 0, 0,\n",
       "       0, 0, 0, 0, 0, 1, 0, 1, 1, 1, 1, 1, 0, 0, 0, 0, 0, 1, 0, 1, 1, 0,\n",
       "       0, 1, 1, 0, 0, 0, 1, 1, 1, 0, 0, 0, 0, 1, 1, 1, 0, 1, 0, 0, 0, 0,\n",
       "       1, 0, 0, 0, 0, 1, 1, 1, 0, 0, 1, 0, 0, 1, 1, 0, 0, 0, 0, 1, 1, 1,\n",
       "       0, 1])"
      ]
     },
     "execution_count": 179,
     "metadata": {},
     "output_type": "execute_result"
    }
   ],
   "source": [
    "predict = lambda X: (model.predict(tf.data.Dataset.from_tensor_slices( ({\"width\":X[:,0], \"height\": X[:,1]})).batch(len(X)))[:,0]>.5).astype(int)\n",
    "preds = predict(X)\n",
    "preds"
   ]
  },
  {
   "cell_type": "code",
   "execution_count": 180,
   "metadata": {},
   "outputs": [
    {
     "data": {
      "image/png": "[encoded data removed]",
      "text/plain": [
       "<Figure size 936x288 with 2 Axes>"
      ]
     },
     "metadata": {
      "needs_background": "light"
     },
     "output_type": "display_data"
    }
   ],
   "source": [
    "plt.figure(figsize=(13,4))\n",
    "plt.subplot(121)\n",
    "plt.plot(k.history[\"loss\"])\n",
    "plt.xlabel(\"epoch\"); plt.ylabel(\"loss\"); plt.grid();\n",
    "plt.title(\"accuracy %.2f\"%np.mean(preds==y));\n",
    "plt.subplot(122)\n",
    "mlutils.plot_2Ddata_with_boundary(predict, X,y);\n"
   ]
  },
  {
   "cell_type": "code",
   "execution_count": null,
   "metadata": {},
   "outputs": [],
   "source": []
  },
  {
   "cell_type": "markdown",
   "metadata": {},
   "source": [
    "### integrating structured datasets into the functional api is somewhat more involved"
   ]
  },
  {
   "cell_type": "code",
   "execution_count": 131,
   "metadata": {},
   "outputs": [],
   "source": [
    "inputs = {col.name: tf.keras.layers.Input(name=col.name, shape=(), dtype=tf.float64) \\\n",
    "          for col in feature_columns}\n",
    "features = tf.keras.layers.DenseFeatures(feature_columns, dtype=tf.float64)(inputs)\n",
    "hidden   = tf.keras.layers.Dense(10, activation=\"tanh\")(features)\n",
    "outputs  = tf.keras.layers.Dense(1, activation=\"sigmoid\")(hidden)\n",
    "\n",
    "model = tf.keras.Model(inputs=inputs, outputs=outputs)\n",
    "\n",
    "model.compile(optimizer=tf.keras.optimizers.SGD(learning_rate=1),\n",
    "              loss=tf.keras.losses.MeanSquaredError(),\n",
    "              metrics=['accuracy'])\n"
   ]
  },
  {
   "cell_type": "code",
   "execution_count": 147,
   "metadata": {},
   "outputs": [
    {
     "data": {
      "text/plain": [
       "<tensorflow.python.keras.callbacks.History at 0x7fe09d4326d0>"
      ]
     },
     "execution_count": 147,
     "metadata": {},
     "output_type": "execute_result"
    }
   ],
   "source": [
    "model.fit(train_ds.batch(10), epochs=100, verbose=0)"
   ]
  },
  {
   "cell_type": "code",
   "execution_count": 145,
   "metadata": {},
   "outputs": [
    {
     "name": "stdout",
     "output_type": "stream",
     "text": [
      "40/40 [==============================] - 0s 762us/step - loss: 0.0651 - accuracy: 0.9250\n"
     ]
    },
    {
     "data": {
      "text/plain": [
       "[0.0651102327137778, 0.925]"
      ]
     },
     "execution_count": 145,
     "metadata": {},
     "output_type": "execute_result"
    }
   ],
   "source": [
    "model.evaluate(train_ds.batch(5))"
   ]
  },
  {
   "cell_type": "markdown",
   "metadata": {},
   "source": [
    "# There are several kinds of `feature_columns` with different options\n",
    "\n",
    "- you can use `tf.keras.layers.DenseFeatures` directly to inspect their output before using them in a model\n",
    "\n",
    "\n",
    "### a `numeric_column` (see [doc](https://www.tensorflow.org/api_docs/python/tf/feature_column/numeric_column)) can have a normalizer and a default value"
   ]
  },
  {
   "cell_type": "code",
   "execution_count": 199,
   "metadata": {},
   "outputs": [],
   "source": [
    "fwidth  = tf.feature_column.numeric_column('width', normalizer_fn=lambda x: (x-np.min(X[:,0]))/(np.max(X[:,0])-np.min(X[:,0])))\n",
    "fheight = tf.feature_column.numeric_column('height', normalizer_fn=lambda x: (x-np.min(X[:,1]))/(np.max(X[:,1])-np.min(X[:,1])))\n"
   ]
  },
  {
   "cell_type": "code",
   "execution_count": 200,
   "metadata": {},
   "outputs": [
    {
     "data": {
      "text/plain": [
       "<matplotlib.collections.PathCollection at 0x7fe09dab4550>"
      ]
     },
     "execution_count": 200,
     "metadata": {},
     "output_type": "execute_result"
    },
    {
     "data": {
      "image/png": "[encoded data removed]",
      "text/plain": [
       "<Figure size 432x288 with 1 Axes>"
      ]
     },
     "metadata": {
      "needs_background": "light"
     },
     "output_type": "display_data"
    }
   ],
   "source": [
    "Xt = tf.keras.layers.DenseFeatures([fwidth, fheight], dtype=tf.float64)\\\n",
    "     ({\"width\":X[:,0], \"height\": X[:,1]}).numpy()\n",
    "\n",
    "plt.scatter(Xt[:,0][y==0], Xt[:,1][y==0], color=\"red\", label=\"class 0\")\n",
    "plt.scatter(Xt[:,0][y==1], Xt[:,1][y==1], color=\"blue\", label=\"class 1\")\n"
   ]
  },
  {
   "cell_type": "markdown",
   "metadata": {},
   "source": [
    "### a `bucketized_column` (see [doc](https://www.tensorflow.org/api_docs/python/tf/feature_column/bucketized_column)) discretizes continuous data into a one-hot encoding\n",
    "\n",
    "observe that it takes another `feature_column` as input\n",
    "\n",
    "here we define 6 buckets (see linearize below) in the [0,1] interval **AFTER** normalization"
   ]
  },
  {
   "cell_type": "code",
   "execution_count": 226,
   "metadata": {},
   "outputs": [
    {
     "data": {
      "text/plain": [
       "array([0.  , 0.25, 0.5 , 0.75, 1.  ])"
      ]
     },
     "execution_count": 226,
     "metadata": {},
     "output_type": "execute_result"
    }
   ],
   "source": [
    "np.linspace(0,1,5)"
   ]
  },
  {
   "cell_type": "code",
   "execution_count": 233,
   "metadata": {},
   "outputs": [],
   "source": [
    "bwidth  = tf.feature_column.bucketized_column(fwidth, boundaries=list(np.linspace(0,1,5)))"
   ]
  },
  {
   "cell_type": "code",
   "execution_count": 231,
   "metadata": {},
   "outputs": [],
   "source": [
    "Xt = tf.keras.layers.DenseFeatures([bwidth], dtype=tf.float64)\\\n",
    "     ({\"width\":X[:,0], \"height\": X[:,1]}).numpy()"
   ]
  },
  {
   "cell_type": "markdown",
   "metadata": {},
   "source": [
    "observe the assignment from the **original** data"
   ]
  },
  {
   "cell_type": "code",
   "execution_count": 232,
   "metadata": {},
   "outputs": [
    {
     "name": "stdout",
     "output_type": "stream",
     "text": [
      " 1.82 --> [0. 1.]\n",
      " 1.85 --> [0. 1.]\n",
      "-0.12 --> [1. 0.]\n",
      " 1.98 --> [0. 1.]\n",
      " 2.36 --> [0. 1.]\n",
      " 0.10 --> [1. 0.]\n",
      " 0.35 --> [1. 0.]\n",
      "-0.01 --> [1. 0.]\n",
      "-1.37 --> [1. 0.]\n",
      " 0.07 --> [1. 0.]\n"
     ]
    }
   ],
   "source": [
    "for i,j in zip(X[:10,0], Xt[:10]):\n",
    "    print (\"%5.2f\"%i,\"-->\", j)"
   ]
  },
  {
   "cell_type": "markdown",
   "metadata": {},
   "source": [
    "we can compose our dataset as we want. Here we keep the original columns and add bucketized ones"
   ]
  },
  {
   "cell_type": "code",
   "execution_count": 234,
   "metadata": {},
   "outputs": [],
   "source": [
    "bwidth  = tf.feature_column.bucketized_column(fwidth, boundaries=[0.5])\n",
    "bheight = tf.feature_column.bucketized_column(fheight, boundaries=[0.5])\n",
    "Xt = tf.keras.layers.DenseFeatures([fwidth, fheight, bwidth, bheight], dtype=tf.float64)\\\n",
    "     ({\"width\":X[:,0], \"height\": X[:,1]}).numpy()"
   ]
  },
  {
   "cell_type": "code",
   "execution_count": 240,
   "metadata": {},
   "outputs": [
    {
     "name": "stdout",
     "output_type": "stream",
     "text": [
      " 1.82,  0.27 --> [0.49419 1.      0.      0.7869  0.      1.     ]\n",
      " 1.85,  0.27 --> [0.49113 1.      0.      0.7946  0.      1.     ]\n",
      "-0.12,  0.68 --> [0.6305  0.      1.      0.33031 1.      0.     ]\n",
      " 1.98,  0.05 --> [0.41946 1.      0.      0.82589 0.      1.     ]\n",
      " 2.36,  0.02 --> [0.40713 1.      0.      0.91367 0.      1.     ]\n",
      " 0.10,  1.29 --> [0.83808 0.      1.      0.38215 1.      0.     ]\n",
      " 0.35, -0.15 --> [0.34899 1.      0.      0.44203 1.      0.     ]\n",
      "-0.01,  0.53 --> [0.57956 0.      1.      0.35729 1.      0.     ]\n",
      "-1.37,  0.97 --> [0.72963 0.      1.      0.03844 1.      0.     ]\n",
      " 0.07,  0.16 --> [0.45516 1.      0.      0.37569 1.      0.     ]\n"
     ]
    }
   ],
   "source": [
    "for w,h,j in zip(X[:10,0], X[:10,1], Xt[:10]):\n",
    "    print (\"%5.2f, %5.2f\"%(w,h),\"-->\", j.round(5))"
   ]
  },
  {
   "cell_type": "markdown",
   "metadata": {},
   "source": [
    "### categorical columns\n",
    "\n",
    "we will use the following dataset: https://archive.ics.uci.edu/ml/datasets/Adult"
   ]
  },
  {
   "cell_type": "code",
   "execution_count": 251,
   "metadata": {},
   "outputs": [],
   "source": [
    "import pandas as pd"
   ]
  },
  {
   "cell_type": "code",
   "execution_count": 252,
   "metadata": {},
   "outputs": [],
   "source": [
    "cols = ['age', 'workclass', 'fnlwgt', 'education', 'education-num', 'marital-status', 'occupation', \n",
    "        'relationship', 'race', 'sex', 'capital-gain', 'capital-loss', 'hours-per-week', 'native-country',\n",
    "        'label' ]"
   ]
  },
  {
   "cell_type": "code",
   "execution_count": 253,
   "metadata": {},
   "outputs": [],
   "source": [
    "d = pd.read_csv('https://archive.ics.uci.edu/ml/machine-learning-databases/adult/adult.data',\n",
    "                names=cols)"
   ]
  },
  {
   "cell_type": "code",
   "execution_count": 254,
   "metadata": {},
   "outputs": [
    {
     "data": {
      "text/html": [
       "<div>\n",
       "<style scoped>\n",
       "    .dataframe tbody tr th:only-of-type {\n",
       "        vertical-align: middle;\n",
       "    }\n",
       "\n",
       "    .dataframe tbody tr th {\n",
       "        vertical-align: top;\n",
       "    }\n",
       "\n",
       "    .dataframe thead th {\n",
       "        text-align: right;\n",
       "    }\n",
       "</style>\n",
       "<table border=\"1\" class=\"dataframe\">\n",
       "  <thead>\n",
       "    <tr style=\"text-align: right;\">\n",
       "      <th></th>\n",
       "      <th>age</th>\n",
       "      <th>workclass</th>\n",
       "      <th>fnlwgt</th>\n",
       "      <th>education</th>\n",
       "      <th>education-num</th>\n",
       "      <th>marital-status</th>\n",
       "      <th>occupation</th>\n",
       "      <th>relationship</th>\n",
       "      <th>race</th>\n",
       "      <th>sex</th>\n",
       "      <th>capital-gain</th>\n",
       "      <th>capital-loss</th>\n",
       "      <th>hours-per-week</th>\n",
       "      <th>native-country</th>\n",
       "      <th>label</th>\n",
       "    </tr>\n",
       "  </thead>\n",
       "  <tbody>\n",
       "    <tr>\n",
       "      <th>0</th>\n",
       "      <td>39</td>\n",
       "      <td>State-gov</td>\n",
       "      <td>77516</td>\n",
       "      <td>Bachelors</td>\n",
       "      <td>13</td>\n",
       "      <td>Never-married</td>\n",
       "      <td>Adm-clerical</td>\n",
       "      <td>Not-in-family</td>\n",
       "      <td>White</td>\n",
       "      <td>Male</td>\n",
       "      <td>2174</td>\n",
       "      <td>0</td>\n",
       "      <td>40</td>\n",
       "      <td>United-States</td>\n",
       "      <td>&lt;=50K</td>\n",
       "    </tr>\n",
       "    <tr>\n",
       "      <th>1</th>\n",
       "      <td>50</td>\n",
       "      <td>Self-emp-not-inc</td>\n",
       "      <td>83311</td>\n",
       "      <td>Bachelors</td>\n",
       "      <td>13</td>\n",
       "      <td>Married-civ-spouse</td>\n",
       "      <td>Exec-managerial</td>\n",
       "      <td>Husband</td>\n",
       "      <td>White</td>\n",
       "      <td>Male</td>\n",
       "      <td>0</td>\n",
       "      <td>0</td>\n",
       "      <td>13</td>\n",
       "      <td>United-States</td>\n",
       "      <td>&lt;=50K</td>\n",
       "    </tr>\n",
       "    <tr>\n",
       "      <th>2</th>\n",
       "      <td>38</td>\n",
       "      <td>Private</td>\n",
       "      <td>215646</td>\n",
       "      <td>HS-grad</td>\n",
       "      <td>9</td>\n",
       "      <td>Divorced</td>\n",
       "      <td>Handlers-cleaners</td>\n",
       "      <td>Not-in-family</td>\n",
       "      <td>White</td>\n",
       "      <td>Male</td>\n",
       "      <td>0</td>\n",
       "      <td>0</td>\n",
       "      <td>40</td>\n",
       "      <td>United-States</td>\n",
       "      <td>&lt;=50K</td>\n",
       "    </tr>\n",
       "    <tr>\n",
       "      <th>3</th>\n",
       "      <td>53</td>\n",
       "      <td>Private</td>\n",
       "      <td>234721</td>\n",
       "      <td>11th</td>\n",
       "      <td>7</td>\n",
       "      <td>Married-civ-spouse</td>\n",
       "      <td>Handlers-cleaners</td>\n",
       "      <td>Husband</td>\n",
       "      <td>Black</td>\n",
       "      <td>Male</td>\n",
       "      <td>0</td>\n",
       "      <td>0</td>\n",
       "      <td>40</td>\n",
       "      <td>United-States</td>\n",
       "      <td>&lt;=50K</td>\n",
       "    </tr>\n",
       "    <tr>\n",
       "      <th>4</th>\n",
       "      <td>28</td>\n",
       "      <td>Private</td>\n",
       "      <td>338409</td>\n",
       "      <td>Bachelors</td>\n",
       "      <td>13</td>\n",
       "      <td>Married-civ-spouse</td>\n",
       "      <td>Prof-specialty</td>\n",
       "      <td>Wife</td>\n",
       "      <td>Black</td>\n",
       "      <td>Female</td>\n",
       "      <td>0</td>\n",
       "      <td>0</td>\n",
       "      <td>40</td>\n",
       "      <td>Cuba</td>\n",
       "      <td>&lt;=50K</td>\n",
       "    </tr>\n",
       "  </tbody>\n",
       "</table>\n",
       "</div>"
      ],
      "text/plain": [
       "   age          workclass  fnlwgt   education  education-num  \\\n",
       "0   39          State-gov   77516   Bachelors             13   \n",
       "1   50   Self-emp-not-inc   83311   Bachelors             13   \n",
       "2   38            Private  215646     HS-grad              9   \n",
       "3   53            Private  234721        11th              7   \n",
       "4   28            Private  338409   Bachelors             13   \n",
       "\n",
       "        marital-status          occupation    relationship    race      sex  \\\n",
       "0        Never-married        Adm-clerical   Not-in-family   White     Male   \n",
       "1   Married-civ-spouse     Exec-managerial         Husband   White     Male   \n",
       "2             Divorced   Handlers-cleaners   Not-in-family   White     Male   \n",
       "3   Married-civ-spouse   Handlers-cleaners         Husband   Black     Male   \n",
       "4   Married-civ-spouse      Prof-specialty            Wife   Black   Female   \n",
       "\n",
       "   capital-gain  capital-loss  hours-per-week  native-country   label  \n",
       "0          2174             0              40   United-States   <=50K  \n",
       "1             0             0              13   United-States   <=50K  \n",
       "2             0             0              40   United-States   <=50K  \n",
       "3             0             0              40   United-States   <=50K  \n",
       "4             0             0              40            Cuba   <=50K  "
      ]
     },
     "execution_count": 254,
     "metadata": {},
     "output_type": "execute_result"
    }
   ],
   "source": [
    "d.head()"
   ]
  },
  {
   "cell_type": "markdown",
   "metadata": {},
   "source": [
    "let's process the `race` column"
   ]
  },
  {
   "cell_type": "code",
   "execution_count": 257,
   "metadata": {},
   "outputs": [
    {
     "data": {
      "text/plain": [
       " White                 27816\n",
       " Black                  3124\n",
       " Asian-Pac-Islander     1039\n",
       " Amer-Indian-Eskimo      311\n",
       " Other                   271\n",
       "Name: race, dtype: int64"
      ]
     },
     "execution_count": 257,
     "metadata": {},
     "output_type": "execute_result"
    }
   ],
   "source": [
    "d.race.value_counts()"
   ]
  },
  {
   "cell_type": "code",
   "execution_count": 285,
   "metadata": {},
   "outputs": [
    {
     "data": {
      "text/plain": [
       "(32561, 5)"
      ]
     },
     "execution_count": 285,
     "metadata": {},
     "output_type": "execute_result"
    }
   ],
   "source": [
    "frace = tf.feature_column.categorical_column_with_vocabulary_list(\"race\", list(np.unique(d.race)))\n",
    "crace = tf.feature_column.indicator_column(frace)\n",
    "raceoh = tf.keras.layers.DenseFeatures([crace], dtype=tf.float64)(dict(d)).numpy()\n",
    "raceoh.shape"
   ]
  },
  {
   "cell_type": "code",
   "execution_count": 286,
   "metadata": {},
   "outputs": [
    {
     "data": {
      "text/plain": [
       "array([[0., 0., 0., 0., 1.],\n",
       "       [0., 0., 0., 0., 1.],\n",
       "       [0., 0., 0., 0., 1.],\n",
       "       ...,\n",
       "       [0., 0., 0., 0., 1.],\n",
       "       [0., 0., 0., 0., 1.],\n",
       "       [0., 0., 0., 0., 1.]], dtype=float32)"
      ]
     },
     "execution_count": 286,
     "metadata": {},
     "output_type": "execute_result"
    }
   ],
   "source": [
    "raceoh"
   ]
  },
  {
   "cell_type": "code",
   "execution_count": 287,
   "metadata": {},
   "outputs": [
    {
     "data": {
      "text/plain": [
       "array([  311.,  1039.,  3124.,   271., 27816.], dtype=float32)"
      ]
     },
     "execution_count": 287,
     "metadata": {},
     "output_type": "execute_result"
    }
   ],
   "source": [
    "np.sum(raceoh, axis=0)"
   ]
  },
  {
   "cell_type": "markdown",
   "metadata": {},
   "source": [
    "let's gather a dataset with the rest of the numerical columns plus the race"
   ]
  },
  {
   "cell_type": "code",
   "execution_count": 291,
   "metadata": {},
   "outputs": [],
   "source": [
    "fage  = tf.feature_column.numeric_column('age', default_value=0)\n",
    "feducation_num = tf.feature_column.numeric_column(\"education-num\", default_value=0)\n",
    "fcapital_gain  = tf.feature_column.numeric_column(\"capital-gain\", default_value=0)\n",
    "fcapital_loss  = tf.feature_column.numeric_column(\"capital-loss\", default_value=0)\n",
    "hpw            = tf.feature_column.numeric_column(\"hours-per-week\", default_value=0)\n",
    "features = [fage, feducation_num, fcapital_gain, fcapital_loss, hpw]"
   ]
  },
  {
   "cell_type": "code",
   "execution_count": 299,
   "metadata": {},
   "outputs": [
    {
     "data": {
      "text/plain": [
       "(32561, 10)"
      ]
     },
     "execution_count": 299,
     "metadata": {},
     "output_type": "execute_result"
    }
   ],
   "source": [
    "dataset = tf.keras.layers.DenseFeatures(features+[crace], dtype=tf.float64)(dict(d)).numpy()\n",
    "dataset.shape"
   ]
  },
  {
   "cell_type": "code",
   "execution_count": 304,
   "metadata": {},
   "outputs": [
    {
     "data": {
      "text/plain": [
       "array([[3.900e+01, 2.174e+03, 0.000e+00, 1.300e+01, 4.000e+01, 0.000e+00,\n",
       "        0.000e+00, 0.000e+00, 0.000e+00, 1.000e+00],\n",
       "       [5.000e+01, 0.000e+00, 0.000e+00, 1.300e+01, 1.300e+01, 0.000e+00,\n",
       "        0.000e+00, 0.000e+00, 0.000e+00, 1.000e+00],\n",
       "       [3.800e+01, 0.000e+00, 0.000e+00, 9.000e+00, 4.000e+01, 0.000e+00,\n",
       "        0.000e+00, 0.000e+00, 0.000e+00, 1.000e+00],\n",
       "       [5.300e+01, 0.000e+00, 0.000e+00, 7.000e+00, 4.000e+01, 0.000e+00,\n",
       "        0.000e+00, 1.000e+00, 0.000e+00, 0.000e+00],\n",
       "       [2.800e+01, 0.000e+00, 0.000e+00, 1.300e+01, 4.000e+01, 0.000e+00,\n",
       "        0.000e+00, 1.000e+00, 0.000e+00, 0.000e+00]], dtype=float32)"
      ]
     },
     "execution_count": 304,
     "metadata": {},
     "output_type": "execute_result"
    }
   ],
   "source": [
    "dataset[:5]"
   ]
  },
  {
   "cell_type": "markdown",
   "metadata": {},
   "source": [
    "observe the target variable"
   ]
  },
  {
   "cell_type": "code",
   "execution_count": 288,
   "metadata": {},
   "outputs": [
    {
     "data": {
      "text/plain": [
       " <=50K    24720\n",
       " >50K      7841\n",
       "Name: label, dtype: int64"
      ]
     },
     "execution_count": 288,
     "metadata": {},
     "output_type": "execute_result"
    }
   ],
   "source": [
    "d.label.value_counts()"
   ]
  },
  {
   "cell_type": "markdown",
   "metadata": {},
   "source": [
    "if we wanted to use `feature_columns` with targets we would need to use the low level API, so we will just transform them"
   ]
  },
  {
   "cell_type": "code",
   "execution_count": 362,
   "metadata": {},
   "outputs": [
    {
     "data": {
      "text/plain": [
       "0    0.75919\n",
       "1    0.24081\n",
       "dtype: float64"
      ]
     },
     "execution_count": 362,
     "metadata": {},
     "output_type": "execute_result"
    }
   ],
   "source": [
    "labels = np.r_[[0 if \"<=50K\" in i else 1 for i in d.label]]\n",
    "pd.Series(labels).value_counts()/len(labels)"
   ]
  },
  {
   "cell_type": "code",
   "execution_count": null,
   "metadata": {},
   "outputs": [],
   "source": []
  },
  {
   "cell_type": "markdown",
   "metadata": {},
   "source": [
    "### create and train a model\n",
    "\n",
    "usually we have several sources of data, for train, test, etc. such as from streams, sets of files, etc. In this case, we will split them in memory and create two TF datasets"
   ]
  },
  {
   "cell_type": "code",
   "execution_count": 378,
   "metadata": {},
   "outputs": [
    {
     "data": {
      "text/plain": [
       "(32561, 22792, 9769)"
      ]
     },
     "execution_count": 378,
     "metadata": {},
     "output_type": "execute_result"
    }
   ],
   "source": [
    "train_pct = .7\n",
    "p = np.random.permutation(len(d))\n",
    "idxs_train = p[:int(len(p)*train_pct)]\n",
    "idxs_test  = p[int(len(p)*train_pct):]\n",
    "len(d), len(idxs_train), len(idxs_test)"
   ]
  },
  {
   "cell_type": "code",
   "execution_count": 379,
   "metadata": {},
   "outputs": [
    {
     "name": "stdout",
     "output_type": "stream",
     "text": [
      "train distribution\n",
      "0    0.760091\n",
      "1    0.239909\n",
      "dtype: float64\n",
      "test distribution\n",
      "0    0.757089\n",
      "1    0.242911\n",
      "dtype: float64\n"
     ]
    }
   ],
   "source": [
    "print (\"train distribution\")\n",
    "print (pd.Series(labels[idxs_train]).value_counts()/len(idxs_train))\n",
    "print (\"test distribution\")\n",
    "print (pd.Series(labels[idxs_test]).value_counts()/len(idxs_test))"
   ]
  },
  {
   "cell_type": "code",
   "execution_count": 380,
   "metadata": {},
   "outputs": [],
   "source": [
    "train_ds = tf.data.Dataset.from_tensor_slices( \n",
    "    (dict(d.iloc[idxs_train][[i for i in d.columns if i!='label']]), labels[idxs_train]))\n",
    "\n",
    "test_ds = tf.data.Dataset.from_tensor_slices( \n",
    "    (dict(d.iloc[idxs_test][[i for i in d.columns if i!='label']]), labels[idxs_test]))"
   ]
  },
  {
   "cell_type": "code",
   "execution_count": 381,
   "metadata": {},
   "outputs": [
    {
     "data": {
      "text/plain": [
       "({'age': <tf.Tensor: shape=(), dtype=int32, numpy=29>,\n",
       "  'workclass': <tf.Tensor: shape=(), dtype=string, numpy=b' Self-emp-not-inc'>,\n",
       "  'fnlwgt': <tf.Tensor: shape=(), dtype=int32, numpy=141185>,\n",
       "  'education': <tf.Tensor: shape=(), dtype=string, numpy=b' Some-college'>,\n",
       "  'education-num': <tf.Tensor: shape=(), dtype=int32, numpy=10>,\n",
       "  'marital-status': <tf.Tensor: shape=(), dtype=string, numpy=b' Married-civ-spouse'>,\n",
       "  'occupation': <tf.Tensor: shape=(), dtype=string, numpy=b' Farming-fishing'>,\n",
       "  'relationship': <tf.Tensor: shape=(), dtype=string, numpy=b' Husband'>,\n",
       "  'race': <tf.Tensor: shape=(), dtype=string, numpy=b' White'>,\n",
       "  'sex': <tf.Tensor: shape=(), dtype=string, numpy=b' Male'>,\n",
       "  'capital-gain': <tf.Tensor: shape=(), dtype=int32, numpy=0>,\n",
       "  'capital-loss': <tf.Tensor: shape=(), dtype=int32, numpy=0>,\n",
       "  'hours-per-week': <tf.Tensor: shape=(), dtype=int32, numpy=55>,\n",
       "  'native-country': <tf.Tensor: shape=(), dtype=string, numpy=b' United-States'>},\n",
       " <tf.Tensor: shape=(), dtype=int64, numpy=0>)"
      ]
     },
     "execution_count": 381,
     "metadata": {},
     "output_type": "execute_result"
    }
   ],
   "source": [
    "get_first(train_ds)"
   ]
  },
  {
   "cell_type": "code",
   "execution_count": 479,
   "metadata": {},
   "outputs": [],
   "source": [
    "def get_model(featureset):\n",
    "    model = tf.keras.Sequential()\n",
    "    model.add(tf.keras.layers.DenseFeatures(featureset, dtype=tf.float64))\n",
    "    model.add(tf.keras.layers.Dense(100, activation=\"tanh\"))\n",
    "    model.add(tf.keras.layers.Dense(50, activation=\"tanh\"))\n",
    "    model.add(tf.keras.layers.Dense(1, activation=\"sigmoid\"))\n",
    "    model.compile(optimizer=\"adam\",\n",
    "                  loss=tf.keras.losses.MeanSquaredError(),\n",
    "                  metrics=['accuracy'])\n",
    "    return model"
   ]
  },
  {
   "cell_type": "code",
   "execution_count": 482,
   "metadata": {},
   "outputs": [
    {
     "name": "stdout",
     "output_type": "stream",
     "text": [
      "Train for 357 steps, validate for 77 steps\n",
      "Epoch 1/10\n",
      "357/357 [==============================] - 1s 3ms/step - loss: 0.1552 - accuracy: 0.7778 - val_loss: 0.1528 - val_accuracy: 0.7795\n",
      "Epoch 2/10\n",
      "357/357 [==============================] - 1s 3ms/step - loss: 0.1461 - accuracy: 0.7839 - val_loss: 0.1469 - val_accuracy: 0.7916\n",
      "Epoch 3/10\n",
      "357/357 [==============================] - 1s 3ms/step - loss: 0.1437 - accuracy: 0.7844 - val_loss: 0.1490 - val_accuracy: 0.7803\n",
      "Epoch 4/10\n",
      "357/357 [==============================] - 1s 2ms/step - loss: 0.1419 - accuracy: 0.7863 - val_loss: 0.1474 - val_accuracy: 0.7802\n",
      "Epoch 5/10\n",
      "357/357 [==============================] - 1s 3ms/step - loss: 0.1410 - accuracy: 0.7876 - val_loss: 0.1475 - val_accuracy: 0.7815\n",
      "Epoch 6/10\n",
      "357/357 [==============================] - 1s 3ms/step - loss: 0.1405 - accuracy: 0.7885 - val_loss: 0.1469 - val_accuracy: 0.7822\n",
      "Epoch 7/10\n",
      "357/357 [==============================] - 1s 4ms/step - loss: 0.1401 - accuracy: 0.7892 - val_loss: 0.1463 - val_accuracy: 0.7832\n",
      "Epoch 8/10\n",
      "357/357 [==============================] - 1s 4ms/step - loss: 0.1398 - accuracy: 0.7888 - val_loss: 0.1459 - val_accuracy: 0.7842\n",
      "Epoch 9/10\n",
      "357/357 [==============================] - 1s 4ms/step - loss: 0.1396 - accuracy: 0.7893 - val_loss: 0.1455 - val_accuracy: 0.7845\n",
      "Epoch 10/10\n",
      "357/357 [==============================] - 1s 3ms/step - loss: 0.1394 - accuracy: 0.7898 - val_loss: 0.1452 - val_accuracy: 0.7851\n"
     ]
    },
    {
     "data": {
      "text/plain": [
       "<tensorflow.python.keras.callbacks.History at 0x7fdfee29a5d0>"
      ]
     },
     "execution_count": 482,
     "metadata": {},
     "output_type": "execute_result"
    }
   ],
   "source": [
    "features = [fage, feducation_num, fcapital_gain, fcapital_loss, hpw, crace]\n",
    "model = get_model(features)\n",
    "model.fit(train_ds.batch(64), epochs=10, validation_data=test_ds.batch(128))"
   ]
  },
  {
   "cell_type": "markdown",
   "metadata": {},
   "source": [
    "### let's add more columns"
   ]
  },
  {
   "cell_type": "code",
   "execution_count": 395,
   "metadata": {},
   "outputs": [
    {
     "data": {
      "text/html": [
       "<div>\n",
       "<style scoped>\n",
       "    .dataframe tbody tr th:only-of-type {\n",
       "        vertical-align: middle;\n",
       "    }\n",
       "\n",
       "    .dataframe tbody tr th {\n",
       "        vertical-align: top;\n",
       "    }\n",
       "\n",
       "    .dataframe thead th {\n",
       "        text-align: right;\n",
       "    }\n",
       "</style>\n",
       "<table border=\"1\" class=\"dataframe\">\n",
       "  <thead>\n",
       "    <tr style=\"text-align: right;\">\n",
       "      <th></th>\n",
       "      <th>age</th>\n",
       "      <th>workclass</th>\n",
       "      <th>fnlwgt</th>\n",
       "      <th>education</th>\n",
       "      <th>education-num</th>\n",
       "      <th>marital-status</th>\n",
       "      <th>occupation</th>\n",
       "      <th>relationship</th>\n",
       "      <th>race</th>\n",
       "      <th>sex</th>\n",
       "      <th>capital-gain</th>\n",
       "      <th>capital-loss</th>\n",
       "      <th>hours-per-week</th>\n",
       "      <th>native-country</th>\n",
       "      <th>label</th>\n",
       "    </tr>\n",
       "  </thead>\n",
       "  <tbody>\n",
       "    <tr>\n",
       "      <th>0</th>\n",
       "      <td>39</td>\n",
       "      <td>State-gov</td>\n",
       "      <td>77516</td>\n",
       "      <td>Bachelors</td>\n",
       "      <td>13</td>\n",
       "      <td>Never-married</td>\n",
       "      <td>Adm-clerical</td>\n",
       "      <td>Not-in-family</td>\n",
       "      <td>White</td>\n",
       "      <td>Male</td>\n",
       "      <td>2174</td>\n",
       "      <td>0</td>\n",
       "      <td>40</td>\n",
       "      <td>United-States</td>\n",
       "      <td>&lt;=50K</td>\n",
       "    </tr>\n",
       "    <tr>\n",
       "      <th>1</th>\n",
       "      <td>50</td>\n",
       "      <td>Self-emp-not-inc</td>\n",
       "      <td>83311</td>\n",
       "      <td>Bachelors</td>\n",
       "      <td>13</td>\n",
       "      <td>Married-civ-spouse</td>\n",
       "      <td>Exec-managerial</td>\n",
       "      <td>Husband</td>\n",
       "      <td>White</td>\n",
       "      <td>Male</td>\n",
       "      <td>0</td>\n",
       "      <td>0</td>\n",
       "      <td>13</td>\n",
       "      <td>United-States</td>\n",
       "      <td>&lt;=50K</td>\n",
       "    </tr>\n",
       "    <tr>\n",
       "      <th>2</th>\n",
       "      <td>38</td>\n",
       "      <td>Private</td>\n",
       "      <td>215646</td>\n",
       "      <td>HS-grad</td>\n",
       "      <td>9</td>\n",
       "      <td>Divorced</td>\n",
       "      <td>Handlers-cleaners</td>\n",
       "      <td>Not-in-family</td>\n",
       "      <td>White</td>\n",
       "      <td>Male</td>\n",
       "      <td>0</td>\n",
       "      <td>0</td>\n",
       "      <td>40</td>\n",
       "      <td>United-States</td>\n",
       "      <td>&lt;=50K</td>\n",
       "    </tr>\n",
       "    <tr>\n",
       "      <th>3</th>\n",
       "      <td>53</td>\n",
       "      <td>Private</td>\n",
       "      <td>234721</td>\n",
       "      <td>11th</td>\n",
       "      <td>7</td>\n",
       "      <td>Married-civ-spouse</td>\n",
       "      <td>Handlers-cleaners</td>\n",
       "      <td>Husband</td>\n",
       "      <td>Black</td>\n",
       "      <td>Male</td>\n",
       "      <td>0</td>\n",
       "      <td>0</td>\n",
       "      <td>40</td>\n",
       "      <td>United-States</td>\n",
       "      <td>&lt;=50K</td>\n",
       "    </tr>\n",
       "    <tr>\n",
       "      <th>4</th>\n",
       "      <td>28</td>\n",
       "      <td>Private</td>\n",
       "      <td>338409</td>\n",
       "      <td>Bachelors</td>\n",
       "      <td>13</td>\n",
       "      <td>Married-civ-spouse</td>\n",
       "      <td>Prof-specialty</td>\n",
       "      <td>Wife</td>\n",
       "      <td>Black</td>\n",
       "      <td>Female</td>\n",
       "      <td>0</td>\n",
       "      <td>0</td>\n",
       "      <td>40</td>\n",
       "      <td>Cuba</td>\n",
       "      <td>&lt;=50K</td>\n",
       "    </tr>\n",
       "  </tbody>\n",
       "</table>\n",
       "</div>"
      ],
      "text/plain": [
       "   age          workclass  fnlwgt   education  education-num  \\\n",
       "0   39          State-gov   77516   Bachelors             13   \n",
       "1   50   Self-emp-not-inc   83311   Bachelors             13   \n",
       "2   38            Private  215646     HS-grad              9   \n",
       "3   53            Private  234721        11th              7   \n",
       "4   28            Private  338409   Bachelors             13   \n",
       "\n",
       "        marital-status          occupation    relationship    race      sex  \\\n",
       "0        Never-married        Adm-clerical   Not-in-family   White     Male   \n",
       "1   Married-civ-spouse     Exec-managerial         Husband   White     Male   \n",
       "2             Divorced   Handlers-cleaners   Not-in-family   White     Male   \n",
       "3   Married-civ-spouse   Handlers-cleaners         Husband   Black     Male   \n",
       "4   Married-civ-spouse      Prof-specialty            Wife   Black   Female   \n",
       "\n",
       "   capital-gain  capital-loss  hours-per-week  native-country   label  \n",
       "0          2174             0              40   United-States   <=50K  \n",
       "1             0             0              13   United-States   <=50K  \n",
       "2             0             0              40   United-States   <=50K  \n",
       "3             0             0              40   United-States   <=50K  \n",
       "4             0             0              40            Cuba   <=50K  "
      ]
     },
     "execution_count": 395,
     "metadata": {},
     "output_type": "execute_result"
    }
   ],
   "source": [
    "d.head()"
   ]
  },
  {
   "cell_type": "code",
   "execution_count": 384,
   "metadata": {},
   "outputs": [
    {
     "data": {
      "text/plain": [
       " Married-civ-spouse       14976\n",
       " Never-married            10683\n",
       " Divorced                  4443\n",
       " Separated                 1025\n",
       " Widowed                    993\n",
       " Married-spouse-absent      418\n",
       " Married-AF-spouse           23\n",
       "Name: marital-status, dtype: int64"
      ]
     },
     "execution_count": 384,
     "metadata": {},
     "output_type": "execute_result"
    }
   ],
   "source": [
    "d[\"marital-status\"].value_counts()"
   ]
  },
  {
   "cell_type": "code",
   "execution_count": 397,
   "metadata": {},
   "outputs": [
    {
     "data": {
      "text/plain": [
       " Prof-specialty       4140\n",
       " Craft-repair         4099\n",
       " Exec-managerial      4066\n",
       " Adm-clerical         3770\n",
       " Sales                3650\n",
       " Other-service        3295\n",
       " Machine-op-inspct    2002\n",
       " ?                    1843\n",
       " Transport-moving     1597\n",
       " Handlers-cleaners    1370\n",
       " Farming-fishing       994\n",
       " Tech-support          928\n",
       " Protective-serv       649\n",
       " Priv-house-serv       149\n",
       " Armed-Forces            9\n",
       "Name: occupation, dtype: int64"
      ]
     },
     "execution_count": 397,
     "metadata": {},
     "output_type": "execute_result"
    }
   ],
   "source": [
    "d[\"occupation\"].value_counts()"
   ]
  },
  {
   "cell_type": "code",
   "execution_count": 398,
   "metadata": {},
   "outputs": [],
   "source": [
    "fmar = tf.feature_column.categorical_column_with_vocabulary_list(\"marital-status\", list(np.unique(d[\"marital-status\"])))\n",
    "cmar = tf.feature_column.indicator_column(fmar)\n",
    "\n",
    "focc = tf.feature_column.categorical_column_with_vocabulary_list(\"occupation\", list(np.unique(d[\"occupation\"])))\n",
    "cocc = tf.feature_column.indicator_column(focc)\n"
   ]
  },
  {
   "cell_type": "code",
   "execution_count": 388,
   "metadata": {},
   "outputs": [
    {
     "name": "stdout",
     "output_type": "stream",
     "text": [
      "(32561, 7)\n"
     ]
    },
    {
     "data": {
      "text/plain": [
       "array([ 4443.,    23., 14976.,   418., 10683.,  1025.,   993.],\n",
       "      dtype=float32)"
      ]
     },
     "execution_count": 388,
     "metadata": {},
     "output_type": "execute_result"
    }
   ],
   "source": [
    "maroh = tf.keras.layers.DenseFeatures([cmar], dtype=tf.float64)(dict(d)).numpy()\n",
    "print (maroh.shape)\n",
    "np.sum(maroh, axis=0)\n"
   ]
  },
  {
   "cell_type": "code",
   "execution_count": 400,
   "metadata": {},
   "outputs": [
    {
     "name": "stdout",
     "output_type": "stream",
     "text": [
      "(32561, 15)\n"
     ]
    },
    {
     "data": {
      "text/plain": [
       "array([1843., 3770.,    9., 4099., 4066.,  994., 1370., 2002., 3295.,\n",
       "        149., 4140.,  649., 3650.,  928., 1597.], dtype=float32)"
      ]
     },
     "execution_count": 400,
     "metadata": {},
     "output_type": "execute_result"
    }
   ],
   "source": [
    "occoh = tf.keras.layers.DenseFeatures([cocc], dtype=tf.float64)(dict(d)).numpy()\n",
    "print (occoh.shape)\n",
    "np.sum(occoh, axis=0)\n"
   ]
  },
  {
   "cell_type": "code",
   "execution_count": 483,
   "metadata": {},
   "outputs": [
    {
     "name": "stdout",
     "output_type": "stream",
     "text": [
      "Train for 357 steps, validate for 77 steps\n",
      "Epoch 1/10\n",
      "357/357 [==============================] - 2s 5ms/step - loss: 0.1404 - accuracy: 0.7941 - val_loss: 0.1299 - val_accuracy: 0.8009\n",
      "Epoch 2/10\n",
      "357/357 [==============================] - 1s 3ms/step - loss: 0.1243 - accuracy: 0.8102 - val_loss: 0.1269 - val_accuracy: 0.8078\n",
      "Epoch 3/10\n",
      "357/357 [==============================] - 1s 4ms/step - loss: 0.1222 - accuracy: 0.8140 - val_loss: 0.1257 - val_accuracy: 0.8104\n",
      "Epoch 4/10\n",
      "357/357 [==============================] - 2s 5ms/step - loss: 0.1212 - accuracy: 0.8150 - val_loss: 0.1245 - val_accuracy: 0.8109\n",
      "Epoch 5/10\n",
      "357/357 [==============================] - 1s 4ms/step - loss: 0.1201 - accuracy: 0.8167 - val_loss: 0.1217 - val_accuracy: 0.8182\n",
      "Epoch 6/10\n",
      "357/357 [==============================] - 1s 4ms/step - loss: 0.1197 - accuracy: 0.8177 - val_loss: 0.1226 - val_accuracy: 0.8118\n",
      "Epoch 7/10\n",
      "357/357 [==============================] - 1s 4ms/step - loss: 0.1200 - accuracy: 0.8163 - val_loss: 0.1220 - val_accuracy: 0.8116\n",
      "Epoch 8/10\n",
      "357/357 [==============================] - 1s 3ms/step - loss: 0.1198 - accuracy: 0.8158 - val_loss: 0.1220 - val_accuracy: 0.8127\n",
      "Epoch 9/10\n",
      "357/357 [==============================] - 1s 3ms/step - loss: 0.1195 - accuracy: 0.8165 - val_loss: 0.1214 - val_accuracy: 0.8122\n",
      "Epoch 10/10\n",
      "357/357 [==============================] - 1s 3ms/step - loss: 0.1193 - accuracy: 0.8168 - val_loss: 0.1211 - val_accuracy: 0.8124\n"
     ]
    },
    {
     "data": {
      "text/plain": [
       "<tensorflow.python.keras.callbacks.History at 0x7fdfecfa1650>"
      ]
     },
     "execution_count": 483,
     "metadata": {},
     "output_type": "execute_result"
    }
   ],
   "source": [
    "features = [fage, feducation_num, fcapital_gain, fcapital_loss, hpw, crace, cmar, cocc]\n",
    "model = get_model(features)\n",
    "model.fit(train_ds.batch(64), epochs=10, validation_data=test_ds.batch(128))"
   ]
  }
 ],
 "metadata": {
  "kernelspec": {
   "display_name": "p37",
   "language": "python",
   "name": "p37"
  },
  "language_info": {
   "codemirror_mode": {
    "name": "ipython",
    "version": 3
   },
   "file_extension": ".py",
   "mimetype": "text/x-python",
   "name": "python",
   "nbconvert_exporter": "python",
   "pygments_lexer": "ipython3",
   "version": "3.7.5"
  }
 },
 "nbformat": 4,
 "nbformat_minor": 2
}
