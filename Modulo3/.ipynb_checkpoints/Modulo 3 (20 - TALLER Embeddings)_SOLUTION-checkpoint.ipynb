{
 "cells": [
  {
   "cell_type": "code",
   "execution_count": 0,
   "metadata": {
    "colab": {
     "base_uri": "https://localhost:8080/",
     "height": 35
    },
    "colab_type": "code",
    "id": "7sOpYoJlEITD",
    "outputId": "aa822c43-af0a-46e5-e088-bae97f5c9f30"
   },
   "outputs": [
    {
     "name": "stdout",
     "output_type": "stream",
     "text": [
      "replicating local resources\n"
     ]
    }
   ],
   "source": [
    "!wget --no-cache -O init.py -q https://raw.githubusercontent.com/jdariasl/DiplomadoEPM_2019/master/Modulo3/init.py\n",
    "from init import init; init(force_download=False)"
   ]
  },
  {
   "cell_type": "code",
   "execution_count": 0,
   "metadata": {
    "colab": {
     "base_uri": "https://localhost:8080/",
     "height": 72
    },
    "colab_type": "code",
    "id": "f_9bXnOfEITK",
    "outputId": "9eaa2743-aa08-40eb-cb99-8c3b7bd94b87"
   },
   "outputs": [
    {
     "name": "stdout",
     "output_type": "stream",
     "text": [
      "setting tensorflow version in colab\n",
      "TensorFlow 2.x selected.\n"
     ]
    },
    {
     "data": {
      "text/plain": [
       "'2.1.0'"
      ]
     },
     "execution_count": 2,
     "metadata": {
      "tags": []
     },
     "output_type": "execute_result"
    }
   ],
   "source": [
    "import sys\n",
    "if 'google.colab' in sys.modules:\n",
    "    print (\"setting tensorflow version in colab\")\n",
    "    %tensorflow_version 2.x\n",
    "    %load_ext tensorboard\n",
    "import tensorflow as tf\n",
    "tf.__version__"
   ]
  },
  {
   "cell_type": "markdown",
   "metadata": {
    "colab_type": "text",
    "id": "PpN2yk-GSrb5"
   },
   "source": [
    "# Embeddings for sentiment analysis on tweets data\n",
    "\n",
    "Understand the following Kaggle competition\n",
    "\n",
    "- https://www.kaggle.com/crowdflower/twitter-airline-sentiment\n",
    "\n",
    "And the solution proposed in this Notebook\n",
    "\n",
    "- https://www.kaggle.com/bertcarremans/deep-learning-for-sentiment-analysis\n",
    "\n",
    "observe this solution builds its own dictionary of words and creates a one-hot encoding that is fed directly to the model.\n",
    "\n",
    "In this lab you will have to:\n",
    "\n",
    "- **Upload** the `Tweets.csv.zip` file to this notebook execution environment.\n",
    "- **Replicate** the solution above\n",
    "- **Substitute** the one-hot encoding input to the model with a 500 components embedding with the corresponding Keras layer\n",
    "\n",
    "You should get similar accuracy to that in the Kaggle notebook but with faster overfitting, suggesting your model will probably benefit faster from additional training data.\n",
    "\n",
    "Use the next line to unzip the data"
   ]
  },
  {
   "cell_type": "code",
   "execution_count": 0,
   "metadata": {
    "colab": {
     "base_uri": "https://localhost:8080/",
     "height": 54
    },
    "colab_type": "code",
    "id": "X7jsysJoOPLq",
    "outputId": "6865ecad-f695-4019-9b9a-1ef26ed0d0ab"
   },
   "outputs": [
    {
     "name": "stdout",
     "output_type": "stream",
     "text": [
      "Archive:  Tweets.csv.zip\n",
      "  inflating: Tweets.csv              \n"
     ]
    }
   ],
   "source": [
    "!unzip Tweets.csv.zip"
   ]
  },
  {
   "cell_type": "code",
   "execution_count": 0,
   "metadata": {
    "colab": {},
    "colab_type": "code",
    "id": "qeuqASNgSufb"
   },
   "outputs": [],
   "source": [
    "# uncomment for solution\n",
    "#k = b'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'\n",
    "#print(binascii.a2b_hex(k).decode())"
   ]
  },
  {
   "cell_type": "code",
   "execution_count": 0,
   "metadata": {
    "colab": {},
    "colab_type": "code",
    "id": "1kcGq99sOPHX"
   },
   "outputs": [],
   "source": [
    "# Basic packages\n",
    "import pandas as pd \n",
    "import numpy as np\n",
    "import re\n",
    "import collections\n",
    "import matplotlib.pyplot as plt\n",
    "\n",
    "# Packages for data preparation\n",
    "from sklearn.model_selection import train_test_split\n",
    "from nltk.corpus import stopwords\n",
    "from keras.preprocessing.text import Tokenizer\n",
    "from keras.utils.np_utils import to_categorical\n",
    "from sklearn.preprocessing import LabelEncoder\n",
    "\n",
    "# Packages for modeling\n",
    "from tensorflow.keras import models\n",
    "from tensorflow.keras import layers\n",
    "from tensorflow.keras import regularizers"
   ]
  },
  {
   "cell_type": "code",
   "execution_count": 0,
   "metadata": {
    "colab": {},
    "colab_type": "code",
    "id": "aWrA6FDcOPEr"
   },
   "outputs": [],
   "source": [
    "NB_WORDS = 10000  # Parameter indicating the number of words we'll put in the dictionary\n",
    "VAL_SIZE = 1000  # Size of the validation set\n",
    "NB_START_EPOCHS = 20  # Number of epochs we usually start to train with\n",
    "BATCH_SIZE = 512  # Size of the batches used in the mini-batch gradient descent"
   ]
  },
  {
   "cell_type": "code",
   "execution_count": 0,
   "metadata": {
    "colab": {
     "base_uri": "https://localhost:8080/",
     "height": 198
    },
    "colab_type": "code",
    "id": "SEqCqUmiObC4",
    "outputId": "c6def15f-8cd7-4223-b6be-b55f17d3d6af"
   },
   "outputs": [
    {
     "data": {
      "text/html": [
       "<div>\n",
       "<style scoped>\n",
       "    .dataframe tbody tr th:only-of-type {\n",
       "        vertical-align: middle;\n",
       "    }\n",
       "\n",
       "    .dataframe tbody tr th {\n",
       "        vertical-align: top;\n",
       "    }\n",
       "\n",
       "    .dataframe thead th {\n",
       "        text-align: right;\n",
       "    }\n",
       "</style>\n",
       "<table border=\"1\" class=\"dataframe\">\n",
       "  <thead>\n",
       "    <tr style=\"text-align: right;\">\n",
       "      <th></th>\n",
       "      <th>text</th>\n",
       "      <th>airline_sentiment</th>\n",
       "    </tr>\n",
       "  </thead>\n",
       "  <tbody>\n",
       "    <tr>\n",
       "      <th>13681</th>\n",
       "      <td>@AmericanAir why arent callings going thru it ...</td>\n",
       "      <td>negative</td>\n",
       "    </tr>\n",
       "    <tr>\n",
       "      <th>10354</th>\n",
       "      <td>@USAirways I have fam thats supposed to fly 2/...</td>\n",
       "      <td>negative</td>\n",
       "    </tr>\n",
       "    <tr>\n",
       "      <th>2281</th>\n",
       "      <td>@united If you follow me I will DM you my phon...</td>\n",
       "      <td>negative</td>\n",
       "    </tr>\n",
       "    <tr>\n",
       "      <th>8442</th>\n",
       "      <td>@JetBlue Finally starting to come out. 40 minu...</td>\n",
       "      <td>negative</td>\n",
       "    </tr>\n",
       "    <tr>\n",
       "      <th>2004</th>\n",
       "      <td>@united I'm not sure it will have \"next time\"...</td>\n",
       "      <td>negative</td>\n",
       "    </tr>\n",
       "  </tbody>\n",
       "</table>\n",
       "</div>"
      ],
      "text/plain": [
       "                                                    text airline_sentiment\n",
       "13681  @AmericanAir why arent callings going thru it ...          negative\n",
       "10354  @USAirways I have fam thats supposed to fly 2/...          negative\n",
       "2281   @united If you follow me I will DM you my phon...          negative\n",
       "8442   @JetBlue Finally starting to come out. 40 minu...          negative\n",
       "2004    @united I'm not sure it will have \"next time\"...          negative"
      ]
     },
     "execution_count": 8,
     "metadata": {
      "tags": []
     },
     "output_type": "execute_result"
    }
   ],
   "source": [
    "df = pd.read_csv('Tweets.csv')\n",
    "df = df.reindex(np.random.permutation(df.index))  \n",
    "df = df[['text', 'airline_sentiment']]\n",
    "df.head()"
   ]
  },
  {
   "cell_type": "code",
   "execution_count": 0,
   "metadata": {
    "colab": {
     "base_uri": "https://localhost:8080/",
     "height": 72
    },
    "colab_type": "code",
    "id": "dSZNZVnfOnq-",
    "outputId": "55de8c1b-8998-4514-d9bb-63a98b08c719"
   },
   "outputs": [
    {
     "name": "stdout",
     "output_type": "stream",
     "text": [
      "[nltk_data] Downloading package stopwords to /root/nltk_data...\n",
      "[nltk_data]   Unzipping corpora/stopwords.zip.\n"
     ]
    },
    {
     "data": {
      "text/plain": [
       "True"
      ]
     },
     "execution_count": 10,
     "metadata": {
      "tags": []
     },
     "output_type": "execute_result"
    }
   ],
   "source": [
    "import nltk\n",
    "nltk.download('stopwords')"
   ]
  },
  {
   "cell_type": "code",
   "execution_count": 0,
   "metadata": {
    "colab": {
     "base_uri": "https://localhost:8080/",
     "height": 198
    },
    "colab_type": "code",
    "id": "CZlLbupBOa-U",
    "outputId": "32c71a4e-9c03-441b-f351-a837ac8fd9ad"
   },
   "outputs": [
    {
     "data": {
      "text/html": [
       "<div>\n",
       "<style scoped>\n",
       "    .dataframe tbody tr th:only-of-type {\n",
       "        vertical-align: middle;\n",
       "    }\n",
       "\n",
       "    .dataframe tbody tr th {\n",
       "        vertical-align: top;\n",
       "    }\n",
       "\n",
       "    .dataframe thead th {\n",
       "        text-align: right;\n",
       "    }\n",
       "</style>\n",
       "<table border=\"1\" class=\"dataframe\">\n",
       "  <thead>\n",
       "    <tr style=\"text-align: right;\">\n",
       "      <th></th>\n",
       "      <th>text</th>\n",
       "      <th>airline_sentiment</th>\n",
       "    </tr>\n",
       "  </thead>\n",
       "  <tbody>\n",
       "    <tr>\n",
       "      <th>13681</th>\n",
       "      <td>arent callings going thru doesnt wait anythin...</td>\n",
       "      <td>negative</td>\n",
       "    </tr>\n",
       "    <tr>\n",
       "      <th>10354</th>\n",
       "      <td>fam thats supposed fly 2/22 currently hosp.3 ...</td>\n",
       "      <td>negative</td>\n",
       "    </tr>\n",
       "    <tr>\n",
       "      <th>2281</th>\n",
       "      <td>If follow DM phone call.</td>\n",
       "      <td>negative</td>\n",
       "    </tr>\n",
       "    <tr>\n",
       "      <th>8442</th>\n",
       "      <td>Finally starting come out. 40 minutes no comm...</td>\n",
       "      <td>negative</td>\n",
       "    </tr>\n",
       "    <tr>\n",
       "      <th>2004</th>\n",
       "      <td>I'm not sure \"next time\"...</td>\n",
       "      <td>negative</td>\n",
       "    </tr>\n",
       "  </tbody>\n",
       "</table>\n",
       "</div>"
      ],
      "text/plain": [
       "                                                    text airline_sentiment\n",
       "13681   arent callings going thru doesnt wait anythin...          negative\n",
       "10354   fam thats supposed fly 2/22 currently hosp.3 ...          negative\n",
       "2281                            If follow DM phone call.          negative\n",
       "8442    Finally starting come out. 40 minutes no comm...          negative\n",
       "2004                         I'm not sure \"next time\"...          negative"
      ]
     },
     "execution_count": 11,
     "metadata": {
      "tags": []
     },
     "output_type": "execute_result"
    }
   ],
   "source": [
    "def remove_stopwords(input_text):\n",
    "        stopwords_list = stopwords.words('english')\n",
    "        # Some words which might indicate a certain sentiment are kept via a whitelist\n",
    "        whitelist = [\"n't\", \"not\", \"no\"]\n",
    "        words = input_text.split() \n",
    "        clean_words = [word for word in words if (word not in stopwords_list or word in whitelist) and len(word) > 1] \n",
    "        return \" \".join(clean_words) \n",
    "    \n",
    "def remove_mentions(input_text):\n",
    "        return re.sub(r'@\\w+', '', input_text)\n",
    "       \n",
    "df.text = df.text.apply(remove_stopwords).apply(remove_mentions)\n",
    "df.head()"
   ]
  },
  {
   "cell_type": "code",
   "execution_count": 0,
   "metadata": {
    "colab": {
     "base_uri": "https://localhost:8080/",
     "height": 54
    },
    "colab_type": "code",
    "id": "1OjTOZBGOa4H",
    "outputId": "e541a9f3-e135-4c03-9969-78c833bb09e6"
   },
   "outputs": [
    {
     "name": "stdout",
     "output_type": "stream",
     "text": [
      "# Train data samples: 13176\n",
      "# Test data samples: 1464\n"
     ]
    }
   ],
   "source": [
    "X_train, X_test, y_train, y_test = train_test_split(df.text, df.airline_sentiment, test_size=0.1, random_state=37)\n",
    "print('# Train data samples:', X_train.shape[0])\n",
    "print('# Test data samples:', X_test.shape[0])\n",
    "assert X_train.shape[0] == y_train.shape[0]\n",
    "assert X_test.shape[0] == y_test.shape[0]"
   ]
  },
  {
   "cell_type": "code",
   "execution_count": 0,
   "metadata": {
    "colab": {
     "base_uri": "https://localhost:8080/",
     "height": 72
    },
    "colab_type": "code",
    "id": "fu22Nkh7Oa0I",
    "outputId": "0d25338f-7567-4462-b785-f929426dac17"
   },
   "outputs": [
    {
     "name": "stdout",
     "output_type": "stream",
     "text": [
      "Fitted tokenizer on 13176 documents\n",
      "10000 words in dictionary\n",
      "Top 5 most common words are: [('flight', 3524), ('not', 1417), ('no', 1352), ('get', 1208), ('t', 1099)]\n"
     ]
    }
   ],
   "source": [
    "tk = Tokenizer(num_words=NB_WORDS,\n",
    "               filters='!\"#$%&()*+,-./:;<=>?@[\\\\]^_`{|}~\\t\\n',\n",
    "               lower=True,\n",
    "               split=\" \")\n",
    "tk.fit_on_texts(X_train)\n",
    "\n",
    "print('Fitted tokenizer on {} documents'.format(tk.document_count))\n",
    "print('{} words in dictionary'.format(tk.num_words))\n",
    "print('Top 5 most common words are:', collections.Counter(tk.word_counts).most_common(5))"
   ]
  },
  {
   "cell_type": "code",
   "execution_count": 0,
   "metadata": {
    "colab": {
     "base_uri": "https://localhost:8080/",
     "height": 35
    },
    "colab_type": "code",
    "id": "ZSoeRqxkOaxD",
    "outputId": "03cccaf6-02ad-4e0f-8540-d59006d79cb9"
   },
   "outputs": [
    {
     "name": "stdout",
     "output_type": "stream",
     "text": [
      "\" What  said.\" is converted into [667, 416, 95, 128, 115, 31, 2, 4300, 239, 2552, 83, 13, 300, 429, 768, 239, 61, 371, 188, 372]\n"
     ]
    }
   ],
   "source": [
    "X_train_seq = tk.texts_to_sequences(X_train)\n",
    "X_test_seq = tk.texts_to_sequences(X_test)\n",
    "print('\"{}\" is converted into {}'.format(X_train[0], X_train_seq[0]))"
   ]
  },
  {
   "cell_type": "code",
   "execution_count": 0,
   "metadata": {
    "colab": {
     "base_uri": "https://localhost:8080/",
     "height": 54
    },
    "colab_type": "code",
    "id": "vot6xJ4WOauO",
    "outputId": "ce9548ba-ef5a-4e87-9784-0bc4829b8f77"
   },
   "outputs": [
    {
     "name": "stdout",
     "output_type": "stream",
     "text": [
      "\"[667, 416, 95, 128, 115, 31, 2, 4300, 239, 2552, 83, 13, 300, 429, 768, 239, 61, 371, 188, 372]\" is converted into [0. 0. 1. ... 0. 0. 0.]\n",
      "For this example we have 19.0 features with a value of 1.\n"
     ]
    }
   ],
   "source": [
    "def one_hot_seq(seqs, nb_features = NB_WORDS):\n",
    "    ohs = np.zeros((len(seqs), nb_features))\n",
    "    for i, s in enumerate(seqs):\n",
    "        ohs[i, s] = 1.\n",
    "    return ohs\n",
    "\n",
    "X_train_oh = one_hot_seq(X_train_seq)\n",
    "X_test_oh = one_hot_seq(X_test_seq)\n",
    "\n",
    "print('\"{}\" is converted into {}'.format(X_train_seq[0], X_train_oh[0]))\n",
    "print('For this example we have {} features with a value of 1.'.format(X_train_oh[0].sum()))"
   ]
  },
  {
   "cell_type": "code",
   "execution_count": 0,
   "metadata": {
    "colab": {
     "base_uri": "https://localhost:8080/",
     "height": 54
    },
    "colab_type": "code",
    "id": "mQGeGJlZOari",
    "outputId": "29858206-0fdf-4449-95ba-5888732a9ca9"
   },
   "outputs": [
    {
     "name": "stdout",
     "output_type": "stream",
     "text": [
      "\"neutral\" is converted into 0\n",
      "\"0\" is converted into [1. 0. 0.]\n"
     ]
    }
   ],
   "source": [
    "le = LabelEncoder()\n",
    "y_train_le = le.fit_transform(y_train)\n",
    "y_test_le = le.transform(y_test)\n",
    "y_train_oh = to_categorical(y_train_le)\n",
    "y_test_oh = to_categorical(y_test_le)\n",
    "\n",
    "print('\"{}\" is converted into {}'.format(y_train[0], y_train_le[0]))\n",
    "print('\"{}\" is converted into {}'.format(y_train_le[0], y_train_oh[0]))"
   ]
  },
  {
   "cell_type": "code",
   "execution_count": 0,
   "metadata": {
    "colab": {
     "base_uri": "https://localhost:8080/",
     "height": 35
    },
    "colab_type": "code",
    "id": "TOTHDz1LOPB0",
    "outputId": "1cf9c057-4307-4e3f-d835-d1add8732ea9"
   },
   "outputs": [
    {
     "name": "stdout",
     "output_type": "stream",
     "text": [
      "Shape of validation set: (1318, 10000)\n"
     ]
    }
   ],
   "source": [
    "X_train_rest, X_valid, y_train_rest, y_valid = train_test_split(X_train_oh, y_train_oh, test_size=0.1, random_state=37)\n",
    "\n",
    "assert X_valid.shape[0] == y_valid.shape[0]\n",
    "assert X_train_rest.shape[0] == y_train_rest.shape[0]\n",
    "\n",
    "print('Shape of validation set:',X_valid.shape)"
   ]
  },
  {
   "cell_type": "code",
   "execution_count": 0,
   "metadata": {
    "colab": {},
    "colab_type": "code",
    "id": "X3GNGn-LPn90"
   },
   "outputs": [],
   "source": []
  },
  {
   "cell_type": "code",
   "execution_count": 0,
   "metadata": {
    "colab": {
     "base_uri": "https://localhost:8080/",
     "height": 272
    },
    "colab_type": "code",
    "id": "-Uxm3rg5PJEM",
    "outputId": "9e6f85a0-8999-4926-c5f4-8927e9604956"
   },
   "outputs": [
    {
     "name": "stdout",
     "output_type": "stream",
     "text": [
      "Model: \"sequential\"\n",
      "_________________________________________________________________\n",
      "Layer (type)                 Output Shape              Param #   \n",
      "=================================================================\n",
      "dense (Dense)                (None, 64)                640064    \n",
      "_________________________________________________________________\n",
      "dense_1 (Dense)              (None, 64)                4160      \n",
      "_________________________________________________________________\n",
      "dense_2 (Dense)              (None, 3)                 195       \n",
      "=================================================================\n",
      "Total params: 644,419\n",
      "Trainable params: 644,419\n",
      "Non-trainable params: 0\n",
      "_________________________________________________________________\n"
     ]
    }
   ],
   "source": [
    "base_model = models.Sequential()\n",
    "base_model.add(layers.Dense(64, activation='relu', input_shape=(NB_WORDS,)))\n",
    "base_model.add(layers.Dense(64, activation='relu'))\n",
    "base_model.add(layers.Dense(3, activation='softmax'))\n",
    "base_model.summary()"
   ]
  },
  {
   "cell_type": "code",
   "execution_count": 0,
   "metadata": {
    "colab": {},
    "colab_type": "code",
    "id": "WM1jBtmePJAC"
   },
   "outputs": [],
   "source": [
    "def deep_model(model):\n",
    "    model.compile(optimizer='rmsprop'\n",
    "                  , loss='categorical_crossentropy'\n",
    "                  , metrics=['accuracy'])\n",
    "    \n",
    "    history = model.fit(X_train_rest\n",
    "                       , y_train_rest\n",
    "                       , epochs=NB_START_EPOCHS\n",
    "                       , batch_size=BATCH_SIZE\n",
    "                       , validation_data=(X_valid, y_valid)\n",
    "                       , verbose=0)\n",
    "    \n",
    "    return history\n",
    "\n",
    "def eval_metric(history, metric_name):\n",
    "    metric = history.history[metric_name]\n",
    "    val_metric = history.history['val_' + metric_name]\n",
    "\n",
    "    e = range(1, NB_START_EPOCHS + 1)\n",
    "\n",
    "    plt.plot(e, metric, 'bo', label='Train ' + metric_name)\n",
    "    plt.plot(e, val_metric, 'b', label='Validation ' + metric_name)\n",
    "    plt.legend()\n",
    "    plt.show()\n"
   ]
  },
  {
   "cell_type": "code",
   "execution_count": 0,
   "metadata": {
    "colab": {},
    "colab_type": "code",
    "id": "R8bBcACzPI9C"
   },
   "outputs": [],
   "source": [
    "base_history = deep_model(base_model)\n",
    "eval_metric(base_history, 'accuracy')"
   ]
  },
  {
   "cell_type": "code",
   "execution_count": 0,
   "metadata": {
    "colab": {
     "base_uri": "https://localhost:8080/",
     "height": 265
    },
    "colab_type": "code",
    "id": "wJivPsqBPI4E",
    "outputId": "cbf6d341-fdf4-4eee-be4d-c23102fd62bf"
   },
   "outputs": [
    {
     "data": {
      "image/png": "[encoded data removed]",
      "text/plain": [
       "<Figure size 432x288 with 1 Axes>"
      ]
     },
     "metadata": {
      "tags": []
     },
     "output_type": "display_data"
    }
   ],
   "source": [
    "eval_metric(base_history, 'accuracy')"
   ]
  },
  {
   "cell_type": "code",
   "execution_count": 0,
   "metadata": {
    "colab": {},
    "colab_type": "code",
    "id": "Zdeo1YEMPh1U"
   },
   "outputs": [],
   "source": []
  },
  {
   "cell_type": "code",
   "execution_count": 0,
   "metadata": {
    "colab": {
     "base_uri": "https://localhost:8080/",
     "height": 229
    },
    "colab_type": "code",
    "id": "po0dmoC-PhyY",
    "outputId": "de19e36b-9a56-46bf-e7df-6fafda2d32b2"
   },
   "outputs": [
    {
     "data": {
      "text/plain": [
       "[<matplotlib.lines.Line2D at 0x7f437a41cf98>]"
      ]
     },
     "execution_count": 53,
     "metadata": {
      "tags": []
     },
     "output_type": "execute_result"
    },
    {
     "data": {
      "image/png": "[encoded data removed]",
      "text/plain": [
       "<Figure size 1080x216 with 1 Axes>"
      ]
     },
     "metadata": {
      "tags": []
     },
     "output_type": "display_data"
    }
   ],
   "source": [
    "plt.figure(figsize=(15,3))\n",
    "plt.plot([len(i) for i in X_train_seq])"
   ]
  },
  {
   "cell_type": "code",
   "execution_count": 0,
   "metadata": {
    "colab": {
     "base_uri": "https://localhost:8080/",
     "height": 1000
    },
    "colab_type": "code",
    "id": "5KIjaYSPPhvz",
    "outputId": "ec7d2e68-e997-4b18-c7a8-cb974e5747d5"
   },
   "outputs": [
    {
     "name": "stdout",
     "output_type": "stream",
     "text": [
      "Model: \"sequential_11\"\n",
      "_________________________________________________________________\n",
      "Layer (type)                 Output Shape              Param #   \n",
      "=================================================================\n",
      "embedding_9 (Embedding)      (None, 26, 100)           1000000   \n",
      "_________________________________________________________________\n",
      "flatten_7 (Flatten)          (None, 2600)              0         \n",
      "_________________________________________________________________\n",
      "dense_24 (Dense)             (None, 64)                166464    \n",
      "_________________________________________________________________\n",
      "dense_25 (Dense)             (None, 64)                4160      \n",
      "_________________________________________________________________\n",
      "dense_26 (Dense)             (None, 3)                 195       \n",
      "=================================================================\n",
      "Total params: 1,170,819\n",
      "Trainable params: 1,170,819\n",
      "Non-trainable params: 0\n",
      "_________________________________________________________________\n",
      "Train on 11858 samples, validate on 1318 samples\n",
      "Epoch 1/20\n",
      "11858/11858 [==============================] - 1s 63us/sample - loss: 0.8324 - accuracy: 0.6485 - val_loss: 0.7199 - val_accuracy: 0.6753\n",
      "Epoch 2/20\n",
      "11858/11858 [==============================] - 0s 23us/sample - loss: 0.6160 - accuracy: 0.7490 - val_loss: 0.6334 - val_accuracy: 0.7337\n",
      "Epoch 3/20\n",
      "11858/11858 [==============================] - 0s 24us/sample - loss: 0.4523 - accuracy: 0.8372 - val_loss: 0.6139 - val_accuracy: 0.7610\n",
      "Epoch 4/20\n",
      "11858/11858 [==============================] - 0s 24us/sample - loss: 0.3229 - accuracy: 0.8874 - val_loss: 0.5801 - val_accuracy: 0.7762\n",
      "Epoch 5/20\n",
      "11858/11858 [==============================] - 0s 24us/sample - loss: 0.2312 - accuracy: 0.9228 - val_loss: 0.5798 - val_accuracy: 0.7656\n",
      "Epoch 6/20\n",
      "11858/11858 [==============================] - 0s 24us/sample - loss: 0.1524 - accuracy: 0.9541 - val_loss: 0.7194 - val_accuracy: 0.7747\n",
      "Epoch 7/20\n",
      "11858/11858 [==============================] - 0s 24us/sample - loss: 0.1045 - accuracy: 0.9683 - val_loss: 0.7470 - val_accuracy: 0.7822\n",
      "Epoch 8/20\n",
      "11858/11858 [==============================] - 0s 25us/sample - loss: 0.0731 - accuracy: 0.9772 - val_loss: 0.8850 - val_accuracy: 0.7443\n",
      "Epoch 9/20\n",
      "11858/11858 [==============================] - 0s 24us/sample - loss: 0.0542 - accuracy: 0.9838 - val_loss: 0.9172 - val_accuracy: 0.7360\n",
      "Epoch 10/20\n",
      "11858/11858 [==============================] - 0s 24us/sample - loss: 0.0428 - accuracy: 0.9868 - val_loss: 0.9727 - val_accuracy: 0.7686\n",
      "Epoch 11/20\n",
      "11858/11858 [==============================] - 0s 24us/sample - loss: 0.0316 - accuracy: 0.9910 - val_loss: 1.0100 - val_accuracy: 0.7572\n",
      "Epoch 12/20\n",
      "11858/11858 [==============================] - 0s 25us/sample - loss: 0.0276 - accuracy: 0.9917 - val_loss: 1.1889 - val_accuracy: 0.7716\n",
      "Epoch 13/20\n",
      "11858/11858 [==============================] - 0s 24us/sample - loss: 0.0240 - accuracy: 0.9922 - val_loss: 1.1747 - val_accuracy: 0.7625\n",
      "Epoch 14/20\n",
      "11858/11858 [==============================] - 0s 25us/sample - loss: 0.0204 - accuracy: 0.9936 - val_loss: 1.2532 - val_accuracy: 0.7618\n",
      "Epoch 15/20\n",
      "11858/11858 [==============================] - 0s 25us/sample - loss: 0.0170 - accuracy: 0.9938 - val_loss: 1.2929 - val_accuracy: 0.7458\n",
      "Epoch 16/20\n",
      "11858/11858 [==============================] - 0s 23us/sample - loss: 0.0169 - accuracy: 0.9946 - val_loss: 1.3888 - val_accuracy: 0.7511\n",
      "Epoch 17/20\n",
      "11858/11858 [==============================] - 0s 24us/sample - loss: 0.0171 - accuracy: 0.9940 - val_loss: 1.3727 - val_accuracy: 0.7572\n",
      "Epoch 18/20\n",
      "11858/11858 [==============================] - 0s 26us/sample - loss: 0.0160 - accuracy: 0.9949 - val_loss: 1.3520 - val_accuracy: 0.7382\n",
      "Epoch 19/20\n",
      "11858/11858 [==============================] - 0s 26us/sample - loss: 0.0140 - accuracy: 0.9957 - val_loss: 1.4295 - val_accuracy: 0.7352\n",
      "Epoch 20/20\n",
      "11858/11858 [==============================] - 0s 24us/sample - loss: 0.0152 - accuracy: 0.9952 - val_loss: 1.4025 - val_accuracy: 0.7102\n"
     ]
    },
    {
     "data": {
      "image/png": "[encoded data removed]",
      "text/plain": [
       "<Figure size 432x288 with 1 Axes>"
      ]
     },
     "metadata": {
      "tags": []
     },
     "output_type": "display_data"
    }
   ],
   "source": [
    "from tensorflow.keras import preprocessing\n",
    "XX_train_seq = preprocessing.sequence.pad_sequences(X_train_seq, maxlen=NB_WORDS)\n",
    "XX_test_seq = preprocessing.sequence.pad_sequences(X_test_seq, maxlen=NB_WORDS)\n",
    "XX_train_rest, XX_valid, y_train_rest, y_valid = train_test_split(XX_train_seq, y_train_oh, test_size=0.1, random_state=37)\n",
    "\n",
    "base_model = models.Sequential()\n",
    "embedding_layer = layers.Embedding(NB_WORDS, 100, input_length=NB_WORDS)\n",
    "base_model.add(embedding_layer)\n",
    "base_model.add(layers.Flatten())\n",
    "base_model.add(layers.Dense(64, activation='relu', input_shape=(NB_WORDS,)))\n",
    "base_model.add(layers.Dense(64, activation='relu'))\n",
    "base_model.add(layers.Dense(3, activation='softmax'))\n",
    "base_model.summary()\n",
    "base_model.compile(optimizer='rmsprop'\n",
    "              , loss='categorical_crossentropy'\n",
    "              , metrics=['accuracy'])\n",
    "\n",
    "base_history = base_model.fit(XX_train_rest, y_train_rest,\n",
    "                    epochs=NB_START_EPOCHS, batch_size=BATCH_SIZE,\n",
    "                    validation_data=(XX_valid, y_valid))\n",
    "\n",
    "eval_metric(base_history, 'accuracy')"
   ]
  },
  {
   "cell_type": "code",
   "execution_count": 0,
   "metadata": {
    "colab": {
     "base_uri": "https://localhost:8080/",
     "height": 35
    },
    "colab_type": "code",
    "id": "6UGbke3QPhrU",
    "outputId": "613b0716-2a2b-4852-cf37-ecdf2448a063"
   },
   "outputs": [
    {
     "name": "stdout",
     "output_type": "stream",
     "text": [
      "(3, 128)\n"
     ]
    }
   ],
   "source": [
    "import tensorflow as tf\n",
    "import tensorflow_hub as hub\n",
    "\n",
    "module_url = \"https://tfhub.dev/google/nnlm-en-dim128/2\"\n",
    "embed = hub.KerasLayer(module_url)\n",
    "Xe_train = embed(X_train.values).numpy()\n",
    "Xe_test  = embed(X_test.values).numpy()\n",
    "Xe_train_rest, Xe_valid, y_train_rest, y_valid = train_test_split(Xe_train, y_train_oh, test_size=0.1, random_state=37)\n",
    "\n",
    "base_model = models.Sequential()\n",
    "base_model.add(layers.Dense(128, activation='relu', input_shape=(128,)))\n",
    "base_model.add(layers.Dense(64, activation='relu'))\n",
    "base_model.add(layers.Dropout(0.4))\n",
    "base_model.add(layers.Dense(3, activation='softmax'))\n",
    "base_model.summary()\n",
    "base_model.compile(optimizer='rmsprop', loss='categorical_crossentropy', metrics=['accuracy'])\n",
    "\n",
    "base_history = base_model.fit(Xe_train_rest, y_train_rest,\n",
    "                    epochs=NB_START_EPOCHS, batch_size=BATCH_SIZE,\n",
    "                    validation_data=(Xe_valid, y_valid))\n",
    "\n",
    "eval_metric(base_history, 'accuracy')"
   ]
  },
  {
   "cell_type": "code",
   "execution_count": 0,
   "metadata": {
    "colab": {},
    "colab_type": "code",
    "id": "jZseGz2NUzc3"
   },
   "outputs": [],
   "source": [
    "Xe_train = embed(X_train.values).numpy()\n",
    "Xe_test  = embed(X_test.values).numpy()"
   ]
  },
  {
   "cell_type": "code",
   "execution_count": 0,
   "metadata": {
    "colab": {
     "base_uri": "https://localhost:8080/",
     "height": 35
    },
    "colab_type": "code",
    "id": "ZQlEVzH4UzZC",
    "outputId": "803fe767-1e7c-4298-8d87-3edfece852e3"
   },
   "outputs": [
    {
     "data": {
      "text/plain": [
       "TensorShape([13176, 128])"
      ]
     },
     "execution_count": 72,
     "metadata": {
      "tags": []
     },
     "output_type": "execute_result"
    }
   ],
   "source": [
    "Xe_train.shape, Xe_test.shape"
   ]
  },
  {
   "cell_type": "code",
   "execution_count": 0,
   "metadata": {
    "colab": {},
    "colab_type": "code",
    "id": "HNXPC0xpUyDu"
   },
   "outputs": [],
   "source": [
    "Xe_train_rest, Xe_valid, y_train_rest, y_valid = train_test_split(Xe_train, y_train_oh, test_size=0.1, random_state=37)\n"
   ]
  },
  {
   "cell_type": "code",
   "execution_count": 0,
   "metadata": {
    "colab": {
     "base_uri": "https://localhost:8080/",
     "height": 1000
    },
    "colab_type": "code",
    "id": "eD7UjDeGVtXJ",
    "outputId": "ba0e3908-3629-4e71-cfc0-af1d98876677"
   },
   "outputs": [
    {
     "name": "stdout",
     "output_type": "stream",
     "text": [
      "Model: \"sequential_18\"\n",
      "_________________________________________________________________\n",
      "Layer (type)                 Output Shape              Param #   \n",
      "=================================================================\n",
      "dense_45 (Dense)             (None, 128)               16512     \n",
      "_________________________________________________________________\n",
      "dense_46 (Dense)             (None, 64)                8256      \n",
      "_________________________________________________________________\n",
      "dropout_1 (Dropout)          (None, 64)                0         \n",
      "_________________________________________________________________\n",
      "dense_47 (Dense)             (None, 3)                 195       \n",
      "=================================================================\n",
      "Total params: 24,963\n",
      "Trainable params: 24,963\n",
      "Non-trainable params: 0\n",
      "_________________________________________________________________\n",
      "Train on 11858 samples, validate on 1318 samples\n",
      "Epoch 1/20\n",
      "11858/11858 [==============================] - 0s 41us/sample - loss: 0.8853 - accuracy: 0.6181 - val_loss: 0.7695 - val_accuracy: 0.6631\n",
      "Epoch 2/20\n",
      "11858/11858 [==============================] - 0s 9us/sample - loss: 0.7455 - accuracy: 0.6830 - val_loss: 0.6929 - val_accuracy: 0.7079\n",
      "Epoch 3/20\n",
      "11858/11858 [==============================] - 0s 8us/sample - loss: 0.6920 - accuracy: 0.7142 - val_loss: 0.6620 - val_accuracy: 0.7231\n",
      "Epoch 4/20\n",
      "11858/11858 [==============================] - 0s 8us/sample - loss: 0.6661 - accuracy: 0.7243 - val_loss: 0.6432 - val_accuracy: 0.7307\n",
      "Epoch 5/20\n",
      "11858/11858 [==============================] - 0s 8us/sample - loss: 0.6532 - accuracy: 0.7327 - val_loss: 0.6371 - val_accuracy: 0.7405\n",
      "Epoch 6/20\n",
      "11858/11858 [==============================] - 0s 8us/sample - loss: 0.6444 - accuracy: 0.7348 - val_loss: 0.6306 - val_accuracy: 0.7405\n",
      "Epoch 7/20\n",
      "11858/11858 [==============================] - 0s 8us/sample - loss: 0.6355 - accuracy: 0.7365 - val_loss: 0.6348 - val_accuracy: 0.7420\n",
      "Epoch 8/20\n",
      "11858/11858 [==============================] - 0s 8us/sample - loss: 0.6314 - accuracy: 0.7373 - val_loss: 0.6245 - val_accuracy: 0.7458\n",
      "Epoch 9/20\n",
      "11858/11858 [==============================] - 0s 8us/sample - loss: 0.6251 - accuracy: 0.7429 - val_loss: 0.6245 - val_accuracy: 0.7360\n",
      "Epoch 10/20\n",
      "11858/11858 [==============================] - 0s 8us/sample - loss: 0.6222 - accuracy: 0.7450 - val_loss: 0.6214 - val_accuracy: 0.7443\n",
      "Epoch 11/20\n",
      "11858/11858 [==============================] - 0s 8us/sample - loss: 0.6139 - accuracy: 0.7482 - val_loss: 0.6222 - val_accuracy: 0.7466\n",
      "Epoch 12/20\n",
      "11858/11858 [==============================] - 0s 8us/sample - loss: 0.6098 - accuracy: 0.7495 - val_loss: 0.6191 - val_accuracy: 0.7367\n",
      "Epoch 13/20\n",
      "11858/11858 [==============================] - 0s 8us/sample - loss: 0.6048 - accuracy: 0.7506 - val_loss: 0.6166 - val_accuracy: 0.7458\n",
      "Epoch 14/20\n",
      "11858/11858 [==============================] - 0s 8us/sample - loss: 0.5982 - accuracy: 0.7536 - val_loss: 0.6213 - val_accuracy: 0.7436\n",
      "Epoch 15/20\n",
      "11858/11858 [==============================] - 0s 8us/sample - loss: 0.5954 - accuracy: 0.7597 - val_loss: 0.6203 - val_accuracy: 0.7428\n",
      "Epoch 16/20\n",
      "11858/11858 [==============================] - 0s 8us/sample - loss: 0.5895 - accuracy: 0.7584 - val_loss: 0.6131 - val_accuracy: 0.7428\n",
      "Epoch 17/20\n",
      "11858/11858 [==============================] - 0s 8us/sample - loss: 0.5850 - accuracy: 0.7638 - val_loss: 0.6117 - val_accuracy: 0.7473\n",
      "Epoch 18/20\n",
      "11858/11858 [==============================] - 0s 8us/sample - loss: 0.5789 - accuracy: 0.7614 - val_loss: 0.6107 - val_accuracy: 0.7473\n",
      "Epoch 19/20\n",
      "11858/11858 [==============================] - 0s 8us/sample - loss: 0.5725 - accuracy: 0.7672 - val_loss: 0.6122 - val_accuracy: 0.7504\n",
      "Epoch 20/20\n",
      "11858/11858 [==============================] - 0s 7us/sample - loss: 0.5659 - accuracy: 0.7747 - val_loss: 0.6097 - val_accuracy: 0.7534\n"
     ]
    },
    {
     "data": {
      "image/png": "[encoded data removed]",
      "text/plain": [
       "<Figure size 432x288 with 1 Axes>"
      ]
     },
     "metadata": {
      "tags": []
     },
     "output_type": "display_data"
    }
   ],
   "source": [
    "base_model = models.Sequential()\n",
    "base_model.add(layers.Dense(128, activation='relu', input_shape=(128,)))\n",
    "base_model.add(layers.Dense(64, activation='relu'))\n",
    "base_model.add(layers.Dropout(0.4))\n",
    "base_model.add(layers.Dense(3, activation='softmax'))\n",
    "base_model.summary()\n",
    "base_model.compile(optimizer='rmsprop'\n",
    "              , loss='categorical_crossentropy'\n",
    "              , metrics=['accuracy'])\n",
    "\n",
    "base_history = base_model.fit(Xe_train_rest, y_train_rest,\n",
    "                    epochs=NB_START_EPOCHS, batch_size=BATCH_SIZE,\n",
    "                    validation_data=(Xe_valid, y_valid))\n",
    "\n",
    "eval_metric(base_history, 'accuracy')"
   ]
  },
  {
   "cell_type": "code",
   "execution_count": 0,
   "metadata": {
    "colab": {},
    "colab_type": "code",
    "id": "_HElL5_lVv-T"
   },
   "outputs": [],
   "source": []
  }
 ],
 "metadata": {
  "accelerator": "GPU",
  "colab": {
   "collapsed_sections": [],
   "name": "Modulo 3 (20 - TALLER Embeddings)_SOLUTION.ipynb",
   "provenance": []
  },
  "kernelspec": {
   "display_name": "Python 3",
   "language": "python",
   "name": "python3"
  },
  "language_info": {
   "codemirror_mode": {
    "name": "ipython",
    "version": 3
   },
   "file_extension": ".py",
   "mimetype": "text/x-python",
   "name": "python",
   "nbconvert_exporter": "python",
   "pygments_lexer": "ipython3",
   "version": "3.7.5"
  }
 },
 "nbformat": 4,
 "nbformat_minor": 1
}
