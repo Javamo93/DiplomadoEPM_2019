{
  "nbformat": 4,
  "nbformat_minor": 0,
  "metadata": {
    "colab": {
      "name": "Modulo 3 (21 - Pretrained models and resources).ipynb",
      "provenance": [],
      "collapsed_sections": [],
      "machine_shape": "hm"
    },
    "kernelspec": {
      "name": "python3",
      "display_name": "Python 3"
    }
  },
  "cells": [
    {
      "cell_type": "markdown",
      "metadata": {
        "id": "PQm2n3HXPk_b",
        "colab_type": "text"
      },
      "source": [
        "# Pretrained models and resources\n",
        "\n",
        "- https://www.tensorflow.org/api_docs/python/tf/keras/applications\n",
        "\n",
        "- https://www.tensorflow.org/hub\n",
        "\n",
        "\n",
        "# Tensorflow JS\n",
        "\n",
        "- https://www.tensorflow.org/js/demos\n"
      ]
    },
    {
      "cell_type": "markdown",
      "metadata": {
        "id": "64MIQY3Gxt73",
        "colab_type": "text"
      },
      "source": [
        "# Observe how we use a model from TFHub to obtain image features\n",
        "\n",
        "we will use this model:\n",
        "\n",
        "https://tfhub.dev/google/imagenet/mobilenet_v1_050_160/classification/4"
      ]
    },
    {
      "cell_type": "code",
      "metadata": {
        "id": "OVqqwBORk0uI",
        "colab_type": "code",
        "colab": {
          "base_uri": "https://localhost:8080/",
          "height": 87
        },
        "outputId": "485edf3d-b0f6-4605-9c62-4ebef2b9c8eb"
      },
      "source": [
        "import sys\n",
        "if 'google.colab' in sys.modules:\n",
        "    print (\"setting tensorflow version in colab\")\n",
        "    %tensorflow_version 2.x\n",
        "    %load_ext tensorboard\n",
        "import tensorflow as tf\n",
        "import matplotlib.pyplot as plt\n",
        "%matplotlib inline\n",
        "from skimage import io\n",
        "import numpy as np\n",
        "from skimage.transform import resize\n",
        "import os\n",
        "from progressbar import progressbar as pbar\n",
        "import tensorflow_hub as hub\n",
        "tf.__version__"
      ],
      "execution_count": 26,
      "outputs": [
        {
          "output_type": "stream",
          "text": [
            "setting tensorflow version in colab\n",
            "The tensorboard extension is already loaded. To reload it, use:\n",
            "  %reload_ext tensorboard\n"
          ],
          "name": "stdout"
        },
        {
          "output_type": "execute_result",
          "data": {
            "text/plain": [
              "'2.1.0'"
            ]
          },
          "metadata": {
            "tags": []
          },
          "execution_count": 26
        }
      ]
    },
    {
      "cell_type": "markdown",
      "metadata": {
        "id": "c0MK3AK8xwGB",
        "colab_type": "text"
      },
      "source": [
        "## Get the images from Kaggle!!!"
      ]
    },
    {
      "cell_type": "code",
      "metadata": {
        "id": "kCrXBOnVNgRQ",
        "colab_type": "code",
        "outputId": "32facb8a-e126-4892-d369-ef5cd5684cbe",
        "colab": {
          "base_uri": "https://localhost:8080/",
          "height": 52
        }
      },
      "source": [
        "!wget -nc https://rlx.s3.amazonaws.com/cactus-aerial-photos.zip"
      ],
      "execution_count": 27,
      "outputs": [
        {
          "output_type": "stream",
          "text": [
            "File ‘cactus-aerial-photos.zip’ already there; not retrieving.\n",
            "\n"
          ],
          "name": "stdout"
        }
      ]
    },
    {
      "cell_type": "code",
      "metadata": {
        "id": "gay8mS2JOaww",
        "colab_type": "code",
        "colab": {
          "base_uri": "https://localhost:8080/",
          "height": 35
        },
        "outputId": "48657fd5-fea5-4f62-958b-82c24bb500db"
      },
      "source": [
        "!unzip cactus-aerial-photos.zip > /dev/null"
      ],
      "execution_count": 14,
      "outputs": [
        {
          "output_type": "stream",
          "text": [
            "replace training_set/training_set/cactus/cactus_0028_0.jpg? [y]es, [n]o, [A]ll, [N]one, [r]ename: "
          ],
          "name": "stdout"
        }
      ]
    },
    {
      "cell_type": "markdown",
      "metadata": {
        "id": "v2KHEqRFx3q0",
        "colab_type": "text"
      },
      "source": [
        "## Resize images to that required from by the model"
      ]
    },
    {
      "cell_type": "code",
      "metadata": {
        "id": "Rt64zoqlYAlU",
        "colab_type": "code",
        "colab": {}
      },
      "source": [
        "\n",
        "def getimgs(setpart, classname, max_imgs=1500):\n",
        "  imgs_names   = os.listdir(\"%s_set/%s_set/%s\"%(setpart, setpart, classname))\n",
        "  imgs = np.zeros( (max_imgs, 160, 160, 3)).astype(np.float32)\n",
        "  for i,img_name in enumerate(pbar(imgs_names[:max_imgs])):\n",
        "    img = io.imread(\"%s_set/%s_set/%s/%s\"%(setpart, setpart, classname, img_name))\n",
        "    rimg = resize(img, (160,160))\n",
        "    imgs[i] = rimg\n",
        "  print (\"check min max of image pixels\", imgs.min(), imgs.max())\n",
        "  return imgs\n",
        "\n"
      ],
      "execution_count": 0,
      "outputs": []
    },
    {
      "cell_type": "code",
      "metadata": {
        "id": "qyty3yJJr1vE",
        "colab_type": "code",
        "colab": {
          "base_uri": "https://localhost:8080/",
          "height": 156
        },
        "outputId": "17b24fc6-6728-4852-f77b-14b1c3350d9d"
      },
      "source": [
        "train_cactus   = getimgs(\"training\", \"cactus\")\n",
        "train_nocactus = getimgs(\"training\", \"no_cactus\")\n",
        "val_cactus   = getimgs(\"validation\", \"cactus\")\n",
        "val_nocactus = getimgs(\"validation\", \"no_cactus\")\n"
      ],
      "execution_count": 78,
      "outputs": [
        {
          "output_type": "stream",
          "text": [
            "100% (1500 of 1500) |####################| Elapsed Time: 0:00:09 Time:  0:00:09\n"
          ],
          "name": "stderr"
        },
        {
          "output_type": "stream",
          "text": [
            "check min max of image pixels 0.0 1.0\n"
          ],
          "name": "stdout"
        },
        {
          "output_type": "stream",
          "text": [
            "100% (1500 of 1500) |####################| Elapsed Time: 0:00:10 Time:  0:00:10\n"
          ],
          "name": "stderr"
        },
        {
          "output_type": "stream",
          "text": [
            "check min max of image pixels 0.0 1.0\n"
          ],
          "name": "stdout"
        },
        {
          "output_type": "stream",
          "text": [
            "100% (1500 of 1500) |####################| Elapsed Time: 0:00:10 Time:  0:00:10\n"
          ],
          "name": "stderr"
        },
        {
          "output_type": "stream",
          "text": [
            "check min max of image pixels 0.0 1.0\n"
          ],
          "name": "stdout"
        },
        {
          "output_type": "stream",
          "text": [
            "100% (1000 of 1000) |####################| Elapsed Time: 0:00:06 Time:  0:00:06\n"
          ],
          "name": "stderr"
        },
        {
          "output_type": "stream",
          "text": [
            "check min max of image pixels 0.0 1.0\n"
          ],
          "name": "stdout"
        }
      ]
    },
    {
      "cell_type": "code",
      "metadata": {
        "id": "-wKWK5Xir1q4",
        "colab_type": "code",
        "colab": {
          "base_uri": "https://localhost:8080/",
          "height": 87
        },
        "outputId": "4bc765a1-78e0-441b-f7a8-e62b0bf9fd41"
      },
      "source": [
        "train_cactus.shape, train_nocactus.shape, val_cactus.shape, val_nocactus.shape"
      ],
      "execution_count": 79,
      "outputs": [
        {
          "output_type": "execute_result",
          "data": {
            "text/plain": [
              "((1500, 160, 160, 3),\n",
              " (1500, 160, 160, 3),\n",
              " (1500, 160, 160, 3),\n",
              " (1500, 160, 160, 3))"
            ]
          },
          "metadata": {
            "tags": []
          },
          "execution_count": 79
        }
      ]
    },
    {
      "cell_type": "code",
      "metadata": {
        "id": "YONsChwjxIp4",
        "colab_type": "code",
        "colab": {
          "base_uri": "https://localhost:8080/",
          "height": 227
        },
        "outputId": "72073e9e-5c05-4d23-e0ba-94f3c652487e"
      },
      "source": [
        "plt.figure(figsize=(7,3))\n",
        "plt.subplot(121); plt.imshow(train_cactus[np.random.randint(len(train_cactus))]); plt.title(\"cactus\")\n",
        "plt.subplot(122); plt.imshow(train_nocactus[np.random.randint(len(train_nocactus))]); plt.title(\"no cactus\");\n"
      ],
      "execution_count": 80,
      "outputs": [
        {
          "output_type": "display_data",
          "data": {
            "image/png": "[encoded data removed]",
            "text/plain": [
              "<Figure size 504x216 with 2 Axes>"
            ]
          },
          "metadata": {
            "tags": []
          }
        }
      ]
    },
    {
      "cell_type": "markdown",
      "metadata": {
        "id": "ZolWrVBYyGgV",
        "colab_type": "text"
      },
      "source": [
        "## Obtain the model and apply it to the images"
      ]
    },
    {
      "cell_type": "code",
      "metadata": {
        "id": "nNhAx3HQyGIL",
        "colab_type": "code",
        "colab": {}
      },
      "source": [
        ""
      ],
      "execution_count": 0,
      "outputs": []
    },
    {
      "cell_type": "code",
      "metadata": {
        "id": "7C9qeN4QppNL",
        "colab_type": "code",
        "colab": {}
      },
      "source": [
        "from tensorflow.keras.models import Sequential\n",
        "from tensorflow.keras import layers"
      ],
      "execution_count": 0,
      "outputs": []
    },
    {
      "cell_type": "code",
      "metadata": {
        "id": "M2CeWnIkpyMm",
        "colab_type": "code",
        "colab": {}
      },
      "source": [
        "m = tf.keras.Sequential([\n",
        "    hub.KerasLayer(\"https://tfhub.dev/google/imagenet/mobilenet_v1_050_160/classification/4\")\n",
        "])\n",
        "m.build([None, 160, 160, 3])  # Batch input shape."
      ],
      "execution_count": 0,
      "outputs": []
    },
    {
      "cell_type": "code",
      "metadata": {
        "id": "pu_dPHKopyIv",
        "colab_type": "code",
        "colab": {}
      },
      "source": [
        "ftrain_cactus = m(train_cactus).numpy()\n",
        "ftrain_nocactus = m(train_nocactus).numpy()\n",
        "fval_cactus = m(val_cactus).numpy()\n",
        "fval_nocactus = m(val_nocactus).numpy()\n"
      ],
      "execution_count": 0,
      "outputs": []
    },
    {
      "cell_type": "code",
      "metadata": {
        "id": "WKvcEOsGpyFz",
        "colab_type": "code",
        "colab": {
          "base_uri": "https://localhost:8080/",
          "height": 35
        },
        "outputId": "2d87c5b0-1a2f-4a8c-bb07-bccae43618d2"
      },
      "source": [
        "ftrain_cactus.shape, ftrain_nocactus.shape, fval_cactus.shape, fval_nocactus.shape"
      ],
      "execution_count": 50,
      "outputs": [
        {
          "output_type": "execute_result",
          "data": {
            "text/plain": [
              "((1500, 1001), (1500, 1001), (1500, 1001), (1500, 1001))"
            ]
          },
          "metadata": {
            "tags": []
          },
          "execution_count": 50
        }
      ]
    },
    {
      "cell_type": "code",
      "metadata": {
        "id": "5XkvrKNcwF8C",
        "colab_type": "code",
        "colab": {}
      },
      "source": [
        "xtrain = np.vstack((ftrain_cactus, ftrain_nocactus))\n",
        "xval   = np.vstack((fval_cactus, fval_nocactus))\n",
        "ytrain = [1]*len(ftrain_cactus)+[0]*len(ftrain_nocactus)\n",
        "yval   = [1]*len(fval_cactus)+[0]*len(fval_nocactus)\n"
      ],
      "execution_count": 0,
      "outputs": []
    },
    {
      "cell_type": "markdown",
      "metadata": {
        "id": "PONuhQAUyLtA",
        "colab_type": "text"
      },
      "source": [
        "## Now use any classical method "
      ]
    },
    {
      "cell_type": "code",
      "metadata": {
        "id": "dbAjraQmyLKG",
        "colab_type": "code",
        "colab": {}
      },
      "source": [
        ""
      ],
      "execution_count": 0,
      "outputs": []
    },
    {
      "cell_type": "code",
      "metadata": {
        "id": "kaSkOpovwF3p",
        "colab_type": "code",
        "colab": {
          "base_uri": "https://localhost:8080/",
          "height": 52
        },
        "outputId": "9f17d2f0-5cd6-4db4-a8ce-b38161c3a58f"
      },
      "source": [
        "from sklearn.ensemble import RandomForestClassifier\n",
        "\n",
        "rf = RandomForestClassifier()\n",
        "rf.fit(xtrain, ytrain)\n",
        "print (\"train score %.3f\"%rf.score(xtrain, ytrain))\n",
        "print (\"test score  %.3f\"%rf.score(xval, yval))"
      ],
      "execution_count": 59,
      "outputs": [
        {
          "output_type": "stream",
          "text": [
            "train score 1.000\n",
            "test score  0.801\n"
          ],
          "name": "stdout"
        }
      ]
    },
    {
      "cell_type": "code",
      "metadata": {
        "id": "ZMe4pvSTVpXN",
        "colab_type": "code",
        "colab": {}
      },
      "source": [
        ""
      ],
      "execution_count": 0,
      "outputs": []
    }
  ]
}