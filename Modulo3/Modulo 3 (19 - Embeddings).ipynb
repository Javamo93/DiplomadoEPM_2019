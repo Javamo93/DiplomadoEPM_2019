{
  "nbformat": 4,
  "nbformat_minor": 0,
  "metadata": {
    "kernelspec": {
      "display_name": "p37",
      "language": "python",
      "name": "p37"
    },
    "language_info": {
      "codemirror_mode": {
        "name": "ipython",
        "version": 3
      },
      "file_extension": ".py",
      "mimetype": "text/x-python",
      "name": "python",
      "nbconvert_exporter": "python",
      "pygments_lexer": "ipython3",
      "version": "3.7.5"
    },
    "colab": {
      "name": "Modulo 3 (19 - Embeddings).ipynb",
      "provenance": [],
      "collapsed_sections": []
    },
    "accelerator": "GPU"
  },
  "cells": [
    {
      "cell_type": "code",
      "metadata": {
        "id": "7sOpYoJlEITD",
        "colab_type": "code",
        "outputId": "2d507ed9-9bd8-4a2b-b01c-abf78d9ba613",
        "colab": {
          "base_uri": "https://localhost:8080/",
          "height": 35
        }
      },
      "source": [
        "!wget --no-cache -O init.py -q https://raw.githubusercontent.com/jdariasl/DiplomadoEPM_2019/master/Modulo3/init.py\n",
        "from init import init; init(force_download=False)"
      ],
      "execution_count": 0,
      "outputs": [
        {
          "output_type": "stream",
          "text": [
            "replicating local resources\n"
          ],
          "name": "stdout"
        }
      ]
    },
    {
      "cell_type": "code",
      "metadata": {
        "id": "f_9bXnOfEITK",
        "colab_type": "code",
        "outputId": "48eb7be0-eed3-4bdd-da6a-e8ed632cbc60",
        "colab": {
          "base_uri": "https://localhost:8080/",
          "height": 69
        }
      },
      "source": [
        "import sys\n",
        "if 'google.colab' in sys.modules:\n",
        "    print (\"setting tensorflow version in colab\")\n",
        "    %tensorflow_version 2.x\n",
        "    %load_ext tensorboard\n",
        "import tensorflow as tf\n",
        "import numpy as np\n",
        "tf.__version__"
      ],
      "execution_count": 0,
      "outputs": [
        {
          "output_type": "stream",
          "text": [
            "setting tensorflow version in colab\n",
            "TensorFlow 2.x selected.\n"
          ],
          "name": "stdout"
        },
        {
          "output_type": "execute_result",
          "data": {
            "text/plain": [
              "'2.1.0'"
            ]
          },
          "metadata": {
            "tags": []
          },
          "execution_count": 3
        }
      ]
    },
    {
      "cell_type": "markdown",
      "metadata": {
        "id": "PFPfayVYUktR",
        "colab_type": "text"
      },
      "source": [
        "# Word embeddings\n",
        "\n",
        "We will setup a **SUPERVISED LEARNING** task to learn the **embeddings that best fit** our task. \n",
        "\n",
        "We have a very small example **labelled** dataset of sentences.\n",
        "\n",
        "This notebook has been adapted from [this tutorial](https://machinelearningmastery.com/use-word-embedding-layers-deep-learning-keras/).\n",
        "\n",
        "See also [this tutorial](https://towardsdatascience.com/neural-network-embeddings-explained-4d028e6f0526) for a larger example."
      ]
    },
    {
      "cell_type": "code",
      "metadata": {
        "id": "hOgcdHyhFgbf",
        "colab_type": "code",
        "colab": {}
      },
      "source": [
        "# define documents\n",
        "docs = ['well done!',\n",
        "\t\t'good work',\n",
        "\t\t'great effort',\n",
        "\t\t'nice work',\n",
        "\t\t'excellent!',\n",
        "\t\t'weak',\n",
        "\t\t'poor effort!',\n",
        "\t\t'not good',\n",
        "\t\t'poor work',\n",
        "\t\t'could have done better.']\n",
        "# define class labels\n",
        "labels = np.array([1,1,1,1,1,0,0,0,0,0])"
      ],
      "execution_count": 0,
      "outputs": []
    },
    {
      "cell_type": "markdown",
      "metadata": {
        "id": "svptfxDFGSOI",
        "colab_type": "text"
      },
      "source": [
        "observe how Keras [`one_hot`](https://www.tensorflow.org/api_docs/python/tf/keras/preprocessing/text/one_hot) associates an integer with each word following an efficient hash function."
      ]
    },
    {
      "cell_type": "code",
      "metadata": {
        "id": "7FDMkNfjFgXs",
        "colab_type": "code",
        "outputId": "c4655314-ab72-49f3-865d-dc77ea2e9a59",
        "colab": {
          "base_uri": "https://localhost:8080/",
          "height": 35
        }
      },
      "source": [
        "from tensorflow.keras.preprocessing.text import one_hot\n",
        "vocab_size = 50\n",
        "encoded_docs = [one_hot(d, vocab_size) for d in docs]\n",
        "print(encoded_docs)"
      ],
      "execution_count": 0,
      "outputs": [
        {
          "output_type": "stream",
          "text": [
            "[[39, 26], [31, 14], [24, 46], [9, 14], [36], [21], [26, 46], [39, 31], [26, 14], [1, 14, 26, 46]]\n"
          ],
          "name": "stdout"
        }
      ]
    },
    {
      "cell_type": "markdown",
      "metadata": {
        "id": "en9gytf1Gk4X",
        "colab_type": "text"
      },
      "source": [
        "we **pad** the documents so that they all have the same length. See the [`pad_sequences`](https://www.tensorflow.org/api_docs/python/tf/keras/preprocessing/sequence/pad_sequences) function."
      ]
    },
    {
      "cell_type": "code",
      "metadata": {
        "id": "LBRpZfrMFgUa",
        "colab_type": "code",
        "outputId": "bdea3ed8-9620-49cd-d5da-4284714b22e6",
        "colab": {
          "base_uri": "https://localhost:8080/",
          "height": 208
        }
      },
      "source": [
        "from keras.preprocessing.sequence import pad_sequences\n",
        "max_length = 4\n",
        "padded_docs = pad_sequences(encoded_docs, maxlen=max_length, padding='post')\n",
        "print(padded_docs)"
      ],
      "execution_count": 0,
      "outputs": [
        {
          "output_type": "stream",
          "text": [
            "[[39 26  0  0]\n",
            " [31 14  0  0]\n",
            " [24 46  0  0]\n",
            " [ 9 14  0  0]\n",
            " [36  0  0  0]\n",
            " [21  0  0  0]\n",
            " [26 46  0  0]\n",
            " [39 31  0  0]\n",
            " [26 14  0  0]\n",
            " [ 1 14 26 46]]\n"
          ],
          "name": "stdout"
        },
        {
          "output_type": "stream",
          "text": [
            "Using TensorFlow backend.\n"
          ],
          "name": "stderr"
        }
      ]
    },
    {
      "cell_type": "markdown",
      "metadata": {
        "id": "1Xp9XPRrKjXk",
        "colab_type": "text"
      },
      "source": [
        "We **LINK** the embeddings layer to a supervised learning task"
      ]
    },
    {
      "cell_type": "code",
      "metadata": {
        "id": "ZJBujf5jFgRz",
        "colab_type": "code",
        "outputId": "2f18b106-1e52-4ccd-8050-e4c58eec2fa0",
        "colab": {
          "base_uri": "https://localhost:8080/",
          "height": 277
        }
      },
      "source": [
        "from tensorflow.keras.models import Sequential\n",
        "from tensorflow.keras.layers import Embedding, Flatten, Dense\n",
        "model = Sequential()\n",
        "embedding_layer = Embedding(vocab_size, 4, input_length=max_length) \n",
        "model.add(embedding_layer)\n",
        "model.add(Flatten())\n",
        "model.add(Dense(1, activation='sigmoid'))\n",
        "# compile the model\n",
        "model.compile(optimizer='adam', loss='binary_crossentropy', metrics=['accuracy'])\n",
        "# summarize the model\n",
        "print(model.summary())"
      ],
      "execution_count": 0,
      "outputs": [
        {
          "output_type": "stream",
          "text": [
            "Model: \"sequential_1\"\n",
            "_________________________________________________________________\n",
            "Layer (type)                 Output Shape              Param #   \n",
            "=================================================================\n",
            "embedding_1 (Embedding)      (None, 4, 4)              200       \n",
            "_________________________________________________________________\n",
            "flatten_1 (Flatten)          (None, 16)                0         \n",
            "_________________________________________________________________\n",
            "dense_1 (Dense)              (None, 1)                 17        \n",
            "=================================================================\n",
            "Total params: 217\n",
            "Trainable params: 217\n",
            "Non-trainable params: 0\n",
            "_________________________________________________________________\n",
            "None\n"
          ],
          "name": "stdout"
        }
      ]
    },
    {
      "cell_type": "markdown",
      "metadata": {
        "id": "lc0WkeI8WSPL",
        "colab_type": "text"
      },
      "source": [
        "observe that embeddings are random before training"
      ]
    },
    {
      "cell_type": "code",
      "metadata": {
        "id": "6inQz-S9W4xY",
        "colab_type": "code",
        "colab": {}
      },
      "source": [
        "words = [\"good\", \"great\", \"better\", \"excellent\", \"nice\", \"well\", \"poor\", \"weak\", \"not\", \"done\", \"work\", \"could\", \"effort\", \"have\"]"
      ],
      "execution_count": 0,
      "outputs": []
    },
    {
      "cell_type": "code",
      "metadata": {
        "id": "sikYYUYmWR59",
        "colab_type": "code",
        "outputId": "0beedf7b-b8af-4c41-d05e-9085154dac13",
        "colab": {
          "base_uri": "https://localhost:8080/",
          "height": 480
        }
      },
      "source": [
        "def plot_distance_matrix():\n",
        "  import numpy as np\n",
        "  import matplotlib.pyplot as plt\n",
        "  %matplotlib inline\n",
        "  import itertools\n",
        "  embs = {i:embedding_layer(np.r_[one_hot(i, vocab_size)]).numpy()[0] for i in words}\n",
        "  \n",
        "  distances = np.zeros((len(words), len(words)))\n",
        "\n",
        "  for i,j in itertools.product(range(len(words)), range(len(words))):\n",
        "    distances[i,j] = np.linalg.norm(embs[words[i]]-embs[words[j]])\n",
        "\n",
        "  plt.figure(figsize=(9,7))\n",
        "  plt.imshow(distances, origin=\"bottom\", cmap=plt.cm.viridis)\n",
        "  plt.colorbar()\n",
        "  plt.xticks(range(len(words)), words, rotation=\"vertical\")\n",
        "  plt.yticks(range(len(words)), words);\n",
        "  plt.title(\"distance between words in embedding space\")\n",
        "\n",
        "plot_distance_matrix()"
      ],
      "execution_count": 0,
      "outputs": [
        {
          "output_type": "display_data",
          "data": {
            "image/png": "[encoded data removed]",
            "text/plain": [
              "<Figure size 648x504 with 2 Axes>"
            ]
          },
          "metadata": {
            "tags": []
          }
        }
      ]
    },
    {
      "cell_type": "code",
      "metadata": {
        "id": "x2feyhL3FgO6",
        "colab_type": "code",
        "outputId": "b5c9909c-212d-4976-a11b-d17ee52e130f",
        "colab": {
          "base_uri": "https://localhost:8080/",
          "height": 35
        }
      },
      "source": [
        "# fit the model\n",
        "model.fit(padded_docs, labels, epochs=200, verbose=0)\n",
        "# evaluate the model\n",
        "loss, accuracy = model.evaluate(padded_docs, labels, verbose=0)\n",
        "print('Accuracy: %f' % (accuracy*100))"
      ],
      "execution_count": 0,
      "outputs": [
        {
          "output_type": "stream",
          "text": [
            "Accuracy: 100.000000\n"
          ],
          "name": "stdout"
        }
      ]
    },
    {
      "cell_type": "markdown",
      "metadata": {
        "id": "wSIQnvmUVCNN",
        "colab_type": "text"
      },
      "source": [
        "these are the embeddings learnt for each word"
      ]
    },
    {
      "cell_type": "code",
      "metadata": {
        "id": "DYCFjAI_SPjW",
        "colab_type": "code",
        "outputId": "f1b4cdf8-432f-4631-f324-0d779f6ecef4",
        "colab": {
          "base_uri": "https://localhost:8080/",
          "height": 260
        }
      },
      "source": [
        "embs = {i:embedding_layer(np.r_[one_hot(i, vocab_size)]).numpy()[0] for i in words}\n",
        "embs"
      ],
      "execution_count": 0,
      "outputs": [
        {
          "output_type": "execute_result",
          "data": {
            "text/plain": [
              "{'better': array([ 0.15662113, -0.20677087, -0.22002105,  0.19381356], dtype=float32),\n",
              " 'could': array([-0.17400135, -0.18697308,  0.2757997 , -0.18574217], dtype=float32),\n",
              " 'done': array([-0.21300021, -0.20823544,  0.24230193, -0.28707692], dtype=float32),\n",
              " 'effort': array([ 0.15662113, -0.20677087, -0.22002105,  0.19381356], dtype=float32),\n",
              " 'excellent': array([ 0.21884094,  0.23656884, -0.2175134 ,  0.25209367], dtype=float32),\n",
              " 'good': array([ 0.264647  ,  0.21860768, -0.21636377, -0.01202946], dtype=float32),\n",
              " 'great': array([ 0.24817602,  0.22866288, -0.28726876,  0.22425152], dtype=float32),\n",
              " 'have': array([ 0.08130752, -0.10252355,  0.09506772,  0.08928391], dtype=float32),\n",
              " 'nice': array([ 0.19211377,  0.2708843 , -0.22646762,  0.19018017], dtype=float32),\n",
              " 'not': array([ 0.01903311, -0.00437009,  0.04380124, -0.01163221], dtype=float32),\n",
              " 'poor': array([-0.21300021, -0.20823544,  0.24230193, -0.28707692], dtype=float32),\n",
              " 'weak': array([-0.16300204, -0.20586708,  0.22321883, -0.17506301], dtype=float32),\n",
              " 'well': array([ 0.01903311, -0.00437009,  0.04380124, -0.01163221], dtype=float32),\n",
              " 'work': array([ 0.08130752, -0.10252355,  0.09506772,  0.08928391], dtype=float32)}"
            ]
          },
          "metadata": {
            "tags": []
          },
          "execution_count": 13
        }
      ]
    },
    {
      "cell_type": "markdown",
      "metadata": {
        "id": "8EvWWKzKVWct",
        "colab_type": "text"
      },
      "source": [
        "and the distance matrix for each word, Observe words with similar meaning have small distances.\n",
        "\n",
        "Why is the word **better** not related to other words with positive meaning?. Look at the documents in the training set."
      ]
    },
    {
      "cell_type": "code",
      "metadata": {
        "id": "iD3z6Xz0SPc0",
        "colab_type": "code",
        "outputId": "4396a810-566e-4f7a-cae6-39d60fad1d94",
        "colab": {
          "base_uri": "https://localhost:8080/",
          "height": 480
        }
      },
      "source": [
        "plot_distance_matrix()"
      ],
      "execution_count": 0,
      "outputs": [
        {
          "output_type": "display_data",
          "data": {
            "image/png": "[encoded data removed]",
            "text/plain": [
              "<Figure size 648x504 with 2 Axes>"
            ]
          },
          "metadata": {
            "tags": []
          }
        }
      ]
    },
    {
      "cell_type": "markdown",
      "metadata": {
        "id": "XZSuSmqRZ1WF",
        "colab_type": "text"
      },
      "source": [
        "observe also the weights of the embedding layer"
      ]
    },
    {
      "cell_type": "code",
      "metadata": {
        "id": "Y0UhCgGuZ1Gu",
        "colab_type": "code",
        "outputId": "9454cd23-45d9-462d-c02b-59b331c4523b",
        "colab": {
          "base_uri": "https://localhost:8080/",
          "height": 901
        }
      },
      "source": [
        "embedding_layer.get_weights()"
      ],
      "execution_count": 0,
      "outputs": [
        {
          "output_type": "execute_result",
          "data": {
            "text/plain": [
              "[array([[-0.20376495,  0.23360622,  0.14798218,  0.01557513],\n",
              "        [-0.17400135, -0.18697308,  0.2757997 , -0.18574217],\n",
              "        [-0.00667449, -0.01887449,  0.02074851, -0.002654  ],\n",
              "        [ 0.00064733,  0.03650383,  0.01492504,  0.01617446],\n",
              "        [-0.0460006 ,  0.00648385, -0.01088699,  0.01803375],\n",
              "        [-0.00697448,  0.02913299,  0.04774039, -0.00434145],\n",
              "        [ 0.0413821 , -0.01520252,  0.02239725,  0.04641582],\n",
              "        [ 0.01532091, -0.03085705, -0.00660632,  0.03710078],\n",
              "        [-0.02462497, -0.04097638, -0.02815908, -0.00116553],\n",
              "        [ 0.19211377,  0.2708843 , -0.22646762,  0.19018017],\n",
              "        [-0.01577454,  0.04706867,  0.04602503,  0.01194163],\n",
              "        [ 0.047678  ,  0.0329445 , -0.04797627, -0.02119712],\n",
              "        [-0.01616488,  0.01169489, -0.02517186, -0.028073  ],\n",
              "        [-0.02591636, -0.02124904,  0.00774839, -0.01508287],\n",
              "        [ 0.08130752, -0.10252355,  0.09506772,  0.08928391],\n",
              "        [ 0.01708115,  0.00728705,  0.02838297,  0.03486216],\n",
              "        [-0.00826519, -0.02460711,  0.01822421, -0.02952917],\n",
              "        [-0.02981174,  0.03789088,  0.02001469, -0.02470269],\n",
              "        [ 0.02464597,  0.02028633,  0.04690185, -0.02669197],\n",
              "        [ 0.01771497,  0.01402729,  0.03507856,  0.04694425],\n",
              "        [ 0.01816777,  0.01495998,  0.00844015, -0.02267183],\n",
              "        [-0.16300204, -0.20586708,  0.22321883, -0.17506301],\n",
              "        [ 0.0058339 ,  0.00243687, -0.02360773, -0.02391112],\n",
              "        [ 0.04623229,  0.03282061, -0.02266278,  0.01463094],\n",
              "        [ 0.24817602,  0.22866288, -0.28726876,  0.22425152],\n",
              "        [ 0.02196867,  0.02080507, -0.00653347, -0.03011754],\n",
              "        [-0.21300021, -0.20823544,  0.24230193, -0.28707692],\n",
              "        [-0.04955516,  0.03196316,  0.01656014,  0.03667264],\n",
              "        [ 0.01653076,  0.04249318,  0.04156977,  0.03835199],\n",
              "        [-0.00375251, -0.01037046,  0.04479852, -0.00345279],\n",
              "        [-0.02839962,  0.02928747, -0.04155848,  0.04352292],\n",
              "        [ 0.264647  ,  0.21860768, -0.21636377, -0.01202946],\n",
              "        [-0.02184515, -0.02001137,  0.0175792 , -0.01733888],\n",
              "        [ 0.0420051 ,  0.04500892,  0.01195347, -0.00290658],\n",
              "        [ 0.04867775, -0.00049338, -0.01943379,  0.00693164],\n",
              "        [-0.03497098, -0.01741863, -0.01501347, -0.019501  ],\n",
              "        [ 0.21884094,  0.23656884, -0.2175134 ,  0.25209367],\n",
              "        [-0.04696708, -0.00479858, -0.01810791, -0.02927369],\n",
              "        [ 0.01427488,  0.02296735,  0.03185919,  0.03503933],\n",
              "        [ 0.01903311, -0.00437009,  0.04380124, -0.01163221],\n",
              "        [ 0.01807524, -0.01693537, -0.02397626,  0.00416552],\n",
              "        [-0.03320764,  0.03302706, -0.04065115,  0.02604654],\n",
              "        [ 0.03845433,  0.0349966 ,  0.03681955,  0.01565045],\n",
              "        [-0.02198672, -0.04497639, -0.04503379,  0.00902174],\n",
              "        [-0.00960112, -0.00714351,  0.04926853,  0.01374899],\n",
              "        [ 0.04313076, -0.03650368,  0.0261372 ,  0.0174616 ],\n",
              "        [ 0.15662113, -0.20677087, -0.22002105,  0.19381356],\n",
              "        [ 0.01679381, -0.03761916, -0.02374169, -0.01000055],\n",
              "        [-0.02910765, -0.01609536, -0.01479419, -0.00700209],\n",
              "        [-0.02434739,  0.0406857 , -0.01813921,  0.03668253]],\n",
              "       dtype=float32)]"
            ]
          },
          "metadata": {
            "tags": []
          },
          "execution_count": 15
        }
      ]
    },
    {
      "cell_type": "markdown",
      "metadata": {
        "id": "QaAsmTJneRLw",
        "colab_type": "text"
      },
      "source": [
        "## embeddings are useful for **sparse data** (for instance, large one_hot encodings)"
      ]
    },
    {
      "cell_type": "markdown",
      "metadata": {
        "id": "tEedyt5VfJIC",
        "colab_type": "text"
      },
      "source": [
        "## you can use existing embeddings as starting point of your training: **transfer learning**"
      ]
    },
    {
      "cell_type": "code",
      "metadata": {
        "id": "u9UJtcR5aKQ2",
        "colab_type": "code",
        "colab": {}
      },
      "source": [
        ""
      ],
      "execution_count": 0,
      "outputs": []
    },
    {
      "cell_type": "markdown",
      "metadata": {
        "id": "4yhVsAlUB5HV",
        "colab_type": "text"
      },
      "source": [
        "# A larger example with IMDB\n",
        "\n",
        "### Movie reviews with labels (positive or negative)"
      ]
    },
    {
      "cell_type": "code",
      "metadata": {
        "id": "WQhpGfFmaKMe",
        "colab_type": "code",
        "colab": {}
      },
      "source": [
        ""
      ],
      "execution_count": 0,
      "outputs": []
    },
    {
      "cell_type": "code",
      "metadata": {
        "id": "xvUJ6jL7EITl",
        "colab_type": "code",
        "colab": {}
      },
      "source": [
        "from tensorflow.keras.datasets import imdb\n",
        "from tensorflow.keras import preprocessing\n",
        "max_features = 5000\n",
        "maxlen = 500\n"
      ],
      "execution_count": 0,
      "outputs": []
    },
    {
      "cell_type": "markdown",
      "metadata": {
        "id": "6hWC9crqCLgR",
        "colab_type": "text"
      },
      "source": [
        "### Observe IMDB data is already one hot encoded with a premade dictionary\n",
        "\n",
        "- `max_features`: the dictionary size\n",
        "- `max_len`: the maximum number of words per review"
      ]
    },
    {
      "cell_type": "code",
      "metadata": {
        "id": "u1WYnbhhEITp",
        "colab_type": "code",
        "outputId": "fb949e0a-adb2-47f3-d142-8d66b9fac3dd",
        "colab": {
          "base_uri": "https://localhost:8080/",
          "height": 191
        }
      },
      "source": [
        "(x_train, y_train), (x_test, y_test) = imdb.load_data(num_words=max_features) \n",
        "for i in range(10):\n",
        "    print (i, len(x_train[i]), y_train[i], x_train[i][:20])"
      ],
      "execution_count": 0,
      "outputs": [
        {
          "output_type": "stream",
          "text": [
            "0 218 1 [1, 14, 22, 16, 43, 530, 973, 1622, 1385, 65, 458, 4468, 66, 3941, 4, 173, 36, 256, 5, 25]\n",
            "1 189 0 [1, 194, 1153, 194, 2, 78, 228, 5, 6, 1463, 4369, 2, 134, 26, 4, 715, 8, 118, 1634, 14]\n",
            "2 141 0 [1, 14, 47, 8, 30, 31, 7, 4, 249, 108, 7, 4, 2, 54, 61, 369, 13, 71, 149, 14]\n",
            "3 550 1 [1, 4, 2, 2, 33, 2804, 4, 2040, 432, 111, 153, 103, 4, 1494, 13, 70, 131, 67, 11, 61]\n",
            "4 147 0 [1, 249, 1323, 7, 61, 113, 10, 10, 13, 1637, 14, 20, 56, 33, 2401, 18, 457, 88, 13, 2626]\n",
            "5 43 0 [1, 778, 128, 74, 12, 630, 163, 15, 4, 1766, 2, 1051, 2, 32, 85, 156, 45, 40, 148, 139]\n",
            "6 123 1 [1, 2, 365, 1234, 5, 1156, 354, 11, 14, 2, 2, 7, 1016, 2, 2, 356, 44, 4, 1349, 500]\n",
            "7 562 0 [1, 4, 2, 716, 4, 65, 7, 4, 689, 4367, 2, 2343, 4804, 2, 2, 2, 2, 2315, 2, 2]\n",
            "8 233 1 [1, 43, 188, 46, 5, 566, 264, 51, 6, 530, 664, 14, 9, 1713, 81, 25, 1135, 46, 7, 6]\n",
            "9 130 0 [1, 14, 20, 47, 111, 439, 3445, 19, 12, 15, 166, 12, 216, 125, 40, 6, 364, 352, 707, 1187]\n"
          ],
          "name": "stdout"
        }
      ]
    },
    {
      "cell_type": "markdown",
      "metadata": {
        "id": "EPUoEPJQCp5u",
        "colab_type": "text"
      },
      "source": [
        "### We could also inspect the dictionary and actual words in some reviews"
      ]
    },
    {
      "cell_type": "code",
      "metadata": {
        "id": "JAOcYLmyEITv",
        "colab_type": "code",
        "outputId": "f2ccded1-64f8-41fd-b8a8-d736955cf188",
        "colab": {
          "base_uri": "https://localhost:8080/",
          "height": 124
        }
      },
      "source": [
        "wi = imdb.get_word_index()\n",
        "iw = {v:k for k,v in wi.items()}\n",
        "for i in range(5):\n",
        "    print (i, [iw[j] for j in x_train[i][:20]])"
      ],
      "execution_count": 0,
      "outputs": [
        {
          "output_type": "stream",
          "text": [
            "0 ['the', 'as', 'you', 'with', 'out', 'themselves', 'powerful', 'lets', 'loves', 'their', 'becomes', 'reaching', 'had', 'journalist', 'of', 'lot', 'from', 'anyone', 'to', 'have']\n",
            "1 ['the', 'thought', 'solid', 'thought', 'and', 'do', 'making', 'to', 'is', 'spot', 'nomination', 'and', 'while', 'he', 'of', 'jack', 'in', 'where', 'picked', 'as']\n",
            "2 ['the', 'as', 'there', 'in', 'at', 'by', 'br', 'of', 'sure', 'many', 'br', 'of', 'and', 'no', 'only', 'women', 'was', 'than', \"doesn't\", 'as']\n",
            "3 ['the', 'of', 'and', 'and', 'they', 'halfway', 'of', 'identity', 'went', 'plot', 'actors', 'watch', 'of', 'share', 'was', 'well', 'these', 'can', 'this', 'only']\n",
            "4 ['the', 'sure', 'themes', 'br', 'only', 'acting', 'i', 'i', 'was', 'favourite', 'as', 'on', 'she', 'they', 'hat', 'but', 'already', 'most', 'was', 'scares']\n"
          ],
          "name": "stdout"
        }
      ]
    },
    {
      "cell_type": "code",
      "metadata": {
        "id": "VX6blmShEIT8",
        "colab_type": "code",
        "colab": {}
      },
      "source": [
        ""
      ],
      "execution_count": 0,
      "outputs": []
    },
    {
      "cell_type": "markdown",
      "metadata": {
        "id": "aTdRdziyCypT",
        "colab_type": "text"
      },
      "source": [
        "### Pad reviews so that all of them have the same length\n"
      ]
    },
    {
      "cell_type": "code",
      "metadata": {
        "id": "Xjz2CXaYEIT_",
        "colab_type": "code",
        "colab": {}
      },
      "source": [
        "from tensorflow.keras import preprocessing\n",
        "xx_train = preprocessing.sequence.pad_sequences(x_train, maxlen=maxlen)\n",
        "xx_test = preprocessing.sequence.pad_sequences(x_test, maxlen=maxlen)"
      ],
      "execution_count": 0,
      "outputs": []
    },
    {
      "cell_type": "code",
      "metadata": {
        "id": "cUrR4OPaEIUG",
        "colab_type": "code",
        "outputId": "4750e342-f9d5-4a62-dee6-1498160bd70e",
        "colab": {
          "base_uri": "https://localhost:8080/",
          "height": 35
        }
      },
      "source": [
        "xx_train.shape"
      ],
      "execution_count": 0,
      "outputs": [
        {
          "output_type": "execute_result",
          "data": {
            "text/plain": [
              "(25000, 500)"
            ]
          },
          "metadata": {
            "tags": []
          },
          "execution_count": 22
        }
      ]
    },
    {
      "cell_type": "code",
      "metadata": {
        "id": "fvcLMyDVEIUL",
        "colab_type": "code",
        "outputId": "82fddb91-c4e7-49d4-ecf5-62cb4b847ff3",
        "colab": {
          "base_uri": "https://localhost:8080/",
          "height": 55
        }
      },
      "source": [
        "print (x_train[0])"
      ],
      "execution_count": 0,
      "outputs": [
        {
          "output_type": "stream",
          "text": [
            "[1, 14, 22, 16, 43, 530, 973, 1622, 1385, 65, 458, 4468, 66, 3941, 4, 173, 36, 256, 5, 25, 100, 43, 838, 112, 50, 670, 2, 9, 35, 480, 284, 5, 150, 4, 172, 112, 167, 2, 336, 385, 39, 4, 172, 4536, 1111, 17, 546, 38, 13, 447, 4, 192, 50, 16, 6, 147, 2025, 19, 14, 22, 4, 1920, 4613, 469, 4, 22, 71, 87, 12, 16, 43, 530, 38, 76, 15, 13, 1247, 4, 22, 17, 515, 17, 12, 16, 626, 18, 2, 5, 62, 386, 12, 8, 316, 8, 106, 5, 4, 2223, 2, 16, 480, 66, 3785, 33, 4, 130, 12, 16, 38, 619, 5, 25, 124, 51, 36, 135, 48, 25, 1415, 33, 6, 22, 12, 215, 28, 77, 52, 5, 14, 407, 16, 82, 2, 8, 4, 107, 117, 2, 15, 256, 4, 2, 7, 3766, 5, 723, 36, 71, 43, 530, 476, 26, 400, 317, 46, 7, 4, 2, 1029, 13, 104, 88, 4, 381, 15, 297, 98, 32, 2071, 56, 26, 141, 6, 194, 2, 18, 4, 226, 22, 21, 134, 476, 26, 480, 5, 144, 30, 2, 18, 51, 36, 28, 224, 92, 25, 104, 4, 226, 65, 16, 38, 1334, 88, 12, 16, 283, 5, 16, 4472, 113, 103, 32, 15, 16, 2, 19, 178, 32]\n"
          ],
          "name": "stdout"
        }
      ]
    },
    {
      "cell_type": "code",
      "metadata": {
        "id": "lvmmUTboEIUP",
        "colab_type": "code",
        "outputId": "ab4214cc-a4fe-4536-b423-0244b1fca532",
        "colab": {
          "base_uri": "https://localhost:8080/",
          "height": 815
        }
      },
      "source": [
        "xx_train[0]"
      ],
      "execution_count": 0,
      "outputs": [
        {
          "output_type": "execute_result",
          "data": {
            "text/plain": [
              "array([   0,    0,    0,    0,    0,    0,    0,    0,    0,    0,    0,\n",
              "          0,    0,    0,    0,    0,    0,    0,    0,    0,    0,    0,\n",
              "          0,    0,    0,    0,    0,    0,    0,    0,    0,    0,    0,\n",
              "          0,    0,    0,    0,    0,    0,    0,    0,    0,    0,    0,\n",
              "          0,    0,    0,    0,    0,    0,    0,    0,    0,    0,    0,\n",
              "          0,    0,    0,    0,    0,    0,    0,    0,    0,    0,    0,\n",
              "          0,    0,    0,    0,    0,    0,    0,    0,    0,    0,    0,\n",
              "          0,    0,    0,    0,    0,    0,    0,    0,    0,    0,    0,\n",
              "          0,    0,    0,    0,    0,    0,    0,    0,    0,    0,    0,\n",
              "          0,    0,    0,    0,    0,    0,    0,    0,    0,    0,    0,\n",
              "          0,    0,    0,    0,    0,    0,    0,    0,    0,    0,    0,\n",
              "          0,    0,    0,    0,    0,    0,    0,    0,    0,    0,    0,\n",
              "          0,    0,    0,    0,    0,    0,    0,    0,    0,    0,    0,\n",
              "          0,    0,    0,    0,    0,    0,    0,    0,    0,    0,    0,\n",
              "          0,    0,    0,    0,    0,    0,    0,    0,    0,    0,    0,\n",
              "          0,    0,    0,    0,    0,    0,    0,    0,    0,    0,    0,\n",
              "          0,    0,    0,    0,    0,    0,    0,    0,    0,    0,    0,\n",
              "          0,    0,    0,    0,    0,    0,    0,    0,    0,    0,    0,\n",
              "          0,    0,    0,    0,    0,    0,    0,    0,    0,    0,    0,\n",
              "          0,    0,    0,    0,    0,    0,    0,    0,    0,    0,    0,\n",
              "          0,    0,    0,    0,    0,    0,    0,    0,    0,    0,    0,\n",
              "          0,    0,    0,    0,    0,    0,    0,    0,    0,    0,    0,\n",
              "          0,    0,    0,    0,    0,    0,    0,    0,    0,    0,    0,\n",
              "          0,    0,    0,    0,    0,    0,    0,    0,    0,    0,    0,\n",
              "          0,    0,    0,    0,    0,    0,    0,    0,    0,    0,    0,\n",
              "          0,    0,    0,    0,    0,    0,    0,    1,   14,   22,   16,\n",
              "         43,  530,  973, 1622, 1385,   65,  458, 4468,   66, 3941,    4,\n",
              "        173,   36,  256,    5,   25,  100,   43,  838,  112,   50,  670,\n",
              "          2,    9,   35,  480,  284,    5,  150,    4,  172,  112,  167,\n",
              "          2,  336,  385,   39,    4,  172, 4536, 1111,   17,  546,   38,\n",
              "         13,  447,    4,  192,   50,   16,    6,  147, 2025,   19,   14,\n",
              "         22,    4, 1920, 4613,  469,    4,   22,   71,   87,   12,   16,\n",
              "         43,  530,   38,   76,   15,   13, 1247,    4,   22,   17,  515,\n",
              "         17,   12,   16,  626,   18,    2,    5,   62,  386,   12,    8,\n",
              "        316,    8,  106,    5,    4, 2223,    2,   16,  480,   66, 3785,\n",
              "         33,    4,  130,   12,   16,   38,  619,    5,   25,  124,   51,\n",
              "         36,  135,   48,   25, 1415,   33,    6,   22,   12,  215,   28,\n",
              "         77,   52,    5,   14,  407,   16,   82,    2,    8,    4,  107,\n",
              "        117,    2,   15,  256,    4,    2,    7, 3766,    5,  723,   36,\n",
              "         71,   43,  530,  476,   26,  400,  317,   46,    7,    4,    2,\n",
              "       1029,   13,  104,   88,    4,  381,   15,  297,   98,   32, 2071,\n",
              "         56,   26,  141,    6,  194,    2,   18,    4,  226,   22,   21,\n",
              "        134,  476,   26,  480,    5,  144,   30,    2,   18,   51,   36,\n",
              "         28,  224,   92,   25,  104,    4,  226,   65,   16,   38, 1334,\n",
              "         88,   12,   16,  283,    5,   16, 4472,  113,  103,   32,   15,\n",
              "         16,    2,   19,  178,   32], dtype=int32)"
            ]
          },
          "metadata": {
            "tags": []
          },
          "execution_count": 24
        }
      ]
    },
    {
      "cell_type": "markdown",
      "metadata": {
        "id": "c59e0LezDAtU",
        "colab_type": "text"
      },
      "source": [
        "### Create a simple model"
      ]
    },
    {
      "cell_type": "code",
      "metadata": {
        "id": "KjSoRXwxEIUU",
        "colab_type": "code",
        "outputId": "47df3e93-edae-4fb0-acba-3f2f28f4d987",
        "colab": {
          "base_uri": "https://localhost:8080/",
          "height": 295
        }
      },
      "source": [
        "from tensorflow.keras.layers import Embedding, Flatten, Dense, Conv1D, MaxPooling1D\n",
        "from tensorflow.keras.models import Sequential\n",
        "model = Sequential()\n",
        "embedding_layer = Embedding(max_features, 32, input_length=maxlen)\n",
        "model.add(embedding_layer)\n",
        "model.add(Flatten())\n",
        "model.add(Dense(250, activation='relu'))\n",
        "model.add(Dense(1, activation='sigmoid'))\n",
        "model.summary() "
      ],
      "execution_count": 0,
      "outputs": [
        {
          "output_type": "stream",
          "text": [
            "Model: \"sequential_2\"\n",
            "_________________________________________________________________\n",
            "Layer (type)                 Output Shape              Param #   \n",
            "=================================================================\n",
            "embedding_2 (Embedding)      (None, 500, 32)           160000    \n",
            "_________________________________________________________________\n",
            "flatten_2 (Flatten)          (None, 16000)             0         \n",
            "_________________________________________________________________\n",
            "dense_2 (Dense)              (None, 250)               4000250   \n",
            "_________________________________________________________________\n",
            "dense_3 (Dense)              (None, 1)                 251       \n",
            "=================================================================\n",
            "Total params: 4,160,501\n",
            "Trainable params: 4,160,501\n",
            "Non-trainable params: 0\n",
            "_________________________________________________________________\n"
          ],
          "name": "stdout"
        }
      ]
    },
    {
      "cell_type": "code",
      "metadata": {
        "id": "QVLV9SxyEIUX",
        "colab_type": "code",
        "outputId": "991056b4-c2ae-4f15-9c74-0fbdde340dbc",
        "colab": {
          "base_uri": "https://localhost:8080/",
          "height": 401
        }
      },
      "source": [
        "model.compile(optimizer='adam', loss='binary_crossentropy', metrics=['accuracy'])\n",
        "history = model.fit(xx_train, y_train, epochs=10, batch_size=32, validation_split=0.2)"
      ],
      "execution_count": 0,
      "outputs": [
        {
          "output_type": "stream",
          "text": [
            "Train on 20000 samples, validate on 5000 samples\n",
            "Epoch 1/10\n",
            "20000/20000 [==============================] - 6s 316us/sample - loss: 0.4656 - accuracy: 0.7428 - val_loss: 0.3079 - val_accuracy: 0.8670\n",
            "Epoch 2/10\n",
            "20000/20000 [==============================] - 6s 288us/sample - loss: 0.1576 - accuracy: 0.9413 - val_loss: 0.3513 - val_accuracy: 0.8614\n",
            "Epoch 3/10\n",
            "20000/20000 [==============================] - 6s 283us/sample - loss: 0.0296 - accuracy: 0.9920 - val_loss: 0.5231 - val_accuracy: 0.8582\n",
            "Epoch 4/10\n",
            "20000/20000 [==============================] - 6s 289us/sample - loss: 0.0039 - accuracy: 0.9995 - val_loss: 0.6693 - val_accuracy: 0.8632\n",
            "Epoch 5/10\n",
            "20000/20000 [==============================] - 6s 298us/sample - loss: 3.9839e-04 - accuracy: 1.0000 - val_loss: 0.7206 - val_accuracy: 0.8664\n",
            "Epoch 6/10\n",
            "20000/20000 [==============================] - 6s 295us/sample - loss: 1.2997e-04 - accuracy: 1.0000 - val_loss: 0.7692 - val_accuracy: 0.8652\n",
            "Epoch 7/10\n",
            "20000/20000 [==============================] - 6s 290us/sample - loss: 7.1594e-05 - accuracy: 1.0000 - val_loss: 0.8031 - val_accuracy: 0.8648\n",
            "Epoch 8/10\n",
            "20000/20000 [==============================] - 6s 288us/sample - loss: 4.3640e-05 - accuracy: 1.0000 - val_loss: 0.8340 - val_accuracy: 0.8652\n",
            "Epoch 9/10\n",
            "20000/20000 [==============================] - 6s 284us/sample - loss: 2.7725e-05 - accuracy: 1.0000 - val_loss: 0.8627 - val_accuracy: 0.8650\n",
            "Epoch 10/10\n",
            "20000/20000 [==============================] - 6s 291us/sample - loss: 1.8534e-05 - accuracy: 1.0000 - val_loss: 0.8909 - val_accuracy: 0.8650\n"
          ],
          "name": "stdout"
        }
      ]
    },
    {
      "cell_type": "markdown",
      "metadata": {
        "id": "3GNiYBqfDneZ",
        "colab_type": "text"
      },
      "source": [
        "### And we could even try a 1D convolutional layer on the sequence"
      ]
    },
    {
      "cell_type": "code",
      "metadata": {
        "id": "kZRGU4M_EIUx",
        "colab_type": "code",
        "outputId": "d1bbf9cf-aa65-4113-807e-9861d84bd33d",
        "colab": {
          "base_uri": "https://localhost:8080/",
          "height": 381
        }
      },
      "source": [
        "# create the model\n",
        "model = Sequential()\n",
        "embedding_layer = Embedding(max_features, 8, input_length=maxlen)\n",
        "\n",
        "model.add(embedding_layer)\n",
        "model.add(Conv1D(filters=32, kernel_size=3, padding='same', activation='relu'))\n",
        "model.add(MaxPooling1D(pool_size=2))\n",
        "model.add(Flatten())\n",
        "model.add(Dense(250, activation='relu'))\n",
        "model.add(Dense(1, activation='sigmoid'))\n",
        "model.compile(loss='binary_crossentropy', optimizer='adam', metrics=['accuracy'])\n",
        "model.summary()"
      ],
      "execution_count": 0,
      "outputs": [
        {
          "output_type": "stream",
          "text": [
            "Model: \"sequential_5\"\n",
            "_________________________________________________________________\n",
            "Layer (type)                 Output Shape              Param #   \n",
            "=================================================================\n",
            "embedding_6 (Embedding)      (None, 500, 8)            40000     \n",
            "_________________________________________________________________\n",
            "conv1d (Conv1D)              (None, 500, 32)           800       \n",
            "_________________________________________________________________\n",
            "max_pooling1d (MaxPooling1D) (None, 250, 32)           0         \n",
            "_________________________________________________________________\n",
            "flatten_5 (Flatten)          (None, 8000)              0         \n",
            "_________________________________________________________________\n",
            "dense_10 (Dense)             (None, 250)               2000250   \n",
            "_________________________________________________________________\n",
            "dense_11 (Dense)             (None, 1)                 251       \n",
            "=================================================================\n",
            "Total params: 2,041,301\n",
            "Trainable params: 2,041,301\n",
            "Non-trainable params: 0\n",
            "_________________________________________________________________\n"
          ],
          "name": "stdout"
        }
      ]
    },
    {
      "cell_type": "code",
      "metadata": {
        "id": "NmA7mu3iEIU0",
        "colab_type": "code",
        "outputId": "8628e4e8-8584-4658-fb3f-4b57977353a4",
        "colab": {
          "base_uri": "https://localhost:8080/",
          "height": 399
        }
      },
      "source": [
        "model.compile(optimizer='rmsprop', loss='binary_crossentropy', metrics=['acc'])\n",
        "history = model.fit(xx_train, y_train, epochs=10, batch_size=32, validation_split=0.2)"
      ],
      "execution_count": 0,
      "outputs": [
        {
          "output_type": "stream",
          "text": [
            "Train on 20000 samples, validate on 5000 samples\n",
            "Epoch 1/10\n",
            "20000/20000 [==============================] - 10s 479us/sample - loss: 0.4164 - acc: 0.7915 - val_loss: 0.3195 - val_acc: 0.8638\n",
            "Epoch 2/10\n",
            "20000/20000 [==============================] - 4s 216us/sample - loss: 0.2387 - acc: 0.9054 - val_loss: 0.2665 - val_acc: 0.8928\n",
            "Epoch 3/10\n",
            "20000/20000 [==============================] - 4s 219us/sample - loss: 0.1909 - acc: 0.9278 - val_loss: 0.3000 - val_acc: 0.8810\n",
            "Epoch 4/10\n",
            "20000/20000 [==============================] - 4s 214us/sample - loss: 0.1616 - acc: 0.9385 - val_loss: 0.3005 - val_acc: 0.8932\n",
            "Epoch 5/10\n",
            "20000/20000 [==============================] - 4s 213us/sample - loss: 0.1339 - acc: 0.9511 - val_loss: 0.3036 - val_acc: 0.8928\n",
            "Epoch 6/10\n",
            "20000/20000 [==============================] - 4s 220us/sample - loss: 0.1073 - acc: 0.9614 - val_loss: 0.3689 - val_acc: 0.8896\n",
            "Epoch 7/10\n",
            "20000/20000 [==============================] - 4s 213us/sample - loss: 0.0814 - acc: 0.9701 - val_loss: 0.4984 - val_acc: 0.8758\n",
            "Epoch 8/10\n",
            "20000/20000 [==============================] - 4s 215us/sample - loss: 0.0590 - acc: 0.9793 - val_loss: 0.5808 - val_acc: 0.8790\n",
            "Epoch 9/10\n",
            "20000/20000 [==============================] - 4s 222us/sample - loss: 0.0396 - acc: 0.9865 - val_loss: 0.6858 - val_acc: 0.8698\n",
            "Epoch 10/10\n",
            "20000/20000 [==============================] - 4s 214us/sample - loss: 0.0264 - acc: 0.9912 - val_loss: 0.7771 - val_acc: 0.8808\n"
          ],
          "name": "stdout"
        }
      ]
    },
    {
      "cell_type": "code",
      "metadata": {
        "id": "hmkrovhbEIU4",
        "colab_type": "code",
        "colab": {}
      },
      "source": [
        ""
      ],
      "execution_count": 0,
      "outputs": []
    }
  ]
}