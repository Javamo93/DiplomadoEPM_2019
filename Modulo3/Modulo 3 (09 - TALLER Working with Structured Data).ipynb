{
 "cells": [
  {
   "cell_type": "code",
   "execution_count": null,
   "metadata": {},
   "outputs": [],
   "source": [
    "!wget --no-cache -O init.py -q https://raw.githubusercontent.com/jdariasl/DiplomadoEPM_2019/master/Modulo3/init.py\n",
    "from init import init; init(force_download=False)"
   ]
  },
  {
   "cell_type": "code",
   "execution_count": 1,
   "metadata": {},
   "outputs": [
    {
     "data": {
      "text/plain": [
       "'2.1.0'"
      ]
     },
     "execution_count": 1,
     "metadata": {},
     "output_type": "execute_result"
    }
   ],
   "source": [
    "try:\n",
    "    %tensorflow_version 2.x\n",
    "    print (\"Using TF2 in Google Colab\")\n",
    "except:\n",
    "    pass\n",
    "import numpy as np\n",
    "import tensorflow as tf\n",
    "import matplotlib.pyplot as plt\n",
    "from local.lib import mlutils\n",
    "%matplotlib inline\n",
    "from sklearn.datasets import *\n",
    "tf.__version__"
   ]
  },
  {
   "cell_type": "markdown",
   "metadata": {},
   "source": [
    "# LAB: add embeddings and cross columns\n",
    "\n",
    "\n",
    "### check first [this tutorial](https://www.tensorflow.org/tutorials/structured_data/feature_columns)"
   ]
  },
  {
   "cell_type": "markdown",
   "metadata": {},
   "source": [
    "**this is the same code as in the corresponding notebook**"
   ]
  },
  {
   "cell_type": "code",
   "execution_count": 2,
   "metadata": {},
   "outputs": [],
   "source": [
    "import pandas as pd"
   ]
  },
  {
   "cell_type": "code",
   "execution_count": 3,
   "metadata": {},
   "outputs": [],
   "source": [
    "cols = ['age', 'workclass', 'fnlwgt', 'education', 'education-num', 'marital-status', 'occupation', \n",
    "        'relationship', 'race', 'sex', 'capital-gain', 'capital-loss', 'hours-per-week', 'native-country',\n",
    "        'label' ]"
   ]
  },
  {
   "cell_type": "code",
   "execution_count": 4,
   "metadata": {},
   "outputs": [],
   "source": [
    "d = pd.read_csv('https://archive.ics.uci.edu/ml/machine-learning-databases/adult/adult.data',\n",
    "                names=cols)"
   ]
  },
  {
   "cell_type": "code",
   "execution_count": 5,
   "metadata": {},
   "outputs": [
    {
     "data": {
      "text/plain": [
       "(32561, 22792, 9769)"
      ]
     },
     "execution_count": 5,
     "metadata": {},
     "output_type": "execute_result"
    }
   ],
   "source": [
    "train_pct = .7\n",
    "p = np.random.permutation(len(d))\n",
    "idxs_train = p[:int(len(p)*train_pct)]\n",
    "idxs_test  = p[int(len(p)*train_pct):]\n",
    "len(d), len(idxs_train), len(idxs_test)"
   ]
  },
  {
   "cell_type": "code",
   "execution_count": 6,
   "metadata": {},
   "outputs": [],
   "source": [
    "labels = np.r_[[0 if \"<=50K\" in i else 1 for i in d.label]]\n",
    "\n",
    "train_ds = tf.data.Dataset.from_tensor_slices( \n",
    "    (dict(d.iloc[idxs_train][[i for i in d.columns if i!='label']]), labels[idxs_train]))\n",
    "\n",
    "test_ds = tf.data.Dataset.from_tensor_slices( \n",
    "    (dict(d.iloc[idxs_test][[i for i in d.columns if i!='label']]), labels[idxs_test]))"
   ]
  },
  {
   "cell_type": "code",
   "execution_count": 7,
   "metadata": {},
   "outputs": [],
   "source": [
    "fage  = tf.feature_column.numeric_column('age', default_value=0)\n",
    "feducation_num = tf.feature_column.numeric_column(\"education-num\", default_value=0)\n",
    "fcapital_gain  = tf.feature_column.numeric_column(\"capital-gain\", default_value=0)\n",
    "fcapital_loss  = tf.feature_column.numeric_column(\"capital-loss\", default_value=0)\n",
    "hpw            = tf.feature_column.numeric_column(\"hours-per-week\", default_value=0)\n",
    "\n",
    "frace = tf.feature_column.categorical_column_with_vocabulary_list(\"race\", list(np.unique(d.race)))\n",
    "crace = tf.feature_column.indicator_column(frace)\n",
    "\n",
    "fmar = tf.feature_column.categorical_column_with_vocabulary_list(\"marital-status\", list(np.unique(d[\"marital-status\"])))\n",
    "cmar = tf.feature_column.indicator_column(fmar)\n",
    "\n",
    "focc = tf.feature_column.categorical_column_with_vocabulary_list(\"occupation\", list(np.unique(d[\"occupation\"])))\n",
    "cocc = tf.feature_column.indicator_column(focc)\n"
   ]
  },
  {
   "cell_type": "code",
   "execution_count": 8,
   "metadata": {},
   "outputs": [],
   "source": [
    "def get_model(featureset):\n",
    "    model = tf.keras.Sequential()\n",
    "    model.add(tf.keras.layers.DenseFeatures(featureset, dtype=tf.float64))\n",
    "    model.add(tf.keras.layers.Dense(100, activation=\"tanh\"))\n",
    "    model.add(tf.keras.layers.Dense(50, activation=\"tanh\"))\n",
    "    model.add(tf.keras.layers.Dense(1, activation=\"sigmoid\"))\n",
    "    model.compile(optimizer=\"adam\",\n",
    "                  loss=tf.keras.losses.MeanSquaredError(),\n",
    "                  metrics=['accuracy'])\n",
    "    return model"
   ]
  },
  {
   "cell_type": "markdown",
   "metadata": {},
   "source": [
    "### TASK 1: add an embedding column for `native-country` with dimension 10\n",
    "\n",
    "- observe that your **FIRST** have to create a categorical column and **THEN** use it to create the embedding column\n",
    "- use **ALL** available features."
   ]
  },
  {
   "cell_type": "code",
   "execution_count": 9,
   "metadata": {},
   "outputs": [],
   "source": [
    "ecountry = ...\n",
    "features = ...\n",
    "model = ...\n",
    "model.fit(...)"
   ]
  },
  {
   "cell_type": "code",
   "execution_count": 16,
   "metadata": {},
   "outputs": [],
   "source": [
    "# uncomment these lines to see the solution\n",
    "#sol = [10, 102, 99, 111, 117, 110, 116, 114, 121, 32, 61, 32, 116, 102, 46, 102, 101, 97, 116, 117, 114, 101, 95, 99, 111, 108, 117, 109, 110, 46, 99, 97, 116, 101, 103, 111, 114, 105, 99, 97, 108, 95, 99, 111, 108, 117, 109, 110, 95, 119, 105, 116, 104, 95, 118, 111, 99, 97, 98, 117, 108, 97, 114, 121, 95, 108, 105, 115, 116, 40, 34, 110, 97, 116, 105, 118, 101, 45, 99, 111, 117, 110, 116, 114, 121, 34, 44, 32, 108, 105, 115, 116, 40, 110, 112, 46, 117, 110, 105, 113, 117, 101, 40, 100, 91, 34, 110, 97, 116, 105, 118, 101, 45, 99, 111, 117, 110, 116, 114, 121, 34, 93, 41, 41, 41, 10, 101, 99, 111, 117, 110, 116, 114, 121, 32, 61, 32, 116, 102, 46, 102, 101, 97, 116, 117, 114, 101, 95, 99, 111, 108, 117, 109, 110, 46, 101, 109, 98, 101, 100, 100, 105, 110, 103, 95, 99, 111, 108, 117, 109, 110, 40, 102, 99, 111, 117, 110, 116, 114, 121, 44, 32, 100, 105, 109, 101, 110, 115, 105, 111, 110, 61, 49, 48, 41, 10, 102, 101, 97, 116, 117, 114, 101, 115, 32, 61, 32, 91, 102, 97, 103, 101, 44, 32, 102, 101, 100, 117, 99, 97, 116, 105, 111, 110, 95, 110, 117, 109, 44, 32, 102, 99, 97, 112, 105, 116, 97, 108, 95, 103, 97, 105, 110, 44, 32, 102, 99, 97, 112, 105, 116, 97, 108, 95, 108, 111, 115, 115, 44, 32, 104, 112, 119, 44, 32, 99, 114, 97, 99, 101, 44, 32, 99, 109, 97, 114, 44, 32, 99, 111, 99, 99, 44, 32, 101, 99, 111, 117, 110, 116, 114, 121, 93, 10, 109, 111, 100, 101, 108, 32, 61, 32, 103, 101, 116, 95, 109, 111, 100, 101, 108, 40, 102, 101, 97, 116, 117, 114, 101, 115, 41, 10, 109, 111, 100, 101, 108, 46, 102, 105, 116, 40, 116, 114, 97, 105, 110, 95, 100, 115, 46, 98, 97, 116, 99, 104, 40, 54, 52, 41, 44, 32, 101, 112, 111, 99, 104, 115, 61, 49, 48, 44, 32, 118, 97, 108, 105, 100, 97, 116, 105, 111, 110, 95, 100, 97, 116, 97, 61, 116, 101, 115, 116, 95, 100, 115, 46, 98, 97, 116, 99, 104, 40, 49, 50, 56, 41, 41, 10]\n",
    "#print (\"\".join([chr(i) for i in sol]))"
   ]
  },
  {
   "cell_type": "code",
   "execution_count": null,
   "metadata": {},
   "outputs": [],
   "source": []
  },
  {
   "cell_type": "markdown",
   "metadata": {},
   "source": [
    "### TASK 2: create a cross column between `race` and `occupation` with `hash_bucket_size=100`\n",
    "\n",
    "observe that:\n",
    "\n",
    "- **FIRST** you need to create the cross column using the corresponding category columns\n",
    "- **THEN** you may choose to use it as input to an `indicator_column` or an `embedding_column`"
   ]
  },
  {
   "cell_type": "code",
   "execution_count": null,
   "metadata": {},
   "outputs": [],
   "source": [
    "newcol = ...\n",
    "features = ...\n",
    "model = ...\n",
    "model.fit(...)"
   ]
  },
  {
   "cell_type": "code",
   "execution_count": 19,
   "metadata": {},
   "outputs": [],
   "source": [
    "# uncomment these lines to see the solution\n",
    "#sol = [10, 102, 120, 99, 111, 108, 49, 32, 61, 32, 116, 102, 46, 102, 101, 97, 116, 117, 114, 101, 95, 99, 111, 108, 117, 109, 110, 46, 99, 114, 111, 115, 115, 101, 100, 95, 99, 111, 108, 117, 109, 110, 40, 91, 102, 114, 97, 99, 101, 44, 32, 102, 111, 99, 99, 93, 44, 32, 104, 97, 115, 104, 95, 98, 117, 99, 107, 101, 116, 95, 115, 105, 122, 101, 61, 49, 48, 48, 41, 10, 99, 120, 99, 111, 108, 49, 32, 61, 32, 116, 102, 46, 102, 101, 97, 116, 117, 114, 101, 95, 99, 111, 108, 117, 109, 110, 46, 105, 110, 100, 105, 99, 97, 116, 111, 114, 95, 99, 111, 108, 117, 109, 110, 40, 102, 120, 99, 111, 108, 49, 41, 10, 101, 120, 99, 111, 108, 49, 32, 61, 32, 116, 102, 46, 102, 101, 97, 116, 117, 114, 101, 95, 99, 111, 108, 117, 109, 110, 46, 101, 109, 98, 101, 100, 100, 105, 110, 103, 95, 99, 111, 108, 117, 109, 110, 40, 102, 120, 99, 111, 108, 49, 44, 32, 100, 105, 109, 101, 110, 115, 105, 111, 110, 61, 50, 48, 41, 10, 10, 35, 32, 99, 104, 111, 111, 115, 101, 32, 101, 105, 116, 104, 101, 114, 32, 111, 110, 101, 10, 102, 101, 97, 116, 117, 114, 101, 115, 32, 61, 32, 91, 102, 97, 103, 101, 44, 32, 102, 101, 100, 117, 99, 97, 116, 105, 111, 110, 95, 110, 117, 109, 44, 32, 102, 99, 97, 112, 105, 116, 97, 108, 95, 103, 97, 105, 110, 44, 32, 102, 99, 97, 112, 105, 116, 97, 108, 95, 108, 111, 115, 115, 44, 32, 104, 112, 119, 44, 32, 99, 114, 97, 99, 101, 44, 32, 99, 109, 97, 114, 44, 32, 99, 111, 99, 99, 44, 32, 101, 99, 111, 117, 110, 116, 114, 121, 44, 32, 99, 120, 99, 111, 108, 49, 93, 10, 102, 101, 97, 116, 117, 114, 101, 115, 32, 61, 32, 91, 102, 97, 103, 101, 44, 32, 102, 101, 100, 117, 99, 97, 116, 105, 111, 110, 95, 110, 117, 109, 44, 32, 102, 99, 97, 112, 105, 116, 97, 108, 95, 103, 97, 105, 110, 44, 32, 102, 99, 97, 112, 105, 116, 97, 108, 95, 108, 111, 115, 115, 44, 32, 104, 112, 119, 44, 32, 99, 114, 97, 99, 101, 44, 32, 99, 109, 97, 114, 44, 32, 99, 111, 99, 99, 44, 32, 101, 99, 111, 117, 110, 116, 114, 121, 44, 32, 101, 120, 99, 111, 108, 49, 93, 10, 109, 111, 100, 101, 108, 32, 61, 32, 103, 101, 116, 95, 109, 111, 100, 101, 108, 40, 102, 101, 97, 116, 117, 114, 101, 115, 41, 10, 109, 111, 100, 101, 108, 46, 102, 105, 116, 40, 116, 114, 97, 105, 110, 95, 100, 115, 46, 98, 97, 116, 99, 104, 40, 54, 52, 41, 44, 32, 101, 112, 111, 99, 104, 115, 61, 49, 48, 44, 32, 118, 97, 108, 105, 100, 97, 116, 105, 111, 110, 95, 100, 97, 116, 97, 61, 116, 101, 115, 116, 95, 100, 115, 46, 98, 97, 116, 99, 104, 40, 49, 50, 56, 41, 41, 10]\n",
    "#print (\"\".join([chr(i) for i in sol]))"
   ]
  },
  {
   "cell_type": "code",
   "execution_count": null,
   "metadata": {},
   "outputs": [],
   "source": []
  }
 ],
 "metadata": {
  "kernelspec": {
   "display_name": "p37",
   "language": "python",
   "name": "p37"
  },
  "language_info": {
   "codemirror_mode": {
    "name": "ipython",
    "version": 3
   },
   "file_extension": ".py",
   "mimetype": "text/x-python",
   "name": "python",
   "nbconvert_exporter": "python",
   "pygments_lexer": "ipython3",
   "version": "3.7.5"
  }
 },
 "nbformat": 4,
 "nbformat_minor": 2
}
