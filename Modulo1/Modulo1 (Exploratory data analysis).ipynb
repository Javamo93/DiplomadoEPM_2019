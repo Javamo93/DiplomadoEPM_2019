{
 "cells": [
  {
   "cell_type": "markdown",
   "metadata": {},
   "source": [
    "# Random sampling and pseudo random numbers\n",
    "See https://docs.python.org/dev/library/random.html#random.random"
   ]
  },
  {
   "cell_type": "code",
   "execution_count": 1,
   "metadata": {},
   "outputs": [
    {
     "name": "stdout",
     "output_type": "stream",
     "text": [
      "[1, 2, 3, 4, 5, 6, 7, 8, 9, 10, 11, 12, 13, 14, 15, 16, 17, 18, 19, 20]\n",
      "[9, 5, 18]\n",
      "['C', 'E', 'C']\n",
      "0.5861338785846442\n",
      "-0.9677060884435433\n",
      "-2.1654994516112116\n",
      "1.6013078329054355\n",
      "-2.1312052668266657\n",
      "-0.46923216096207176\n",
      "0.7002121692978481\n",
      "-0.04894610671913604\n",
      "-1.598107032022175\n",
      "-0.5264576191995657\n",
      "1.7960397428920907\n",
      "2.5560296834078353\n",
      "1.191752788809563\n",
      "1.004760720341837\n",
      "2.4310064432525857\n",
      "2.3665468426279244\n",
      "2.166459753531627\n",
      "2.988510185071689\n",
      "0.32255525697907483\n",
      "1.1644595153971826\n"
     ]
    }
   ],
   "source": [
    "import random\n",
    "\n",
    "#random.seed(123)              # initialize the random number generator\n",
    "random.sample(range(10), k=6)  # sampling (without replacement) k length list of unique elements chosen from the population sequence or set\n",
    "random.sample({'a','b','c','d','e'}, k=1)\n",
    "\n",
    "# make random choices with replacement\n",
    "seq = [i+1 for i in range(20)]\n",
    "print(seq)\n",
    "print(random.choices(seq, k=3))\n",
    "\n",
    "letters = [\"A\", \"B\", \"C\", \"D\", \"E\", \"F\", \"G\"]\n",
    "print(random.choices(letters, k=3))\n",
    "\n",
    "# Pseudo random numbers\n",
    "#random.gauss(mu=0,sigma=1)\n",
    "# sample of random Gaussian numbers\n",
    "for i in range(10):\n",
    "    value = random.gauss(mu=0, sigma=1)\n",
    "    print(value)\n",
    "\n",
    "#random.uniform(a=0, b=3)\n",
    "# sample of random uniform numbers between a <= x < b\n",
    "for i in range(10):\n",
    "    value = random.uniform(a=0, b=3)\n",
    "    print(value)\n"
   ]
  },
  {
   "cell_type": "markdown",
   "metadata": {},
   "source": [
    "# Statistical functions\n",
    "Complete list at https://docs.python.org/3.7/library/statistics.html\n",
    "    \n",
    "Let $X_1,\\ldots,X_n$ be an independent and identically distributed (i.i.d.) random sample from distribution function $F(x)=\\mathbb{P}(X\\leq x)$.\n",
    "    \n",
    "    \n",
    "* Sample mean\n",
    "\n",
    "$$\\bar{X} = \\frac{1}{n}\\sum_{i=1}^{n}X_i$$\n",
    "\n",
    "* Sample median\n",
    "\n",
    "$$\\mathrm{Med}(X_1,\\ldots,X_n) =\n",
    "\\begin{cases}\n",
    "\\frac{1}{2}(X_{n/2:n}+X_{n/2+1:n}),&n\\ \\mathrm{even}\\\\\n",
    "X_{(n+1)/2:n},&n\\ \\mathrm{odd}\n",
    "\\end{cases}\n",
    "$$\n",
    "\n",
    "* Sample variance\n",
    "\n",
    "$$\\widehat{\\mathrm{Var}(X)}= S^2 = \\frac{1}{n-1}\\sum_{i=1}^{n}\\left(X_i - \\bar{X}\\right)^2$$\n",
    "\n",
    "* Sample standar deviation\n",
    "\n",
    "$$\\sqrt{\\widehat{\\mathrm{Var}(X)}}=S=\\sqrt{S^2}$$\n",
    "\n",
    "* Minimum\n",
    "\n",
    "$$\\min \\left\\lbrace X_1,\\ldots,X_n\\right\\rbrace$$\n",
    "\n",
    "* Maximum\n",
    "\n",
    "$$\\max \\left\\lbrace X_1,\\ldots,X_n\\right\\rbrace$$\n",
    "\n",
    "* Quantile\n",
    "\n",
    "$$q(\\alpha)=F^{-1}(\\alpha)=\\inf \\left\\{x\\in\\mathbb{R}\\colon F(x)\\geq \\alpha \\right\\},\\quad 0\\leq\\alpha\\leq1.$$\n",
    "\n",
    "* Sample covariance\n",
    "\n",
    "$$\n",
    "\\widehat{\\mathrm{Cov}(X,Y)}=\\frac{1}{n-1}\\sum_{i=1}^{n}\\left(X_i-\\bar{X}\\right)\\left(Y_i-\\bar{Y}\\right)\n",
    "$$\n",
    "\n",
    "* Sample correlation\n",
    "\n",
    "$$\\widehat{\\mathrm{Corr}(X,Y)}=\\frac{\\widehat{\\mathrm{Cov}(X,Y)}}{\\sqrt{\\widehat{\\mathrm{Var}(X)}}\\sqrt{\\widehat{\\mathrm{Var}(Y)}}}=\\frac{\\sum_{i=i}^{n}\\left(X_i-\\bar{X}\\right)\\left(Y_i-\\bar{Y}\\right)}{\\sqrt{\\sum_{i=n}^{n}\\left(X_{i}-\\bar{X}\\right)^{2}}\\sqrt{\\sum_{i=n}^{n}\\left(Y_{i}-\\bar{Y}\\right)^{2}}}$$\n",
    "\n"
   ]
  },
  {
   "cell_type": "code",
   "execution_count": 2,
   "metadata": {},
   "outputs": [
    {
     "data": {
      "text/plain": [
       "0.006469584102866545"
      ]
     },
     "execution_count": 2,
     "metadata": {},
     "output_type": "execute_result"
    }
   ],
   "source": [
    "import pandas as pd\n",
    "import numpy as np\n",
    "\n",
    "d = pd.Series([random.gauss(mu=0, sigma=1) for i in range(1000)])\n",
    "\n",
    "d = np.random.randn(1000)\n",
    "\n",
    "#from matplotlib import pyplot\n",
    "#pyplot.hist(d)\n",
    "#pyplot.show()\n",
    "\n",
    "d.mean()\n",
    "#d.median()\n",
    "#d.var()\n",
    "#d.std()\n",
    "#d.quantile([0, 0.25, 0.5, 0.75, 1]) # Quartiles\n",
    "#d.describe()"
   ]
  },
  {
   "cell_type": "code",
   "execution_count": 3,
   "metadata": {},
   "outputs": [
    {
     "data": {
      "text/plain": [
       "0.006469584102866547"
      ]
     },
     "execution_count": 3,
     "metadata": {},
     "output_type": "execute_result"
    }
   ],
   "source": [
    "import statistics\n",
    "statistics.mean(d)       # aritmetic mean\n",
    "#statistics.median(d)    # median\n",
    "##statistics.mode(d)     # mode\n",
    "#statistics.variance(d)  # variance\n",
    "#statistics.stdev(d)     # standar deviation\n",
    "#min(d)                  # minimum\n",
    "#max(d)                  # maximum"
   ]
  },
  {
   "cell_type": "code",
   "execution_count": 4,
   "metadata": {},
   "outputs": [
    {
     "data": {
      "text/plain": [
       "0.006469584102866545"
      ]
     },
     "execution_count": 4,
     "metadata": {},
     "output_type": "execute_result"
    }
   ],
   "source": [
    "# Also (see https://docs.scipy.org/doc/numpy/reference/routines.statistics.html)\n",
    "import numpy as np\n",
    "np.mean(d)\n",
    "#np.median(d)\n",
    "#np.var(d)\n",
    "#np.std(d)\n",
    "#np.amin(d)\n",
    "#np.amax(d)\n",
    "#np.quantile(d, [0, 0.25, 0.5, 0.75, 1])\n",
    "#np.cov(d,d)      # covariance matrix\n",
    "#np.corrcoef(d,d) # correlation matrix"
   ]
  },
  {
   "cell_type": "code",
   "execution_count": null,
   "metadata": {},
   "outputs": [],
   "source": []
  }
 ],
 "metadata": {
  "kernelspec": {
   "display_name": "Python 3",
   "language": "python",
   "name": "python3"
  },
  "language_info": {
   "codemirror_mode": {
    "name": "ipython",
    "version": 3
   },
   "file_extension": ".py",
   "mimetype": "text/x-python",
   "name": "python",
   "nbconvert_exporter": "python",
   "pygments_lexer": "ipython3",
   "version": "3.7.0"
  }
 },
 "nbformat": 4,
 "nbformat_minor": 2
}
